{
 "cells": [
  {
   "cell_type": "markdown",
   "metadata": {},
   "source": [
    "# Table of Contents\n",
    "* [1. Quick start with ECEI2D package](#1.-Quick-start-with-ECEI2D-package)\n",
    "\t* [1.1 Initial setup and importing ECEI2D modules](#1.1-Initial-setup-and-importing-ECEI2D-modules)\n",
    "\t* [1.2 Gaussian Antenna detector](#1.2-Gaussian-Antenna-detector)\n",
    "\t* [1.3 Single channel ECE2D diagnosis](#1.3-Single-channel-ECE2D-diagnosis)\n",
    "\t\t* [1.3.1 Diagnose with a user set mesh](#1.3.1-Diagnose-with-a-user-set-mesh)\n",
    "\t\t* [1.3.2 Automatically adjust stepsize](#1.3.2-Automatically-adjust-stepsize)\n",
    "\t\t* [1.3.3 Information about diagnosing locations](#1.3.3-Information-about-diagnosing-locations)\n",
    "\t* [1.4 Multi-channel ECE Imaging](#1.4-Multi-channel-ECE-Imaging)\n",
    "\t\t* [1.4.1 Initialization](#1.4.1-Initialization)\n",
    "\t\t* [1.4.2 Diagnose and examine the result](#1.4.2-Diagnose-and-examine-the-result)\n",
    "\t\t* [1.4.3 Parallel execute](#1.4.3-Parallel-execute)\n",
    "* [2. Benchmarks and Error Assessment](#2.-Benchmarks-and-Error-Assessment)\n",
    "\t* [2.1 Higher harmonic effects](#2.1-Higher-harmonic-effects)\n",
    "\t* [2.2 Error analysis](#2.2-Error-analysis)\n",
    "\t* [2.3 Anisotropic formulism(NOT FINISHED)](#2.3-Anisotropic-formulism%28NOT-FINISHED%29)\n"
   ]
  },
  {
   "cell_type": "markdown",
   "metadata": {},
   "source": [
    "# Quick start with ECEI2D package"
   ]
  },
  {
   "cell_type": "markdown",
   "metadata": {},
   "source": [
    "## Initial setup and importing ECEI2D modules"
   ]
  },
  {
   "cell_type": "code",
   "execution_count": 1,
   "metadata": {
    "ExecuteTime": {
     "end_time": "2017-06-27T16:08:30.307000",
     "start_time": "2017-06-27T16:08:29.724000"
    },
    "collapsed": false
   },
   "outputs": [
    {
     "name": "stdout",
     "output_type": "stream",
     "text": [
      "Not used params: {}\n"
     ]
    }
   ],
   "source": [
    "# Some initial setups\n",
    "from __future__ import print_function\n",
    "import sys\n",
    "\n",
    "import numpy as np\n",
    "from scipy.integrate import trapz, cumtrapz\n",
    "import numpy.fft as fft\n",
    "import matplotlib.pyplot as plt\n",
    "from matplotlib import rcParams\n",
    "\n",
    "from sdp.settings.unitsystem import cgs\n",
    "import sdp.plasma.analytic.testparameter as tp\n",
    "from sdp.plasma.character import PlasmaCharProfile\n",
    "\n",
    "%matplotlib inline\n",
    "\n",
    "rcParams['figure.figsize'] = [12, 9]\n",
    "rcParams['font.size'] = 18\n",
    "\n",
    "c = cgs['c']\n",
    "keV = cgs['keV']\n",
    "e = cgs['e']\n",
    "me = cgs['m_e']\n",
    "\n",
    "# We will use a uniform Te profile to do the benchmarks\n",
    "Te0 = 10*keV\n",
    "ne0 = 2e13\n",
    "tp.set_parameter2D(Te_0 = Te0, ne_0=ne0, Te_shape='uniform', ne_shape='Hmode')\n",
    "p2d_uni = tp.create_profile2D()\n",
    "p2d_uni.setup_interps()\n",
    "\n",
    "pcp_uni = PlasmaCharProfile(p2d_uni)"
   ]
  },
  {
   "cell_type": "markdown",
   "metadata": {},
   "source": [
    "`sdp.diagnostics.ecei.ecei2d` package has mainly three core modules: `ece`, `imaging`, and `detector2d`. They provide three core classes, `ECE2D`, `ECEImagingSystem`, and `GaussianAntenna`, respectively. These three classes are also preloaded in the `ecei2d` package. So you can directly import them from `ecei2d` as in the cell below.\n",
    "\n",
    "Class `ECE2D` carries out a single ECE diagnostic process, `ECEImagingSystem` provides standard methods to initialize and run an array of `ECE2D` objects, and `Detector2D` is a base class for 2D detectors, `GaussianAntenna` is the most commonly used derived class. "
   ]
  },
  {
   "cell_type": "code",
   "execution_count": 2,
   "metadata": {
    "ExecuteTime": {
     "end_time": "2017-06-27T16:08:31.759000",
     "start_time": "2017-06-27T16:08:30.309000"
    },
    "collapsed": true
   },
   "outputs": [],
   "source": [
    "from sdp.diagnostic.ecei.ecei2d import ECE2D, ECEImagingSystem, GaussianAntenna"
   ]
  },
  {
   "cell_type": "markdown",
   "metadata": {},
   "source": [
    "## Gaussian Antenna detector"
   ]
  },
  {
   "cell_type": "markdown",
   "metadata": {},
   "source": [
    "`GaussianAntenna` simulates an antenna pattern that can be described as a Gaussian Beam <a name=\"ref-1\"/>[(Svelto, 2010)](#cite-svelto2010principles). \n",
    "In addition to a single frequency, it accepts a list of frequencies, a list of wave vectors, and a list of corresponding receiving(emitting) powers. This provides a fully customizable frequency bandwidth and shape. \n",
    "Any other keyword arguments passed in the constructor will be given to `sdp.model.lightbeam.GaussianBeam` constructor. In particular, three arguments are required: `waist_x`, `waist_y`, `w_0y`.  "
   ]
  },
  {
   "cell_type": "code",
   "execution_count": 3,
   "metadata": {
    "ExecuteTime": {
     "end_time": "2017-06-27T16:08:31.770000",
     "start_time": "2017-06-27T16:08:31.761000"
    },
    "collapsed": false
   },
   "outputs": [
    {
     "name": "stdout",
     "output_type": "stream",
     "text": [
      "2nd ECE harmonic frequency: 7.03531823569e+11 (rad/s)\n"
     ]
    }
   ],
   "source": [
    "R0 = tp.Parameter2D['R_0']\n",
    "# calculate the local electron cyclotron frequency using the PlasmaCharProfile class\n",
    "pcp_uni = PlasmaCharProfile(p2d_uni)\n",
    "Z = [0]\n",
    "R = [R0]\n",
    "pcp_uni.set_coords([Z,R])\n",
    "\n",
    "omega = 2*pcp_uni.omega_ce[0]\n",
    "print('2nd ECE harmonic frequency: {0} (rad/s)'.format(omega))"
   ]
  },
  {
   "cell_type": "code",
   "execution_count": 4,
   "metadata": {
    "ExecuteTime": {
     "end_time": "2017-06-27T16:08:31.850000",
     "start_time": "2017-06-27T16:08:31.772000"
    },
    "collapsed": true
   },
   "outputs": [],
   "source": [
    "k = omega/c\n",
    "# single frequency detector\n",
    "detector = GaussianAntenna(omega_list=[omega], k_list=[k], power_list=[1], waist_x=175, waist_y=0, w_0y=2)"
   ]
  },
  {
   "cell_type": "markdown",
   "metadata": {},
   "source": [
    "## Single channel ECE2D diagnosis"
   ]
  },
  {
   "cell_type": "markdown",
   "metadata": {},
   "source": [
    "`ece` module provides `ECE2D` class that represents a single channel diagnosis. \n",
    "\n",
    "It is initialized with a ECEI plasma profile, a `Detector2D` detector, a specified polarization, and 4 parameters determining the model used for current correlation tensor formula and dielectric tensor formula. Namely, they are `max_harmonic`, `max_power`, `weakly_relativistic` and `isotropic`. The first two are integers. They determine the highest harmonic frequency and highest order in FLR effect included in both current correlation tensor and dielectric tensor. The `weakly_relativistic` paramter is boolean, if `True`, weakly relativistic formula will be used, otherwise non-relativistic formula instead. `isotropic` is also boolean, `True` indicates the electron distribution is assumed isotropic, and the current correlation tensor can be easily obtained from anti-Hermitian part of corresponding dielectric tensor. "
   ]
  },
  {
   "cell_type": "markdown",
   "metadata": {},
   "source": [
    "> Right now, only isotropic plasma is implemented. "
   ]
  },
  {
   "cell_type": "code",
   "execution_count": 5,
   "metadata": {
    "ExecuteTime": {
     "end_time": "2017-06-27T16:08:31.909000",
     "start_time": "2017-06-27T16:08:31.852000"
    },
    "collapsed": false
   },
   "outputs": [
    {
     "name": "stdout",
     "output_type": "stream",
     "text": [
      "Propagator 2D initialized.\n"
     ]
    }
   ],
   "source": [
    "ece = ECE2D(plasma=p2d_uni, detector=detector, polarization='X', max_harmonic=2, max_power=2, \n",
    "                weakly_relativistic=True, isotropic=True)"
   ]
  },
  {
   "cell_type": "markdown",
   "metadata": {},
   "source": [
    "### Diagnose with a user set mesh"
   ]
  },
  {
   "cell_type": "markdown",
   "metadata": {},
   "source": [
    "After initialization, a set of coordinates needs to be specified for ECE2D, as an initial mesh for preliminary calculations. `set_coords(coords)` method accepts a list of 1D coordinates, and will generate the 3D mesh used for ECE diagnosis."
   ]
  },
  {
   "cell_type": "code",
   "execution_count": 6,
   "metadata": {
    "ExecuteTime": {
     "end_time": "2017-06-27T16:08:31.953000",
     "start_time": "2017-06-27T16:08:31.910000"
    },
    "collapsed": false
   },
   "outputs": [],
   "source": [
    "X1D = np.linspace(250, 150, 100)\n",
    "Y1D = np.linspace(-20, 20, 65)\n",
    "Z1D = np.linspace(-20, 20, 65)\n",
    "\n",
    "# set_coords needs to be called before running any other methods in ECE2D\n",
    "ece.set_coords([Z1D, Y1D, X1D])"
   ]
  },
  {
   "cell_type": "markdown",
   "metadata": {},
   "source": [
    "We can directly diagnose the plasma with this simple mesh, just call `diagnose` method. \n",
    "\n",
    "Three parameters are accepted in `diagnose`: `time`, `debug` and `auto_patch`. \n",
    "- `time`: integer, specifies the time step of plasma fluctuation that should be used for diagnosis, if not given, equilibrium plasma will be used.\n",
    "- `debug`: bool, if True, a lot of extra information will be stored after diagnosis, for further investigation.\n",
    "- `auto_patch`: bool, if True, program will try to optimize the grid in X direction, make finer mesh where emission is coming, and coarser mesh where wave propagates with no absorption or emission. A better way of doing this is calling `auto_adjust_mesh` method, with a tunable fine structure constant."
   ]
  },
  {
   "cell_type": "code",
   "execution_count": 7,
   "metadata": {
    "ExecuteTime": {
     "end_time": "2017-06-27T16:08:37.566000",
     "start_time": "2017-06-27T16:08:31.954000"
    },
    "collapsed": false
   },
   "outputs": [
    {
     "name": "stdout",
     "output_type": "stream",
     "text": [
      "Diagnose starts.\n",
      "f = 112.0GHz starts.\n",
      "Walltime: 5.542s\n"
     ]
    }
   ],
   "source": [
    "# we diagnose the equilibrium plasma with no auto coordinates adjustment. Keep more information by setting debug=True\n",
    "Te = ece.diagnose()"
   ]
  },
  {
   "cell_type": "code",
   "execution_count": 8,
   "metadata": {
    "ExecuteTime": {
     "end_time": "2017-06-27T16:08:37.572000",
     "start_time": "2017-06-27T16:08:37.568000"
    },
    "collapsed": false
   },
   "outputs": [
    {
     "data": {
      "text/plain": [
       "9.4347449119170843"
      ]
     },
     "execution_count": 8,
     "metadata": {},
     "output_type": "execute_result"
    }
   ],
   "source": [
    "Te/keV"
   ]
  },
  {
   "cell_type": "markdown",
   "metadata": {},
   "source": [
    "> Note that the diagnosed Te is smaller than real Te, which is 10keV. The reason is our preset coordinates in X is too coarse within the emission area, thus not sampling enough data. Integration error is large due to this under sample situation. The way to improve this is to call `auto_adjust_mesh` method."
   ]
  },
  {
   "cell_type": "markdown",
   "metadata": {},
   "source": [
    "We can take a look at where received emission is coming from by examine the `integrand_list`."
   ]
  },
  {
   "cell_type": "code",
   "execution_count": 9,
   "metadata": {
    "ExecuteTime": {
     "end_time": "2017-06-27T16:08:37.639000",
     "start_time": "2017-06-27T16:08:37.573000"
    },
    "collapsed": false
   },
   "outputs": [],
   "source": [
    "emission_spot = ece.view_spot"
   ]
  },
  {
   "cell_type": "code",
   "execution_count": 10,
   "metadata": {
    "ExecuteTime": {
     "end_time": "2017-06-27T16:08:37.874000",
     "start_time": "2017-06-27T16:08:37.640000"
    },
    "collapsed": false
   },
   "outputs": [
    {
     "data": {
      "text/plain": [
       "<matplotlib.contour.QuadContourSet at 0x8dbba90>"
      ]
     },
     "execution_count": 10,
     "metadata": {},
     "output_type": "execute_result"
    },
    {
     "data": {
      "image/png": "[encoded data removed]",
      "text/plain": [
       "<matplotlib.figure.Figure at 0x467c828>"
      ]
     },
     "metadata": {},
     "output_type": "display_data"
    }
   ],
   "source": [
    "plt.contour(ece.X1D, ece.Y1D, emission_spot[:,:], N=20)"
   ]
  },
  {
   "cell_type": "markdown",
   "metadata": {},
   "source": [
    "### 1.3.2 Automatically adjust stepsize"
   ]
  },
  {
   "cell_type": "markdown",
   "metadata": {},
   "source": [
    "`ECE2D` has `auto_adjust_mesh` method that will automatically choose proper grid points on X direction. The way it does this is run a preliminary propagation on the original mesh, and calculate the actual emission locations that antenna sees. Make fine mesh within these regions, and setup coarser mesh outside them. \n",
    "\n",
    "Default parameters are:\n",
    "- emission region boundaries: The emission regions are determined by finding locations where receiving strength is larger than $e^{-9}$ maximum strength. In other words, roughly 3 standard deviations away if Gaussian shape is assumed.\n",
    "- fine mesh step size: By default, inside emission regions, step size in X is set to be $0.5\\lambda_0$, with $\\lambda_0$ the vacuum wave length. This can be tuned using `fine_coeff` argument. For example, `fine_coeff`=2 means steps size is half of the default.\n",
    "- coarse mesh step size: Outside the emission regions, step size is set to be $5\\lambda_0$. It is also changed with `fine_coeff` argument. So the ratio between fine and coarse step size is always 0.1 ."
   ]
  },
  {
   "cell_type": "code",
   "execution_count": 11,
   "metadata": {
    "ExecuteTime": {
     "end_time": "2017-06-27T16:08:43.273000",
     "start_time": "2017-06-27T16:08:37.876000"
    },
    "collapsed": false
   },
   "outputs": [
    {
     "name": "stdout",
     "output_type": "stream",
     "text": [
      "Automatic coordinates adjustment performed! To reset your mesh, call set_coords() with initial mesh again.\n",
      "Walltime: 5.389s\n"
     ]
    }
   ],
   "source": [
    "ece.auto_adjust_mesh(fine_coeff=1)"
   ]
  },
  {
   "cell_type": "code",
   "execution_count": 12,
   "metadata": {
    "ExecuteTime": {
     "end_time": "2017-06-27T16:08:43.279000",
     "start_time": "2017-06-27T16:08:43.275000"
    },
    "collapsed": false
   },
   "outputs": [
    {
     "data": {
      "text/plain": [
       "(118L,)"
      ]
     },
     "execution_count": 12,
     "metadata": {},
     "output_type": "execute_result"
    }
   ],
   "source": [
    "ece.X1D.shape"
   ]
  },
  {
   "cell_type": "code",
   "execution_count": 13,
   "metadata": {
    "ExecuteTime": {
     "end_time": "2017-06-27T16:08:43.557000",
     "start_time": "2017-06-27T16:08:43.281000"
    },
    "collapsed": false
   },
   "outputs": [
    {
     "data": {
      "text/plain": [
       "<matplotlib.text.Text at 0x8cb1ef0>"
      ]
     },
     "execution_count": 13,
     "metadata": {},
     "output_type": "execute_result"
    },
    {
     "data": {
      "image/png": "[encoded data removed]",
      "text/plain": [
       "<matplotlib.figure.Figure at 0x8e7f780>"
      ]
     },
     "metadata": {},
     "output_type": "display_data"
    }
   ],
   "source": [
    "plt.plot(ece.X1D)\n",
    "plt.xlabel('array indices')\n",
    "plt.ylabel('X(cm)')\n",
    "plt.title('Auto mesh in X')"
   ]
  },
  {
   "cell_type": "markdown",
   "metadata": {},
   "source": [
    "The total mesh points is less, but more focused in emission area. How about the performance?"
   ]
  },
  {
   "cell_type": "code",
   "execution_count": 14,
   "metadata": {
    "ExecuteTime": {
     "end_time": "2017-06-27T16:08:49.832000",
     "start_time": "2017-06-27T16:08:43.558000"
    },
    "collapsed": false
   },
   "outputs": [
    {
     "name": "stdout",
     "output_type": "stream",
     "text": [
      "Diagnose starts.\n",
      "f = 112.0GHz starts.\n",
      "Walltime: 6.263s\n"
     ]
    },
    {
     "data": {
      "text/plain": [
       "1.6001772617758013e-08"
      ]
     },
     "execution_count": 14,
     "metadata": {},
     "output_type": "execute_result"
    }
   ],
   "source": [
    "ece.diagnose()"
   ]
  },
  {
   "cell_type": "code",
   "execution_count": 15,
   "metadata": {
    "ExecuteTime": {
     "end_time": "2017-06-27T16:08:49.838000",
     "start_time": "2017-06-27T16:08:49.834000"
    },
    "collapsed": false
   },
   "outputs": [
    {
     "data": {
      "text/plain": [
       "9.9873752451366951"
      ]
     },
     "execution_count": 15,
     "metadata": {},
     "output_type": "execute_result"
    }
   ],
   "source": [
    "ece.Te/keV"
   ]
  },
  {
   "cell_type": "markdown",
   "metadata": {},
   "source": [
    "Now, the result is roughly 50 times more accurate with only 1.5 times mesh points! "
   ]
  },
  {
   "cell_type": "markdown",
   "metadata": {},
   "source": [
    "> It is recommended to always use `auto_adjust_mesh` before `diagnose`, or simply set `auto_patch=True` when calling `diagnose`."
   ]
  },
  {
   "cell_type": "markdown",
   "metadata": {},
   "source": [
    "### Information about diagnosing locations"
   ]
  },
  {
   "cell_type": "markdown",
   "metadata": {},
   "source": [
    "A useful information is where our signal comes from. `ECE2D` provides three ways to access this.\n",
    "- view_point: the coordinates (Z, Y, X) of the highest receiving strength, which is presumabily the best estimation of the actual center of the emission signal.\n",
    "- view_spot : the 2D array containing emission intensity distribution over Y-X plane. Plot can be made showing the location and shape of spot.\n",
    "- diag_x: gives a detailed information of locations in X where significant contributions of emission power are from. list of centers and *half widths* are returned."
   ]
  },
  {
   "cell_type": "code",
   "execution_count": 16,
   "metadata": {
    "ExecuteTime": {
     "end_time": "2017-06-27T16:08:49.898000",
     "start_time": "2017-06-27T16:08:49.839000"
    },
    "collapsed": false
   },
   "outputs": [
    {
     "data": {
      "text/plain": [
       "(0.0, 0.0, 197.47474747474746)"
      ]
     },
     "execution_count": 16,
     "metadata": {},
     "output_type": "execute_result"
    }
   ],
   "source": [
    "ece.view_point"
   ]
  },
  {
   "cell_type": "code",
   "execution_count": 17,
   "metadata": {
    "ExecuteTime": {
     "end_time": "2017-06-27T16:08:50.158000",
     "start_time": "2017-06-27T16:08:49.900000"
    },
    "collapsed": false
   },
   "outputs": [
    {
     "data": {
      "text/plain": [
       "<matplotlib.contour.QuadContourSet at 0x1d39d6d8>"
      ]
     },
     "execution_count": 17,
     "metadata": {},
     "output_type": "execute_result"
    },
    {
     "data": {
      "image/png": "[encoded data removed]",
      "text/plain": [
       "<matplotlib.figure.Figure at 0x8cb1208>"
      ]
     },
     "metadata": {},
     "output_type": "display_data"
    }
   ],
   "source": [
    "vs = ece.view_spot\n",
    "# draw the 1/e boundary of the emission spot\n",
    "plt.contour(ece.X1D, ece.Y1D, vs, (0.368*np.max(vs),))"
   ]
  },
  {
   "cell_type": "code",
   "execution_count": 18,
   "metadata": {
    "ExecuteTime": {
     "end_time": "2017-06-27T16:08:50.164000",
     "start_time": "2017-06-27T16:08:50.159000"
    },
    "collapsed": false
   },
   "outputs": [
    {
     "name": "stdout",
     "output_type": "stream",
     "text": [
      "[196.46464646464645] [1.0101010101010104]\n"
     ]
    }
   ],
   "source": [
    "xs, dxs = ece.diag_x\n",
    "print(xs, dxs)"
   ]
  },
  {
   "cell_type": "markdown",
   "metadata": {},
   "source": [
    "As we can see, the center of the emission region may not be the same as the strongest emission location. This is due to the uneven shape of the spot. The *half width* is a very rough estimation of the $1/e$ width of the spot, but can give us a sense of the resolution in X."
   ]
  },
  {
   "cell_type": "markdown",
   "metadata": {},
   "source": [
    "## Multi-channel ECE Imaging"
   ]
  },
  {
   "cell_type": "markdown",
   "metadata": {},
   "source": [
    "Multi-channel ECE Imaging capability is provided in module `sdp.diagnostic.ece.ecei2d.imaging`, class `ECEImagingSystem`."
   ]
  },
  {
   "cell_type": "code",
   "execution_count": 19,
   "metadata": {
    "ExecuteTime": {
     "end_time": "2017-06-27T16:08:50.229000",
     "start_time": "2017-06-27T16:08:50.166000"
    },
    "collapsed": false
   },
   "outputs": [],
   "source": [
    "from sdp.diagnostic.ecei.ecei2d.imaging import ECEImagingSystem"
   ]
  },
  {
   "cell_type": "markdown",
   "metadata": {},
   "source": [
    "### Initialization"
   ]
  },
  {
   "cell_type": "markdown",
   "metadata": {},
   "source": [
    "`ECEImagingSystem` is initialized in a similar way as `ECE2D`. The only difference is that it accepts a list of `Detector2D` detectors instead of only one as in `ECE2D` case."
   ]
  },
  {
   "cell_type": "code",
   "execution_count": 20,
   "metadata": {
    "ExecuteTime": {
     "end_time": "2017-06-27T16:08:50.281000",
     "start_time": "2017-06-27T16:08:50.231000"
    },
    "collapsed": true
   },
   "outputs": [],
   "source": [
    "# the referece frequency\n",
    "omega = 2*pcp_uni.omega_ce[0]\n",
    "# generate 4 frequencies span from 0.8 to 1.1 times reference frequency\n",
    "omega_s = np.linspace(0.8, 1.1, 4)*omega\n",
    "k_s = omega_s/c\n",
    "# a list of detectors generated for each (omega,k) pair\n",
    "detectors = [GaussianAntenna(omega_list=[f], k_list=[k_s[i]], \n",
    "                             power_list=[1], waist_x=175, waist_y=0, \n",
    "                             w_0y=2) for i, f in enumerate(omega_s)]"
   ]
  },
  {
   "cell_type": "code",
   "execution_count": 21,
   "metadata": {
    "ExecuteTime": {
     "end_time": "2017-06-27T16:08:50.335000",
     "start_time": "2017-06-27T16:08:50.283000"
    },
    "collapsed": false
   },
   "outputs": [
    {
     "name": "stdout",
     "output_type": "stream",
     "text": [
      "[  5.62825459e+11   6.33178641e+11   7.03531824e+11   7.73885006e+11]\n"
     ]
    }
   ],
   "source": [
    "print(omega_s)"
   ]
  },
  {
   "cell_type": "code",
   "execution_count": 22,
   "metadata": {
    "ExecuteTime": {
     "end_time": "2017-06-27T16:08:50.403000",
     "start_time": "2017-06-27T16:08:50.337000"
    },
    "collapsed": false
   },
   "outputs": [
    {
     "name": "stdout",
     "output_type": "stream",
     "text": [
      "Propagator 2D initialized.\n",
      "Propagator 2D initialized.\n",
      "Propagator 2D initialized.\n",
      "Propagator 2D initialized.\n"
     ]
    }
   ],
   "source": [
    "ecei = ECEImagingSystem(plasma=p2d_uni, detectors=detectors, \n",
    "                        polarization='X', max_harmonic=2, \n",
    "                        max_power=2, weakly_relativistic=True, \n",
    "                        isotropic=True)"
   ]
  },
  {
   "cell_type": "markdown",
   "metadata": {},
   "source": [
    "After Initialization, setting coordinates and automatic adjustment have almost the same signitures as in `ECE2D`, with additional option of choosing channels. Default is to choose all available channels."
   ]
  },
  {
   "cell_type": "code",
   "execution_count": 23,
   "metadata": {
    "ExecuteTime": {
     "end_time": "2017-06-27T16:08:50.524000",
     "start_time": "2017-06-27T16:08:50.405000"
    },
    "collapsed": true
   },
   "outputs": [],
   "source": [
    "# this channelID is the default\n",
    "ecei.set_coords([Z1D, Y1D, X1D], channelID='all') \n",
    "# Or, we can specify a list of channels\n",
    "ecei.set_coords([Z1D, Y1D, X1D], channelID=[0,1])"
   ]
  },
  {
   "cell_type": "code",
   "execution_count": 24,
   "metadata": {
    "ExecuteTime": {
     "end_time": "2017-06-27T16:09:11.212000",
     "start_time": "2017-06-27T16:08:50.525000"
    },
    "collapsed": false
   },
   "outputs": [
    {
     "name": "stdout",
     "output_type": "stream",
     "text": [
      "Serial run of channel [0, 1] out of total 4 channels.\n",
      "Channel 0:\n",
      "Automatic coordinates adjustment performed! To reset your mesh, call set_coords() with initial mesh again.\n",
      "Walltime: 5.167s\n",
      "Channel 1:\n",
      "Automatic coordinates adjustment performed! To reset your mesh, call set_coords() with initial mesh again.\n",
      "Walltime: 5.203s\n",
      "Walltime: 10.38s\n",
      "Serial run of channel [2, 3] out of total 4 channels.\n",
      "Channel 2:\n",
      "Automatic coordinates adjustment performed! To reset your mesh, call set_coords() with initial mesh again.\n",
      "Walltime: 5.134s\n",
      "Channel 3:\n",
      "Automatic coordinates adjustment performed! To reset your mesh, call set_coords() with initial mesh again.\n",
      "Walltime: 5.113s\n",
      "Walltime: 10.26s\n",
      "channel #0: NX = 49\n",
      "channel #1: NX = 55\n",
      "channel #2: NX = 118\n",
      "channel #3: NX = 130\n"
     ]
    }
   ],
   "source": [
    "# automatic adjustment can also be done for chosen channels.\n",
    "ecei.auto_adjust_mesh(0.5, channelID=[0,1])\n",
    "ecei.auto_adjust_mesh(1, channelID=[2,3])\n",
    "# we can check the grid points number for each channel\n",
    "for i,channel in enumerate(ecei.channels):\n",
    "    print('channel #{0}: NX = {1}'.format(i, channel.NX))"
   ]
  },
  {
   "cell_type": "markdown",
   "metadata": {},
   "source": [
    "We can see the first two channels have coarser mesh because the adjustment coefficient is 0.5."
   ]
  },
  {
   "cell_type": "markdown",
   "metadata": {},
   "source": [
    "### Diagnose and examine the result"
   ]
  },
  {
   "cell_type": "markdown",
   "metadata": {},
   "source": [
    "`ECEImagingSystem`'s diagnose method has basically the same signature as `ECE2D`, with the additional option of choosing channels."
   ]
  },
  {
   "cell_type": "code",
   "execution_count": 25,
   "metadata": {
    "ExecuteTime": {
     "end_time": "2017-06-27T16:09:29.546000",
     "start_time": "2017-06-27T16:09:11.213000"
    },
    "collapsed": false
   },
   "outputs": [
    {
     "name": "stdout",
     "output_type": "stream",
     "text": [
      "Serial run for channel [0 1 2 3] out of total 4 channels.\n",
      "Channel #0:\n",
      "Diagnose starts.\n",
      "f = 89.58GHz starts.\n",
      "Walltime: 2.557s\n",
      "Channel #1:\n",
      "Diagnose starts.\n",
      "f = 100.8GHz starts.\n",
      "Walltime: 2.843s\n",
      "Channel #2:\n",
      "Diagnose starts.\n",
      "f = 112.0GHz starts.\n",
      "Walltime: 6.138s\n",
      "Channel #3:\n",
      "Diagnose starts.\n",
      "f = 123.2GHz starts.\n",
      "Walltime: 6.77s\n",
      "Walltime: 18.33s\n"
     ]
    }
   ],
   "source": [
    "ecei.diagnose(channelID='all')"
   ]
  },
  {
   "cell_type": "markdown",
   "metadata": {},
   "source": [
    "Result can be examined as same as in `ECE2D` case."
   ]
  },
  {
   "cell_type": "code",
   "execution_count": 26,
   "metadata": {
    "ExecuteTime": {
     "end_time": "2017-06-27T16:09:29.551000",
     "start_time": "2017-06-27T16:09:29.547000"
    },
    "collapsed": false
   },
   "outputs": [
    {
     "data": {
      "text/plain": [
       "array([ 9.93533592,  9.94846304,  9.98737525,  9.98909864])"
      ]
     },
     "execution_count": 26,
     "metadata": {},
     "output_type": "execute_result"
    }
   ],
   "source": [
    "ecei.Te/keV"
   ]
  },
  {
   "cell_type": "markdown",
   "metadata": {},
   "source": [
    "Again, we see a finer mesh gives us better accuracy."
   ]
  },
  {
   "cell_type": "markdown",
   "metadata": {},
   "source": [
    "Viewing spots information is stored in `view_spots`, `view_points`, and `diag_x`."
   ]
  },
  {
   "cell_type": "code",
   "execution_count": 27,
   "metadata": {
    "ExecuteTime": {
     "end_time": "2017-06-27T16:09:29.859000",
     "start_time": "2017-06-27T16:09:29.553000"
    },
    "collapsed": false
   },
   "outputs": [
    {
     "data": {
      "text/plain": [
       "<matplotlib.text.Text at 0x1d8c77b8>"
      ]
     },
     "execution_count": 27,
     "metadata": {},
     "output_type": "execute_result"
    },
    {
     "data": {
      "image/png": "[encoded data removed]",
      "text/plain": [
       "<matplotlib.figure.Figure at 0x1d43bac8>"
      ]
     },
     "metadata": {},
     "output_type": "display_data"
    }
   ],
   "source": [
    "# we draw the view spots of all channels on one plot\n",
    "plt.figure()\n",
    "color_list = ['b', 'r', 'g', 'k']\n",
    "lines = []\n",
    "labels = []\n",
    "for i,vs in enumerate(ecei.view_spots):\n",
    "    X1D = ecei.X1Ds[i]\n",
    "    Y1D = ecei.Y1Ds[i]\n",
    "    ctr = plt.contour(X1D, Y1D, vs, (0.368*np.max(vs),), \n",
    "                     colors=color_list[i%4])\n",
    "    lines.append(ctr.collections[0])\n",
    "    # convert angular frequency (rad/s) to Giga-Hertz\n",
    "    labels.append('f = {0:.4}GHz'.format(omega_s[i]/(2*np.pi)*1e-9))\n",
    "plt.legend(lines, labels)\n",
    "plt.xlabel('X(cm)')\n",
    "plt.ylabel('Y(cm)')\n",
    "plt.title('1/e contour of emission spots')"
   ]
  },
  {
   "cell_type": "markdown",
   "metadata": {},
   "source": [
    "### Parallel execution"
   ]
  },
  {
   "cell_type": "markdown",
   "metadata": {},
   "source": [
    "`ECEImagingSystem` supports IPython/Jupyter style parallelization. Check out https://ipyparallel.readthedocs.org/en/latest/ for more details about starting IPython clusters. "
   ]
  },
  {
   "cell_type": "markdown",
   "metadata": {},
   "source": [
    "After starting IPython cluster on you machine/server, you can get a Client handler by calling `ipyparallel.Client()`."
   ]
  },
  {
   "cell_type": "code",
   "execution_count": 28,
   "metadata": {
    "ExecuteTime": {
     "end_time": "2017-06-27T16:09:29.920000",
     "start_time": "2017-06-27T16:09:29.861000"
    },
    "collapsed": true
   },
   "outputs": [],
   "source": [
    "import ipyparallel as ipp\n",
    "client = ipp.Client()"
   ]
  },
  {
   "cell_type": "markdown",
   "metadata": {},
   "source": [
    "Then, initialize `ECEImagingSystem` with `parallel=True`, and `client=client`."
   ]
  },
  {
   "cell_type": "code",
   "execution_count": 29,
   "metadata": {
    "ExecuteTime": {
     "end_time": "2017-06-27T16:09:30.788000",
     "start_time": "2017-06-27T16:09:29.922000"
    },
    "collapsed": true
   },
   "outputs": [],
   "source": [
    "ecei_para = ECEImagingSystem(plasma=p2d_uni, detectors=detectors, \n",
    "                        polarization='X', max_harmonic=2, \n",
    "                        max_power=2, weakly_relativistic=True, \n",
    "                        isotropic=True, parallel=True, client=client)"
   ]
  },
  {
   "cell_type": "markdown",
   "metadata": {},
   "source": [
    "Now, setting up coordinates, automatically adjust mesh, and diagnose have exactly the same signitures as those in serial version."
   ]
  },
  {
   "cell_type": "code",
   "execution_count": 30,
   "metadata": {
    "ExecuteTime": {
     "end_time": "2017-06-27T16:09:30.833000",
     "start_time": "2017-06-27T16:09:30.789000"
    },
    "collapsed": false
   },
   "outputs": [
    {
     "data": {
      "text/plain": [
       "[<AsyncResult: execute:finished>,\n",
       " <AsyncResult: execute:finished>,\n",
       " <AsyncResult: execute:finished>,\n",
       " <AsyncResult: execute:finished>]"
      ]
     },
     "execution_count": 30,
     "metadata": {},
     "output_type": "execute_result"
    }
   ],
   "source": [
    "ecei_para.set_coords([Z1D, Y1D, X1D])"
   ]
  },
  {
   "cell_type": "code",
   "execution_count": 31,
   "metadata": {
    "ExecuteTime": {
     "end_time": "2017-06-27T16:09:40.465000",
     "start_time": "2017-06-27T16:09:30.835000"
    },
    "collapsed": false
   },
   "outputs": [
    {
     "name": "stdout",
     "output_type": "stream",
     "text": [
      "Parallel run of channel [0 1 2 3] on 4 engines.\n",
      "channel #0 on engine #0.\n",
      "channel #1 on engine #1.\n",
      "channel #2 on engine #2.\n",
      "channel #3 on engine #3.\n",
      "Walltime: 9.6s\n"
     ]
    },
    {
     "data": {
      "text/plain": [
       "[<AsyncResult: execute:finished>,\n",
       " <AsyncResult: execute:finished>,\n",
       " <AsyncResult: execute:finished>,\n",
       " <AsyncResult: execute:finished>]"
      ]
     },
     "execution_count": 31,
     "metadata": {},
     "output_type": "execute_result"
    }
   ],
   "source": [
    "ecei_para.auto_adjust_mesh()"
   ]
  },
  {
   "cell_type": "code",
   "execution_count": 32,
   "metadata": {
    "ExecuteTime": {
     "end_time": "2017-06-27T16:09:49.058000",
     "start_time": "2017-06-27T16:09:40.467000"
    },
    "collapsed": false
   },
   "outputs": [
    {
     "name": "stdout",
     "output_type": "stream",
     "text": [
      "Parallel run for 4 channels on 4 engines.\n",
      "Channel #0 on engine #0\n",
      "Channel #1 on engine #1\n",
      "Channel #2 on engine #2\n",
      "Channel #3 on engine #3\n",
      "Walltime: 8.588s\n"
     ]
    },
    {
     "data": {
      "text/plain": [
       "[<AsyncResult: execute:finished>,\n",
       " <AsyncResult: execute:finished>,\n",
       " <AsyncResult: execute:finished>,\n",
       " <AsyncResult: execute:finished>]"
      ]
     },
     "execution_count": 32,
     "metadata": {},
     "output_type": "execute_result"
    }
   ],
   "source": [
    "ecei_para.diagnose()"
   ]
  },
  {
   "cell_type": "markdown",
   "metadata": {},
   "source": [
    "Checking basic information is also the same."
   ]
  },
  {
   "cell_type": "code",
   "execution_count": 33,
   "metadata": {
    "ExecuteTime": {
     "end_time": "2017-06-27T16:09:49.062000",
     "start_time": "2017-06-27T16:09:49.059000"
    },
    "collapsed": false
   },
   "outputs": [
    {
     "name": "stdout",
     "output_type": "stream",
     "text": [
      "[ 9.97891849  9.98789938  9.98290839  9.98906351]\n"
     ]
    }
   ],
   "source": [
    "print(ecei_para.Te/keV)"
   ]
  },
  {
   "cell_type": "code",
   "execution_count": 34,
   "metadata": {
    "ExecuteTime": {
     "end_time": "2017-06-27T16:09:49.208000",
     "start_time": "2017-06-27T16:09:49.063000"
    },
    "collapsed": false
   },
   "outputs": [],
   "source": [
    "view_spots = ecei_para.view_spots"
   ]
  },
  {
   "cell_type": "markdown",
   "metadata": {},
   "source": [
    "However, information accessable through `channels` attribute is a little trickier, because all the actual \"channel\" objects are scattered on different engines in parallel mode, and they are not serializable. The parallel version has a nominal `channels` attribute, which collects important channel data from remote engines, but they are no longer the actual \"ECE2D\" objects that run the diagnostics. They are just data containers with type `ECE2D_property`."
   ]
  },
  {
   "cell_type": "code",
   "execution_count": 35,
   "metadata": {
    "ExecuteTime": {
     "end_time": "2017-06-27T16:09:54.493000",
     "start_time": "2017-06-27T16:09:49.210000"
    },
    "collapsed": false
   },
   "outputs": [
    {
     "name": "stdout",
     "output_type": "stream",
     "text": [
      "Parallel Channels:\n",
      "    channel 0 on engine 0:\n",
      "        received.\n",
      "    channel 1 on engine 1:\n",
      "        received.\n",
      "    channel 2 on engine 2:\n",
      "        received.\n",
      "    channel 3 on engine 3:\n",
      "        received.\n"
     ]
    }
   ],
   "source": [
    "channels = ecei_para.channels"
   ]
  },
  {
   "cell_type": "markdown",
   "metadata": {},
   "source": [
    "These \"ECE2D_property\" objects have very similar attribute names as \"ECE2D\" objects.  "
   ]
  },
  {
   "cell_type": "code",
   "execution_count": 36,
   "metadata": {
    "ExecuteTime": {
     "end_time": "2017-06-27T16:09:54.699000",
     "start_time": "2017-06-27T16:09:54.495000"
    },
    "collapsed": false
   },
   "outputs": [
    {
     "data": {
      "text/plain": [
       "[<matplotlib.lines.Line2D at 0x1db88cc0>]"
      ]
     },
     "execution_count": 36,
     "metadata": {},
     "output_type": "execute_result"
    },
    {
     "data": {
      "image/png": "[encoded data removed]",
      "text/plain": [
       "<matplotlib.figure.Figure at 0x1dbf7a20>"
      ]
     },
     "metadata": {},
     "output_type": "display_data"
    }
   ],
   "source": [
    "c0 = channels[0]\n",
    "X1D = c0.X1D\n",
    "\n",
    "plt.plot(X1D)"
   ]
  },
  {
   "cell_type": "markdown",
   "metadata": {},
   "source": [
    "They also have flags indicating the running mode of the \"ECE2D\" object."
   ]
  },
  {
   "cell_type": "code",
   "execution_count": 37,
   "metadata": {
    "ExecuteTime": {
     "end_time": "2017-06-27T16:09:54.844000",
     "start_time": "2017-06-27T16:09:54.702000"
    },
    "collapsed": false
   },
   "outputs": [
    {
     "name": "stdout",
     "output_type": "stream",
     "text": [
      "Coords_set: True\n",
      " Auto_mesh_adjusted: True\n",
      " Diagnosed: True\n",
      " Debug: False\n",
      "\n"
     ]
    }
   ],
   "source": [
    "print('Coords_set: {0}\\n'.format(c0.is_coords_set()), \n",
    "      'Auto_mesh_adjusted: {0}\\n'.format(c0.is_auto_adjusted()),\n",
    "      'Diagnosed: {0}\\n'.format(c0.is_diagnosed()),\n",
    "      'Debug: {0}\\n'.format(c0.is_debug())\n",
    "      )"
   ]
  },
  {
   "cell_type": "markdown",
   "metadata": {},
   "source": [
    "# 2. Benchmarks and Error Assessment"
   ]
  },
  {
   "cell_type": "markdown",
   "metadata": {},
   "source": [
    "In this section, we'll show effects of higher harmonics, as well as the sensibility of the diagnostic accuracy on mesh resolution."
   ]
  },
  {
   "cell_type": "markdown",
   "metadata": {},
   "source": [
    "## Higher harmonic effects"
   ]
  },
  {
   "cell_type": "markdown",
   "metadata": {},
   "source": [
    "Higher harmonic may come in when temperature is high and relativistic downshift effect is significant. In our test case, 3rd harmonic resonance has a finite absorption layer at the outer edge of plasma."
   ]
  },
  {
   "cell_type": "code",
   "execution_count": 38,
   "metadata": {
    "ExecuteTime": {
     "end_time": "2017-06-27T16:09:54.918000",
     "start_time": "2017-06-27T16:09:54.846000"
    },
    "collapsed": false
   },
   "outputs": [],
   "source": [
    "omega_3rd = 8e11\n",
    "k_3rd = omega_3rd/c\n",
    "# single frequency detector\n",
    "detector_3rd = GaussianAntenna(omega_list=[omega_3rd], k_list=[k_3rd], power_list=[1], waist_x=175, waist_y=0, w_0y=2)"
   ]
  },
  {
   "cell_type": "code",
   "execution_count": 39,
   "metadata": {
    "ExecuteTime": {
     "end_time": "2017-06-27T16:09:54.975000",
     "start_time": "2017-06-27T16:09:54.920000"
    },
    "collapsed": false
   },
   "outputs": [
    {
     "name": "stdout",
     "output_type": "stream",
     "text": [
      "Propagator 2D initialized.\n"
     ]
    }
   ],
   "source": [
    "# Note that we need to change max_harmonic and max_power to at least 3 for studying 3rd harmonic effects\n",
    "ece_3rd = ECE2D(plasma=p2d_uni, detector=detector_3rd, polarization='X', max_harmonic=3, max_power=3, \n",
    "                weakly_relativistic=True, isotropic=True)"
   ]
  },
  {
   "cell_type": "code",
   "execution_count": 40,
   "metadata": {
    "ExecuteTime": {
     "end_time": "2017-06-27T16:09:55.036000",
     "start_time": "2017-06-27T16:09:54.977000"
    },
    "collapsed": true
   },
   "outputs": [],
   "source": [
    "ece_3rd.set_coords([Z1D, Y1D, X1D])"
   ]
  },
  {
   "cell_type": "code",
   "execution_count": 41,
   "metadata": {
    "ExecuteTime": {
     "end_time": "2017-06-27T16:10:42.165000",
     "start_time": "2017-06-27T16:09:55.038000"
    },
    "collapsed": false
   },
   "outputs": [
    {
     "name": "stdout",
     "output_type": "stream",
     "text": [
      "Diagnose starts.\n",
      "Automatic coordinates adjustment performed! To reset your mesh, call set_coords() with initial mesh again.\n",
      "Walltime: 7.905s\n",
      "f = 127.3GHz starts.\n",
      "Walltime: 47.05s\n",
      "9.99044213756\n"
     ]
    }
   ],
   "source": [
    "ece_3rd.diagnose(debug=True, auto_patch=True)\n",
    "print(ece_3rd.Te/keV)"
   ]
  },
  {
   "cell_type": "markdown",
   "metadata": {},
   "source": [
    "We can now look at the emission pattern in X-Y plane"
   ]
  },
  {
   "cell_type": "code",
   "execution_count": 42,
   "metadata": {
    "ExecuteTime": {
     "end_time": "2017-06-27T16:10:42.390000",
     "start_time": "2017-06-27T16:10:42.168000"
    },
    "collapsed": false
   },
   "outputs": [
    {
     "data": {
      "text/plain": [
       "<matplotlib.contour.QuadContourSet at 0x4038bc88>"
      ]
     },
     "execution_count": 42,
     "metadata": {},
     "output_type": "execute_result"
    },
    {
     "data": {
      "image/png": "[encoded data removed]",
      "text/plain": [
       "<matplotlib.figure.Figure at 0x1da4ddd8>"
      ]
     },
     "metadata": {},
     "output_type": "display_data"
    }
   ],
   "source": [
    "plt.contour(ece_3rd.X2D, ece_3rd.Y2D, ece_3rd.view_spot, 20)"
   ]
  },
  {
   "cell_type": "markdown",
   "metadata": {},
   "source": [
    "It shows that main contribution is actually from the edge 3rd harmonic resonance layer. Locations can be verified with `view_point` (strongest emission location) and `diag_x` (main emission sources) attributes."
   ]
  },
  {
   "cell_type": "code",
   "execution_count": 43,
   "metadata": {
    "ExecuteTime": {
     "end_time": "2017-06-27T16:10:42.395000",
     "start_time": "2017-06-27T16:10:42.391000"
    },
    "collapsed": false
   },
   "outputs": [
    {
     "data": {
      "text/plain": [
       "(0.0, 0.0, 246.11780455153951)"
      ]
     },
     "execution_count": 43,
     "metadata": {},
     "output_type": "execute_result"
    }
   ],
   "source": [
    "ece_3rd.view_point"
   ]
  },
  {
   "cell_type": "code",
   "execution_count": 44,
   "metadata": {
    "ExecuteTime": {
     "end_time": "2017-06-27T16:10:42.449000",
     "start_time": "2017-06-27T16:10:42.397000"
    },
    "collapsed": false
   },
   "outputs": [
    {
     "data": {
      "text/plain": [
       "([227.73092369477914, 171.66666666666669],\n",
       " [7.0214190093708169, 1.1111111111111096])"
      ]
     },
     "execution_count": 44,
     "metadata": {},
     "output_type": "execute_result"
    }
   ],
   "source": [
    "ece_3rd.diag_x"
   ]
  },
  {
   "cell_type": "markdown",
   "metadata": {},
   "source": [
    "This will significantly affect final result if we have a non-uniform electron temperature."
   ]
  },
  {
   "cell_type": "code",
   "execution_count": 45,
   "metadata": {
    "ExecuteTime": {
     "end_time": "2017-06-27T16:10:42.557000",
     "start_time": "2017-06-27T16:10:42.451000"
    },
    "collapsed": false
   },
   "outputs": [
    {
     "name": "stdout",
     "output_type": "stream",
     "text": [
      "Not used params: {}\n"
     ]
    }
   ],
   "source": [
    "tp.set_shape2D('Hmode','PedWidthT',0.1)\n",
    "tp.set_shape2D('Hmode','PedHightT',0.7)\n",
    "tp.set_parameter2D(Te_0=10.0*keV, Te_shape='Hmode')\n",
    "p2d_hmode = tp.create_profile2D()\n",
    "p2d_hmode.setup_interps()"
   ]
  },
  {
   "cell_type": "code",
   "execution_count": 46,
   "metadata": {
    "ExecuteTime": {
     "end_time": "2017-06-27T16:10:42.563000",
     "start_time": "2017-06-27T16:10:42.559000"
    },
    "collapsed": false
   },
   "outputs": [
    {
     "name": "stdout",
     "output_type": "stream",
     "text": [
      "Electron Cyclotron Emission Imaging plasma Profile:\n",
      "\n",
      "Unit System:cgs\n",
      "Length: centi-meter\n",
      "Mass: gram\n",
      "Time: second\n",
      "\n",
      "Grid:2D Cartesian Grids\n",
      "DownLeft :(-30, 150)\n",
      "UpRight :(30, 300)\n",
      "NR,ResR :(601, 0.24958402662229617)\n",
      "NZ,ResZ :(720, 0.08333333333333333)\n",
      "\n",
      "Physical Quantities:\n",
      "Equilibrium:\n",
      "    Electron density: ne0 (max: 2e+13, min:2e+03 cm^-3)\n",
      "    Electron temperature: Te0 (max:10.0, min:1e-09 keV)\n",
      "    Magnetic field: B0 (max:2.67e+04, min:1.33e+04 Gauss)\n",
      "Fluctuation:\n",
      "\n",
      "\n"
     ]
    }
   ],
   "source": [
    "# examine the profile parameters\n",
    "print(p2d_hmode)"
   ]
  },
  {
   "cell_type": "markdown",
   "metadata": {},
   "source": [
    "The electron temperature is gradually decreasing from the center up to the pedestal top, and rapidly getting to zero with in the pedestal."
   ]
  },
  {
   "cell_type": "code",
   "execution_count": 47,
   "metadata": {
    "ExecuteTime": {
     "end_time": "2017-06-27T16:10:42.816000",
     "start_time": "2017-06-27T16:10:42.565000"
    },
    "collapsed": false
   },
   "outputs": [
    {
     "data": {
      "text/plain": [
       "<matplotlib.text.Text at 0x40694d68>"
      ]
     },
     "execution_count": 47,
     "metadata": {},
     "output_type": "execute_result"
    },
    {
     "data": {
      "image/png": "[encoded data removed]",
      "text/plain": [
       "<matplotlib.figure.Figure at 0x1daba898>"
      ]
     },
     "metadata": {},
     "output_type": "display_data"
    }
   ],
   "source": [
    "Z_mid = p2d_hmode.grid.NZ/2\n",
    "plt.plot(p2d_hmode.grid.R1D, p2d_hmode.Te0[Z_mid, :]/keV)\n",
    "plt.title('Electron temperature at mid plane')\n",
    "plt.ylabel('Te(keV)')\n",
    "plt.xlabel('X(cm)')"
   ]
  },
  {
   "cell_type": "code",
   "execution_count": 48,
   "metadata": {
    "ExecuteTime": {
     "end_time": "2017-06-27T16:10:42.820000",
     "start_time": "2017-06-27T16:10:42.818000"
    },
    "collapsed": false
   },
   "outputs": [
    {
     "name": "stdout",
     "output_type": "stream",
     "text": [
      "Propagator 2D initialized.\n"
     ]
    }
   ],
   "source": [
    "ece3_hmode = ECE2D(plasma=p2d_hmode, detector=detector_3rd, polarization='X', max_harmonic=3, max_power=3, \n",
    "                weakly_relativistic=True, isotropic=True )"
   ]
  },
  {
   "cell_type": "code",
   "execution_count": 49,
   "metadata": {
    "ExecuteTime": {
     "end_time": "2017-06-27T16:11:36.829000",
     "start_time": "2017-06-27T16:10:42.823000"
    },
    "collapsed": false
   },
   "outputs": [
    {
     "name": "stdout",
     "output_type": "stream",
     "text": [
      "Diagnose starts.\n",
      "Automatic coordinates adjustment performed! To reset your mesh, call set_coords() with initial mesh again.\n",
      "Walltime: 8.36s\n",
      "f = 127.3GHz starts.\n",
      "Walltime: 53.92s\n"
     ]
    },
    {
     "data": {
      "text/plain": [
       "1.2056635618229148e-08"
      ]
     },
     "execution_count": 49,
     "metadata": {},
     "output_type": "execute_result"
    }
   ],
   "source": [
    "ece3_hmode.set_coords([Z1D, Y1D, X1D])\n",
    "ece3_hmode.diagnose(auto_patch=True)"
   ]
  },
  {
   "cell_type": "code",
   "execution_count": 50,
   "metadata": {
    "ExecuteTime": {
     "end_time": "2017-06-27T16:11:36.834000",
     "start_time": "2017-06-27T16:11:36.831000"
    },
    "collapsed": false
   },
   "outputs": [
    {
     "data": {
      "text/plain": [
       "7.5250503172070582"
      ]
     },
     "execution_count": 50,
     "metadata": {},
     "output_type": "execute_result"
    }
   ],
   "source": [
    "ece3_hmode.Te/keV"
   ]
  },
  {
   "cell_type": "markdown",
   "metadata": {},
   "source": [
    "The measured Te is much smaller than the value at the aimed 2nd harmonic layer location. There is an additional emission region near the top of the pedestal(~ 240cm)."
   ]
  },
  {
   "cell_type": "code",
   "execution_count": 51,
   "metadata": {
    "ExecuteTime": {
     "end_time": "2017-06-27T16:11:36.910000",
     "start_time": "2017-06-27T16:11:36.835000"
    },
    "collapsed": false
   },
   "outputs": [
    {
     "name": "stdout",
     "output_type": "stream",
     "text": [
      "view_point:(0.0, 0.0, 173.33333333333334)\n",
      "diag_x:([223.31325301204822, 171.66666666666669], [8.3266398929049554, 1.1111111111111096])\n"
     ]
    }
   ],
   "source": [
    "print('view_point:{0}\\ndiag_x:{1}'.format(ece3_hmode.view_point, ece3_hmode.diag_x))"
   ]
  },
  {
   "cell_type": "code",
   "execution_count": 52,
   "metadata": {
    "ExecuteTime": {
     "end_time": "2017-06-27T16:11:37.166000",
     "start_time": "2017-06-27T16:11:36.912000"
    },
    "collapsed": false
   },
   "outputs": [
    {
     "data": {
      "text/plain": [
       "<matplotlib.contour.QuadContourSet at 0x40c7f5c0>"
      ]
     },
     "execution_count": 52,
     "metadata": {},
     "output_type": "execute_result"
    },
    {
     "data": {
      "image/png": "[encoded data removed]",
      "text/plain": [
       "<matplotlib.figure.Figure at 0x1dac2780>"
      ]
     },
     "metadata": {},
     "output_type": "display_data"
    }
   ],
   "source": [
    "plt.contour(ece3_hmode.X2D, ece3_hmode.Y2D, ece3_hmode.view_spot, 20)"
   ]
  },
  {
   "cell_type": "markdown",
   "metadata": {},
   "source": [
    "The local temperatures at the view point and the center of the spot are:"
   ]
  },
  {
   "cell_type": "code",
   "execution_count": 53,
   "metadata": {
    "ExecuteTime": {
     "end_time": "2017-06-27T16:11:37.172000",
     "start_time": "2017-06-27T16:11:37.168000"
    },
    "collapsed": false
   },
   "outputs": [
    {
     "name": "stdout",
     "output_type": "stream",
     "text": [
      "2nd harmonic Te: 8.222 keV \n",
      " 3rd harmonic Te: 7.333 keV \n",
      " Te obtained from ECE: 7.525 keV\n"
     ]
    }
   ],
   "source": [
    "Te_2nd, Te_3rd = p2d_hmode.get_Te([[0,0],[ece3_hmode.view_point[2], 240]])/keV\n",
    "\n",
    "print('2nd harmonic Te: {0:.4} keV \\n 3rd harmonic Te: {1:.4} keV \\n Te obtained from ECE: {2:.4} keV'.format(Te_2nd, Te_3rd, ece3_hmode.Te/keV))"
   ]
  },
  {
   "cell_type": "markdown",
   "metadata": {},
   "source": [
    "Our measured temperature is between the expected 2nd Harmonic Te and the 3rd Harmonic Te."
   ]
  },
  {
   "cell_type": "markdown",
   "metadata": {},
   "source": [
    "## Error analysis"
   ]
  },
  {
   "cell_type": "markdown",
   "metadata": {},
   "source": [
    "First, let's take a look at the error dependency on step sizes. We'll use the 2nd harmonic version, and uniform plasma in this section."
   ]
  },
  {
   "cell_type": "code",
   "execution_count": 54,
   "metadata": {
    "ExecuteTime": {
     "end_time": "2017-06-27T16:11:51.201000",
     "start_time": "2017-06-27T16:11:37.174000"
    },
    "collapsed": false
   },
   "outputs": [
    {
     "name": "stdout",
     "output_type": "stream",
     "text": [
      "Diagnose starts.\n",
      "f = 112.0GHz starts.\n",
      "Walltime: 0.6094s\n",
      "Diagnose starts.\n",
      "f = 112.0GHz starts.\n",
      "Walltime: 0.9788s\n",
      "Diagnose starts.\n",
      "f = 112.0GHz starts.\n",
      "Walltime: 1.967s\n",
      "Diagnose starts.\n",
      "f = 112.0GHz starts.\n",
      "Walltime: 3.743s\n",
      "Diagnose starts.\n",
      "f = 112.0GHz starts.\n",
      "Walltime: 6.645s\n"
     ]
    }
   ],
   "source": [
    "base = 4\n",
    "power_list = np.arange(5)*0.5\n",
    "err_list = np.empty_like(power_list, dtype='float')\n",
    "for i,p in enumerate(power_list):\n",
    "    step_yz = int(2**(base+p))\n",
    "    Y1D = np.linspace(-20, 20, step_yz+1)\n",
    "    Z1D = np.linspace(-20, 20, step_yz+1)\n",
    "    ece.auto_adjust_mesh(fine_coeff=2**p/4)\n",
    "    ece.set_coords([Z1D, Y1D, ece.X1D])\n",
    "    # each time set_coords is called, auto_coords_adjusted flag will be reset. \n",
    "    # Here we'll manually set it to save some time.\n",
    "    ece._auto_coords_adjusted = True\n",
    "    ece.diagnose()\n",
    "    err_list[i] = 1 - ece.Te/Te0 "
   ]
  },
  {
   "cell_type": "code",
   "execution_count": 55,
   "metadata": {
    "ExecuteTime": {
     "end_time": "2017-06-27T16:11:51.206000",
     "start_time": "2017-06-27T16:11:51.203000"
    },
    "collapsed": false
   },
   "outputs": [
    {
     "data": {
      "text/plain": [
       "array([ 0.01560076,  0.00805625,  0.00389254,  0.00165081,  0.00084542])"
      ]
     },
     "execution_count": 55,
     "metadata": {},
     "output_type": "execute_result"
    }
   ],
   "source": [
    "err_list"
   ]
  },
  {
   "cell_type": "code",
   "execution_count": 56,
   "metadata": {
    "ExecuteTime": {
     "end_time": "2017-06-27T16:11:51.373000",
     "start_time": "2017-06-27T16:11:51.208000"
    },
    "collapsed": false
   },
   "outputs": [],
   "source": [
    "from scipy.stats import linregress\n",
    "slope, intercept, r, p, stderr = linregress(power_list*np.log(2), np.log(np.abs(err_list)))\n",
    "x = power_list*np.log(2)\n",
    "y = np.exp(slope*x + intercept)"
   ]
  },
  {
   "cell_type": "code",
   "execution_count": 57,
   "metadata": {
    "ExecuteTime": {
     "end_time": "2017-06-27T16:11:51.379000",
     "start_time": "2017-06-27T16:11:51.375000"
    },
    "collapsed": false
   },
   "outputs": [
    {
     "data": {
      "text/plain": [
       "-2.1397056320557377"
      ]
     },
     "execution_count": 57,
     "metadata": {},
     "output_type": "execute_result"
    }
   ],
   "source": [
    "slope"
   ]
  },
  {
   "cell_type": "code",
   "execution_count": 58,
   "metadata": {
    "ExecuteTime": {
     "end_time": "2017-06-27T16:11:52.017000",
     "start_time": "2017-06-27T16:11:51.381000"
    },
    "collapsed": false
   },
   "outputs": [
    {
     "data": {
      "text/plain": [
       "<matplotlib.text.Text at 0x40f30208>"
      ]
     },
     "execution_count": 58,
     "metadata": {},
     "output_type": "execute_result"
    },
    {
     "data": {
      "image/png": "[encoded data removed]",
      "text/plain": [
       "<matplotlib.figure.Figure at 0x40f06b70>"
      ]
     },
     "metadata": {},
     "output_type": "display_data"
    }
   ],
   "source": [
    "plt.semilogy(x, np.abs(err_list))\n",
    "plt.semilogy(x, y, 'r')\n",
    "plt.text(x[2], 5e-3, 'slope : {0:.3}'.format(slope))\n",
    "plt.xlabel('C+log(N)')\n",
    "plt.ylabel('log(abserr)')"
   ]
  },
  {
   "cell_type": "markdown",
   "metadata": {},
   "source": [
    "The error drops as square of step size, just as expected."
   ]
  },
  {
   "cell_type": "markdown",
   "metadata": {},
   "source": [
    "## Anisotropic formulism(NOT FINISHED)"
   ]
  },
  {
   "cell_type": "markdown",
   "metadata": {},
   "source": [
    "Anisotropic formulism of dielectric tensor and current correlation tensor has only been available for non-relativistic cases. The validity criteria for non-relativistic limit is:\n",
    "\n",
    "$$ \\frac{k_\\parallel v_{th \\parallel}}{\\omega} > \\mu $$\n",
    "\n",
    "where $v_{th\\parallel} \\equiv 2T_{e\\parallel}/m_e$ is the parallel thermal velocity, and $\\mu \\equiv T_e/m_e c^2$ the normal relativistic parameter.\n",
    "\n",
    "This criteria can also be written as:\n",
    "\n",
    "$$ N_\\parallel > \\frac{v_{th \\parallel}}{2c}$$\n",
    "\n",
    "where $N_\\parallel \\equiv ck_\\parallel/\\omega$ is the parallel component of refractive index. "
   ]
  },
  {
   "cell_type": "markdown",
   "metadata": {},
   "source": [
    "This is a requirement of a finite $k_\\parallel$. For a 10keV plasma, this roughly corresponds to $N_\\parallel > 1/7 \\sim \\pi/22$. So, in the rest of this section, we will use a detector that is slightly tilted horizontally with an angle of $\\pi/15$. We also choose a larger beam waist width in Z direction to lower the spread in $k_z$ space. "
   ]
  },
  {
   "cell_type": "code",
   "execution_count": null,
   "metadata": {
    "collapsed": true
   },
   "outputs": [],
   "source": [
    "detector1 = GaussianAntenna(omega_list=[omega], k_list=[k], \n",
    "                            power_list=[1], \n",
    "                            waist_x=172, waist_y=0, waist_z=2, \n",
    "                            w_0y=2, w_0z=5, \n",
    "                            tilt_v=0, tilt_h=np.pi/20)"
   ]
  },
  {
   "cell_type": "markdown",
   "metadata": {},
   "source": [
    "> One tricky part for propagation with a finite tilted angle is that the paraxial approximation we've made. This approximation is only accurate up to $o(N_\\parallel^2)$, in this case, $\\sim 0.02$. This might not be accurate enough for diagnosing small perterbations. A quick fix to this is done by taking into account the actual light path length within one step size in X, and calculate the wave field absorption acoording to this length. This gives us a much better result for ECE diagnostic."
   ]
  },
  {
   "cell_type": "code",
   "execution_count": null,
   "metadata": {
    "collapsed": false,
    "scrolled": false
   },
   "outputs": [],
   "source": [
    "tp.set_parameter2D(Te_0 = 10*keV, Te_shape='uniform', ne_shape='Hmode', \n",
    "                   dte_te=0.2, dne_ne=0.1, dB_B=0, NR=100, NZ=40, \n",
    "                   DownLeft=(-40, 100), UpRight=(40, 300), \n",
    "                   timesteps=np.arange(5) )\n",
    "p2d = tp.create_profile2D(fluctuation=True)\n",
    "p2d.setup_interps()"
   ]
  },
  {
   "cell_type": "code",
   "execution_count": null,
   "metadata": {
    "collapsed": false
   },
   "outputs": [],
   "source": [
    "# isotropic formulism\n",
    "ece_iso = rcp.ECE2D(plasma=p2d, detector=detector1, polarization='X', \n",
    "                    max_harmonic=2, max_power=2, weakly_relativistic=False, \n",
    "                    isotropic=True)\n",
    "\n",
    "# anisotropic one\n",
    "ece_ani = rcp.ECE2D(plasma=p2d,detector=detector1, polarization='X', \n",
    "                    max_harmonic=2, max_power=2, weakly_relativistic=False, \n",
    "                    isotropic=False)"
   ]
  },
  {
   "cell_type": "markdown",
   "metadata": {},
   "source": [
    "> A finite $k_z$ requires much more finer grid in Z direction. And since the beam is tilted, a wider area of calculation is also necessary."
   ]
  },
  {
   "cell_type": "markdown",
   "metadata": {
    "collapsed": true
   },
   "source": [
    "<!--bibtex\n",
    "\n",
    "@book{svelto2010principles,\n",
    "  title={Principles of Lasers},\n",
    "  author={Svelto, O.},\n",
    "  isbn={9781441913029},\n",
    "  lccn={2009940423},\n",
    "  url={https://books.google.com/books?id=ioywRI5W2HEC},\n",
    "  year={2010},\n",
    "  publisher={Springer US},\n",
    "  pages={153--155}\n",
    "}\n",
    "\n",
    "@misc{wiki:gaussian_beam,\n",
    "   author = \"Wikipedia\",\n",
    "   title = \"Gaussian beam --- Wikipedia{,} The Free Encyclopedia\",\n",
    "   year = \"2016\",\n",
    "   url = \"https://en.wikipedia.org/w/index.php?title=Gaussian_beam&oldid=703704493\",\n",
    "   note = \"[Online; accessed 17-March-2016]\"\n",
    " }\n",
    "\n",
    "-->"
   ]
  },
  {
   "cell_type": "markdown",
   "metadata": {},
   "source": [
    "# References\n",
    "\n",
    "<a name=\"cite-svelto2010principles\"/><sup>[^](#ref-1) </sup>Svelto, O.. 2010. _Principles of Lasers_. [URL](https://books.google.com/books?id=ioywRI5W2HEC)\n",
    "\n"
   ]
  }
 ],
 "metadata": {
  "kernelspec": {
   "display_name": "Python 2",
   "language": "python",
   "name": "python2"
  },
  "language_info": {
   "codemirror_mode": {
    "name": "ipython",
    "version": 2
   },
   "file_extension": ".py",
   "mimetype": "text/x-python",
   "name": "python",
   "nbconvert_exporter": "python",
   "pygments_lexer": "ipython2",
   "version": "2.7.13"
  },
  "latex_envs": {
   "bibliofile": "biblio.bib",
   "cite_by": "apalike",
   "current_citInitial": 1,
   "eqLabelWithNumbers": true,
   "eqNumInitial": 0
  },
  "nav_menu": {},
  "toc": {
   "navigate_menu": true,
   "number_sections": true,
   "sideBar": true,
   "threshold": 6,
   "toc_cell": false,
   "toc_section_display": "block",
   "toc_window_display": false
  }
 },
 "nbformat": 4,
 "nbformat_minor": 0
}
