{
 "cells": [
  {
   "cell_type": "markdown",
   "metadata": {},
   "source": [
    "# Table of Contents\n",
    "* [1. Introduction](#1.-Introduction)\n",
    "* [2. Difference in Wave Propagation](#2.-Difference-in-Wave-Propagation)\n",
    "\t* [2.1 O-mode in 1D Plasma](#2.1-O-mode-in-1D-Plasma)\n",
    "\t\t* [2.1.1 Dielectric element](#2.1.1-Dielectric-element)\n",
    "\t\t* [2.1.2 Phase Difference](#2.1.2-Phase-Difference)\n",
    "\t\t* [2.1.3 Wave Electric Field](#2.1.3-Wave-Electric-Field)\n",
    "\t\t\t* [2.1.3.1 Wave Amplitude](#2.1.3.1-Wave-Amplitude)\n",
    "\t\t\t* [2.1.3.2 Difference in E Field](#2.1.3.2-Difference-in-E-Field)\n",
    "\t* [2.2 X-mode in 1D plasma](#2.2-X-mode-in-1D-plasma)\n",
    "\t\t* [2.2.1 Dielectric element](#2.2.1-Dielectric-element)\n",
    "\t\t* [2.2.2 Phase Difference](#2.2.2-Phase-Difference)\n",
    "\t\t* [2.2.3 Wave Electric Field](#2.2.3-Wave-Electric-Field)\n",
    "\t\t\t* [2.2.3.1 Difference in E Field](#2.2.3.1-Difference-in-E-Field)\n",
    "* [3. Phase difference as a function of temperature](#3.-Phase-difference-as-a-function-of-temperature)\n",
    "\t* [3.1 Phase Difference Curves](#3.1-Phase-Difference-Curves)\n",
    "\t\t* [3.1.1 O-mode](#3.1.1-O-mode)\n",
    "\t\t* [3.1.2 X-mode](#3.1.2-X-mode)\n",
    "* [4. Conclusion](#4.-Conclusion)\n"
   ]
  },
  {
   "cell_type": "markdown",
   "metadata": {},
   "source": [
    "# 1. Introduction"
   ]
  },
  {
   "cell_type": "markdown",
   "metadata": {},
   "source": [
    "In this document, we will focus on perpendicularly incidental waves propagating in magnetized plasmas. In particular, we are interested in how cold electron model and weakly relativistic electron model differ in non-resonant regions. "
   ]
  },
  {
   "cell_type": "code",
   "execution_count": null,
   "metadata": {
    "collapsed": false
   },
   "outputs": [],
   "source": [
    "import numpy as np\n",
    "import matplotlib.pyplot as plt\n",
    "import pylab\n",
    "%matplotlib inline\n",
    "\n",
    "import FPSDP.Plasma.Analytical_Profiles.TestParameter as tp\n",
    "import FPSDP.Maths.LightBeam as lb\n",
    "import FPSDP.Models.Waves.Propagator as prop\n",
    "import FPSDP.Plasma.DielectricTensor as dt\n",
    "from FPSDP.GeneralSettings.UnitSystem import cgs\n",
    "\n",
    "pylab.rcParams['figure.figsize'] = (10.0, 8.0)\n",
    "pylab.rcParams['font.size'] = 20\n",
    "\n",
    "# We use an extremely large R_0 to simulate an uniform B field\n",
    "R0 = 10000\n",
    "\n",
    "tp.set_parameter1D(Te_0=15*cgs['keV'], Te_shape='uniform', ne_shape='uniform', R_0=R0, Xmin=R0-50, Xmax=R0+50)\n",
    "p1d = tp.create_profile1D(False)\n",
    "\n",
    "p1d.setup_interps()\n",
    "\n",
    "c = cgs['c']\n",
    "e = cgs['e']\n",
    "m = cgs['m_e']\n",
    "keV = cgs['keV']\n",
    "\n",
    "B = p1d.get_B([R0])[0]\n",
    "omega_c = e*B/(m*c)\n",
    "omega = 2.2*omega_c"
   ]
  },
  {
   "cell_type": "markdown",
   "metadata": {},
   "source": [
    "# 2. Difference in Wave Propagation"
   ]
  },
  {
   "cell_type": "markdown",
   "metadata": {},
   "source": [
    "First, let's take a look at the result of wave propagation. This will give us an intuitive perspect of weakly relativistic effects."
   ]
  },
  {
   "cell_type": "code",
   "execution_count": null,
   "metadata": {
    "collapsed": true
   },
   "outputs": [],
   "source": [
    "y_min, y_max = -20, 20\n",
    "z_min, z_max = -20, 20\n",
    "ny = 64\n",
    "nz = 64\n",
    "start_plane = tp.Grid.Cartesian2D(DownLeft=(z_min,y_min), UpRight=(z_max,y_max), \n",
    "                                  NR=ny, NZ=nz)\n",
    "x_start = R0+50\n",
    "x_end = R0\n",
    "nx = 250\n",
    "\n",
    "Z2D,Y2D = start_plane.get_ndmesh()            \n",
    "X2D = np.ones_like(Y2D)*x_start\n",
    "\n",
    "wave_length = 2*np.pi*3e10/omega\n",
    "gb = lb.GaussianBeam(wave_length, waist_x=x_start, waist_y=0, w_0y=3, tilt_h=0)\n",
    "\n",
    "E_start = gb([Z2D, Y2D, X2D])\n",
    "\n",
    "Z1D, Y1D = start_plane.get_mesh()"
   ]
  },
  {
   "cell_type": "markdown",
   "metadata": {},
   "source": [
    "## 2.1 O-mode in 1D Plasma"
   ]
  },
  {
   "cell_type": "code",
   "execution_count": null,
   "metadata": {
    "collapsed": false
   },
   "outputs": [],
   "source": [
    "propagator1d_cold = prop.ParaxialPerpendicularPropagator1D(plasma = p1d, \n",
    "                                                          dielectric_class = dt.ColdElectronColdIon, \n",
    "                                                          polarization = 'O', \n",
    "                                                          direction = -1)\n",
    "\n",
    "propagator1d_rel = prop.ParaxialPerpendicularPropagator1D(plasma = p1d, \n",
    "                                                          dielectric_class = dt.RelElectronColdIon, \n",
    "                                                          polarization = 'O', \n",
    "                                                          direction = -1,\n",
    "                                                          max_harmonic = 1,\n",
    "                                                          max_power=1)"
   ]
  },
  {
   "cell_type": "markdown",
   "metadata": {},
   "source": [
    "> In `propagate` method, we can set `debug_mode` to be `True`, so additional phase information will be retained after the calculation."
   ]
  },
  {
   "cell_type": "code",
   "execution_count": null,
   "metadata": {
    "collapsed": false
   },
   "outputs": [],
   "source": [
    "E1_cold = propagator1d_cold.propagate(omega, x_start, x_end, nx, E_start, Y1D, Z1D, debug_mode=True, \n",
    "                                      include_main_phase=True, mute=False)"
   ]
  },
  {
   "cell_type": "code",
   "execution_count": null,
   "metadata": {
    "collapsed": false
   },
   "outputs": [],
   "source": [
    "E1_rel = propagator1d_rel.propagate(omega, x_start, x_end, nx, E_start, Y1D, Z1D, debug_mode=True, \n",
    "                                    include_main_phase=True, mute=False)"
   ]
  },
  {
   "cell_type": "code",
   "execution_count": null,
   "metadata": {
    "collapsed": true
   },
   "outputs": [],
   "source": [
    "E1_diff = E1_rel - E1_cold"
   ]
  },
  {
   "cell_type": "markdown",
   "metadata": {},
   "source": [
    "### 2.1.1 Dielectric element"
   ]
  },
  {
   "cell_type": "code",
   "execution_count": null,
   "metadata": {
    "collapsed": true
   },
   "outputs": [],
   "source": [
    "P_cold = propagator1d_cold.eps0[2,2]"
   ]
  },
  {
   "cell_type": "code",
   "execution_count": null,
   "metadata": {
    "collapsed": false
   },
   "outputs": [],
   "source": [
    "plt.plot(propagator1d_cold.x_coords, 1-np.real(P_cold))\n",
    "plt.title('cold dielectric $1-P$')"
   ]
  },
  {
   "cell_type": "code",
   "execution_count": null,
   "metadata": {
    "collapsed": true
   },
   "outputs": [],
   "source": [
    "dP_rel = propagator1d_rel.deps[2,2]"
   ]
  },
  {
   "cell_type": "code",
   "execution_count": null,
   "metadata": {
    "collapsed": false
   },
   "outputs": [],
   "source": [
    "propagator1d_rel.central_kz"
   ]
  },
  {
   "cell_type": "code",
   "execution_count": null,
   "metadata": {
    "collapsed": false
   },
   "outputs": [],
   "source": [
    "plt.plot(propagator1d_rel.x_coords, np.real(dP_rel[0,0]))\n",
    "plt.title('Re$\\delta \\epsilon_{zz}$ at kz=0')\n",
    "plt.xlabel('X (cm)')"
   ]
  },
  {
   "cell_type": "markdown",
   "metadata": {},
   "source": [
    "> **The deviation is less than 5% for 15keV electrons. **"
   ]
  },
  {
   "cell_type": "markdown",
   "metadata": {},
   "source": [
    "### 2.1.2 Phase Difference"
   ]
  },
  {
   "cell_type": "markdown",
   "metadata": {},
   "source": [
    "> Detailed phase information is only available in `debug_mode`"
   ]
  },
  {
   "cell_type": "code",
   "execution_count": null,
   "metadata": {
    "collapsed": true
   },
   "outputs": [],
   "source": [
    "phase_ky_cold = propagator1d_cold.dphi_ky\n",
    "phase_kz_cold = propagator1d_cold.dphi_kz\n",
    "phase_ky_rel = propagator1d_rel.dphi_ky \n",
    "phase_kz_rel = propagator1d_rel.dphi_kz "
   ]
  },
  {
   "cell_type": "code",
   "execution_count": null,
   "metadata": {
    "collapsed": false
   },
   "outputs": [],
   "source": [
    "np.max(np.abs(phase_ky_cold - phase_ky_rel))"
   ]
  },
  {
   "cell_type": "code",
   "execution_count": null,
   "metadata": {
    "collapsed": false
   },
   "outputs": [],
   "source": [
    "np.max(np.abs(phase_kz_cold - phase_kz_rel))"
   ]
  },
  {
   "cell_type": "markdown",
   "metadata": {},
   "source": [
    "> **From cold plasma to weakly relativistic plasma, the diffraction phase due to $k_y$ and $k_z$ doesn't change.**"
   ]
  },
  {
   "cell_type": "code",
   "execution_count": null,
   "metadata": {
    "collapsed": true
   },
   "outputs": [],
   "source": [
    "phase_deps_cold = propagator1d_cold.dphi_eps\n",
    "phase_deps_rel = propagator1d_rel.dphi_eps"
   ]
  },
  {
   "cell_type": "code",
   "execution_count": null,
   "metadata": {
    "collapsed": false
   },
   "outputs": [],
   "source": [
    "np.max(np.abs(phase_deps_cold - phase_deps_rel))"
   ]
  },
  {
   "cell_type": "markdown",
   "metadata": {},
   "source": [
    "> **Phase due to dielectric tensor difference changes a little less than $\\pi$**"
   ]
  },
  {
   "cell_type": "code",
   "execution_count": null,
   "metadata": {
    "collapsed": false
   },
   "outputs": [],
   "source": [
    "plt.plot(propagator1d_cold.x_coords, np.real(phase_deps_rel[0,0,:] - phase_deps_cold[0,0,:]))\n",
    "plt.title('Phase_rel - Phase_cold')\n",
    "plt.xlabel('X (cm)')"
   ]
  },
  {
   "cell_type": "markdown",
   "metadata": {},
   "source": [
    "### 2.1.3 Wave Electric Field"
   ]
  },
  {
   "cell_type": "markdown",
   "metadata": {},
   "source": [
    "#### 2.1.3.1 Wave Amplitude"
   ]
  },
  {
   "cell_type": "code",
   "execution_count": null,
   "metadata": {
    "collapsed": false
   },
   "outputs": [],
   "source": [
    "plt.imshow(np.abs(E1_cold[nz/2, :,:]), extent=[x_start, x_end, y_min, y_max], origin='lower')\n",
    "plt.colorbar()\n",
    "plt.title('Cold Wave Amplitude')\n",
    "plt.xlabel('X (cm)')\n",
    "plt.ylabel('Y (cm)')"
   ]
  },
  {
   "cell_type": "code",
   "execution_count": null,
   "metadata": {
    "collapsed": false
   },
   "outputs": [],
   "source": [
    "plt.imshow(np.abs(E1_rel[nz/2, :,:]), extent=[x_start, x_end, y_min, y_max], origin='lower')\n",
    "plt.colorbar()\n",
    "plt.title('Rel Wave Amplitude')\n",
    "plt.xlabel('X (cm)')\n",
    "plt.ylabel('Y (cm)')"
   ]
  },
  {
   "cell_type": "markdown",
   "metadata": {},
   "source": [
    "#### 2.1.3.2 Difference in E Field"
   ]
  },
  {
   "cell_type": "code",
   "execution_count": null,
   "metadata": {
    "collapsed": false
   },
   "outputs": [],
   "source": [
    "plt.plot(propagator1d_cold.x_coords, np.real(E1_diff[nz/2, ny/2, :]))\n",
    "plt.title('Real part difference')\n",
    "plt.xlabel('X (cm)')\n",
    "plt.ylabel('Re(dE)')"
   ]
  },
  {
   "cell_type": "code",
   "execution_count": null,
   "metadata": {
    "collapsed": false
   },
   "outputs": [],
   "source": [
    "plt.plot(propagator1d_cold.x_coords, np.abs(E1_diff[nz/2, ny/2, :]))\n",
    "plt.title('Absolute value difference')\n",
    "plt.xlabel('X (cm)')\n",
    "plt.ylabel('|dE|')"
   ]
  },
  {
   "cell_type": "markdown",
   "metadata": {},
   "source": [
    "> **The difference in E field also shows the roughly $\\pi$ phase shift over propagation.**"
   ]
  },
  {
   "cell_type": "markdown",
   "metadata": {},
   "source": [
    "## 2.2 X-mode in 1D plasma"
   ]
  },
  {
   "cell_type": "code",
   "execution_count": null,
   "metadata": {
    "collapsed": false
   },
   "outputs": [],
   "source": [
    "propagator1d_cold = prop.ParaxialPerpendicularPropagator1D(plasma = p1d, \n",
    "                                                          dielectric_class = dt.ColdElectronColdIon, \n",
    "                                                          polarization = 'X', \n",
    "                                                          direction = -1)\n",
    "\n",
    "propagator1d_rel = prop.ParaxialPerpendicularPropagator1D(plasma = p1d, \n",
    "                                                      dielectric_class = dt.RelElectronColdIon, \n",
    "                                                      polarization = 'X', \n",
    "                                                      direction = -1,\n",
    "                                                      max_harmonic = 3,\n",
    "                                                      max_power = 3)"
   ]
  },
  {
   "cell_type": "code",
   "execution_count": null,
   "metadata": {
    "collapsed": false
   },
   "outputs": [],
   "source": [
    "E1_cold = propagator1d_cold.propagate(omega, x_start, x_end, nx, E_start, Y1D, Z1D, debug_mode=True, \n",
    "                                      include_main_phase=True, mute=False)"
   ]
  },
  {
   "cell_type": "code",
   "execution_count": null,
   "metadata": {
    "collapsed": false
   },
   "outputs": [],
   "source": [
    "E1_rel = propagator1d_rel.propagate(omega, x_start, x_end, nx, E_start, Y1D, Z1D, debug_mode=True, \n",
    "                                    include_main_phase=True, mute=False)"
   ]
  },
  {
   "cell_type": "code",
   "execution_count": null,
   "metadata": {
    "collapsed": true
   },
   "outputs": [],
   "source": [
    "E1_diff = E1_rel - E1_cold"
   ]
  },
  {
   "cell_type": "markdown",
   "metadata": {},
   "source": [
    "### 2.2.1 Dielectric element"
   ]
  },
  {
   "cell_type": "code",
   "execution_count": null,
   "metadata": {
    "collapsed": true
   },
   "outputs": [],
   "source": [
    "S_cold = propagator1d_cold.eps0[0,0]"
   ]
  },
  {
   "cell_type": "code",
   "execution_count": null,
   "metadata": {
    "collapsed": false
   },
   "outputs": [],
   "source": [
    "plt.plot(propagator1d_cold.x_coords, 1-np.real(S_cold))\n",
    "plt.title('cold dielectric $1-S$')"
   ]
  },
  {
   "cell_type": "code",
   "execution_count": null,
   "metadata": {
    "collapsed": true
   },
   "outputs": [],
   "source": [
    "dS_rel = propagator1d_rel.deps[0,0]"
   ]
  },
  {
   "cell_type": "code",
   "execution_count": null,
   "metadata": {
    "collapsed": false
   },
   "outputs": [],
   "source": [
    "plt.plot(propagator1d_rel.x_coords, np.real(dS_rel[0,0]))\n",
    "plt.title('Re$\\delta \\epsilon_{xx}$ at kz=0')\n",
    "plt.xlabel('X (cm)')"
   ]
  },
  {
   "cell_type": "code",
   "execution_count": null,
   "metadata": {
    "collapsed": false
   },
   "outputs": [],
   "source": [
    "plt.plot(propagator1d_rel.x_coords, np.imag(dS_rel[0,0]))\n",
    "plt.title('Im$\\delta \\epsilon_{xx}$ at kz=0')\n",
    "plt.xlabel('X (cm)')"
   ]
  },
  {
   "cell_type": "markdown",
   "metadata": {},
   "source": [
    "### 2.2.2 Phase Difference"
   ]
  },
  {
   "cell_type": "markdown",
   "metadata": {},
   "source": [
    "> Detailed phase information is only available in `debug_mode`"
   ]
  },
  {
   "cell_type": "code",
   "execution_count": null,
   "metadata": {
    "collapsed": true
   },
   "outputs": [],
   "source": [
    "phase_ky_cold = propagator1d_cold.dphi_ky\n",
    "phase_kz_cold = propagator1d_cold.dphi_kz\n",
    "phase_ky_rel = propagator1d_rel.dphi_ky \n",
    "phase_kz_rel = propagator1d_rel.dphi_kz "
   ]
  },
  {
   "cell_type": "code",
   "execution_count": null,
   "metadata": {
    "collapsed": false
   },
   "outputs": [],
   "source": [
    "np.max(np.abs(phase_ky_cold - phase_ky_rel))"
   ]
  },
  {
   "cell_type": "code",
   "execution_count": null,
   "metadata": {
    "collapsed": false
   },
   "outputs": [],
   "source": [
    "np.max(np.abs(phase_kz_cold - phase_kz_rel))"
   ]
  },
  {
   "cell_type": "markdown",
   "metadata": {},
   "source": [
    "> **From cold plasma to weakly relativistic plasma, for X-mode, just as for O-mode, the diffraction phase due to $k_y$ and $k_z$ doesn't change.**"
   ]
  },
  {
   "cell_type": "code",
   "execution_count": null,
   "metadata": {
    "collapsed": true
   },
   "outputs": [],
   "source": [
    "phase_deps_rel = propagator1d_rel.dphi_eps"
   ]
  },
  {
   "cell_type": "code",
   "execution_count": null,
   "metadata": {
    "collapsed": false
   },
   "outputs": [],
   "source": [
    "np.max(np.abs(np.real(phase_deps_rel)))"
   ]
  },
  {
   "cell_type": "code",
   "execution_count": null,
   "metadata": {
    "collapsed": false
   },
   "outputs": [],
   "source": [
    "np.max(np.imag(phase_deps_rel))"
   ]
  },
  {
   "cell_type": "markdown",
   "metadata": {},
   "source": [
    "> **Phase due to dielectric tensor difference changes more than $\\pi$. A small non-zero imaginary part appears since the third harmonic resonance marginally occurs.**"
   ]
  },
  {
   "cell_type": "code",
   "execution_count": null,
   "metadata": {
    "collapsed": false
   },
   "outputs": [],
   "source": [
    "plt.plot(propagator1d_cold.x_coords, np.real(phase_deps_rel[0,0,:]))\n",
    "plt.title('Phase_rel')\n",
    "plt.xlabel('X (cm)')"
   ]
  },
  {
   "cell_type": "markdown",
   "metadata": {},
   "source": [
    "### 2.2.3 Wave Electric Field"
   ]
  },
  {
   "cell_type": "markdown",
   "metadata": {},
   "source": [
    "#### 2.2.3.1 Difference in E Field"
   ]
  },
  {
   "cell_type": "code",
   "execution_count": null,
   "metadata": {
    "collapsed": false
   },
   "outputs": [],
   "source": [
    "plt.plot(propagator1d_cold.x_coords, np.real(E1_diff[nz/2, ny/2, :]))\n",
    "plt.title('Real part difference')\n",
    "plt.xlabel('X (cm)')\n",
    "plt.ylabel('Re(dE)')"
   ]
  },
  {
   "cell_type": "code",
   "execution_count": null,
   "metadata": {
    "collapsed": false,
    "scrolled": false
   },
   "outputs": [],
   "source": [
    "plt.plot(propagator1d_cold.x_coords, np.abs(E1_diff[nz/2, ny/2, :]))\n",
    "plt.title('Absolute value difference')\n",
    "plt.xlabel('X (cm)')\n",
    "plt.ylabel('|dE| (cm)')"
   ]
  },
  {
   "cell_type": "markdown",
   "metadata": {},
   "source": [
    "# 3. Phase difference as a function of temperature"
   ]
  },
  {
   "cell_type": "markdown",
   "metadata": {},
   "source": [
    "## 3.1 Phase Difference Curves"
   ]
  },
  {
   "cell_type": "markdown",
   "metadata": {},
   "source": [
    "Since the main effect of weakly relativistic tensor is introducing an additional phase, we now study the relationship between the phase and temperature."
   ]
  },
  {
   "cell_type": "code",
   "execution_count": null,
   "metadata": {
    "collapsed": true
   },
   "outputs": [],
   "source": [
    "Te_array = np.arange(1,35,2)"
   ]
  },
  {
   "cell_type": "code",
   "execution_count": null,
   "metadata": {
    "collapsed": true
   },
   "outputs": [],
   "source": [
    "dph_array = np.zeros_like(Te_array, dtype='float')"
   ]
  },
  {
   "cell_type": "markdown",
   "metadata": {},
   "source": [
    "### 3.1.1 O-mode"
   ]
  },
  {
   "cell_type": "code",
   "execution_count": null,
   "metadata": {
    "collapsed": false
   },
   "outputs": [],
   "source": [
    "for i, Te in enumerate(Te_array):\n",
    "    tp.set_parameter1D(Te_0=Te*cgs['keV'], Te_shape='uniform', ne_shape='uniform', R_0=R0, Xmin=R0-50, Xmax=R0+50)\n",
    "    p1d = tp.create_profile1D(False)\n",
    "    p1d.setup_interps()\n",
    "    propagator = prop.ParaxialPerpendicularPropagator1D(plasma=p1d, \n",
    "                                                        dielectric_class=dt.RelElectronColdIon,\n",
    "                                                        polarization='O', \n",
    "                                                        direction=-1,\n",
    "                                                        max_harmonic=1, \n",
    "                                                        max_power=1)\n",
    "    E = propagator.propagate(omega, x_start, x_end, 100, E_start, Y1D, Z1D, debug_mode=True)\n",
    "    dph_array[i] = np.max(np.abs(propagator.dphi_eps))"
   ]
  },
  {
   "cell_type": "code",
   "execution_count": null,
   "metadata": {
    "collapsed": false,
    "scrolled": false
   },
   "outputs": [],
   "source": [
    "plt.plot(Te_array, dph_array)\n",
    "plt.xlabel('Te_0 (keV)')\n",
    "plt.title('max Phase difference')"
   ]
  },
  {
   "cell_type": "markdown",
   "metadata": {},
   "source": [
    "> **As expected, the phase difference between weakly relativistic calculation and cold calculation converges to zero when temperature approaches 0.**"
   ]
  },
  {
   "cell_type": "markdown",
   "metadata": {},
   "source": [
    "Now we include second harmonic contributions."
   ]
  },
  {
   "cell_type": "code",
   "execution_count": null,
   "metadata": {
    "collapsed": false
   },
   "outputs": [],
   "source": [
    "for i, Te in enumerate(Te_array):\n",
    "    tp.set_parameter1D(Te_0=Te*cgs['keV'], Te_shape='uniform', ne_shape='uniform', R_0=R0, Xmin=R0-50, Xmax=R0+50)\n",
    "    p1d = tp.create_profile1D(False)\n",
    "    p1d.setup_interps()\n",
    "    propagator = prop.ParaxialPerpendicularPropagator1D(plasma=p1d, \n",
    "                                                        dielectric_class=dt.RelElectronColdIon,\n",
    "                                                        polarization='O', \n",
    "                                                        direction=-1,\n",
    "                                                        max_harmonic=2, \n",
    "                                                        max_power=2)\n",
    "    E = propagator.propagate(omega, x_start, x_end, 100, E_start, Y1D, Z1D, debug_mode=True)\n",
    "    dph_array[i] = np.max(np.abs(propagator.dphi_eps))"
   ]
  },
  {
   "cell_type": "code",
   "execution_count": null,
   "metadata": {
    "collapsed": false,
    "scrolled": false
   },
   "outputs": [],
   "source": [
    "plt.plot(Te_array, dph_array)\n",
    "plt.xlabel('Te_0 (keV)')\n",
    "plt.title('max Phase difference')"
   ]
  },
  {
   "cell_type": "markdown",
   "metadata": {},
   "source": [
    "> **As we can see, including second harmonic terms doens't change the qualitative behavior of the phase difference. The absolute value does get a little smaller than that in first harmonic only case. This can be understood since higher order terms tend to make the difference in dielectric tensor smaller.**"
   ]
  },
  {
   "cell_type": "markdown",
   "metadata": {},
   "source": [
    "### 3.1.2 X-mode"
   ]
  },
  {
   "cell_type": "code",
   "execution_count": null,
   "metadata": {
    "collapsed": false
   },
   "outputs": [],
   "source": [
    "Te_array = np.logspace(0,2,20)\n",
    "dph_array = np.empty_like(Te_array)\n",
    "\n",
    "for i, Te in enumerate(Te_array):\n",
    "    tp.set_parameter1D(Te_0=Te*cgs['keV'], Te_shape='uniform', ne_shape='uniform', R_0=R0, Xmin=R0-50, Xmax=R0+50)\n",
    "    p1d = tp.create_profile1D(False)\n",
    "    p1d.setup_interps()\n",
    "    propagator = prop.ParaxialPerpendicularPropagator1D(plasma=p1d, \n",
    "                                                        dielectric_class=dt.RelElectronColdIon,\n",
    "                                                        polarization='X', \n",
    "                                                        direction=-1,\n",
    "                                                        max_harmonic=1, \n",
    "                                                        max_power=1)\n",
    "    E = propagator.propagate(omega, x_start, x_end, 100, E_start, Y1D, Z1D, debug_mode=True)\n",
    "    dph_array[i] = np.max(np.abs(propagator.dphi_eps))"
   ]
  },
  {
   "cell_type": "code",
   "execution_count": null,
   "metadata": {
    "collapsed": false,
    "scrolled": false
   },
   "outputs": [],
   "source": [
    "plt.plot(Te_array, dph_array)\n",
    "plt.xlabel('Te_0 (keV)')\n",
    "plt.title('max Phase difference')"
   ]
  },
  {
   "cell_type": "markdown",
   "metadata": {},
   "source": [
    "> **Again, for X-mode, first harmonic only case looks similar to O-mode. However, the phase difference is much larger. This is due to one magnitude of $\\lambda$ larger in dielectric tensor elements.**"
   ]
  },
  {
   "cell_type": "code",
   "execution_count": null,
   "metadata": {
    "collapsed": false
   },
   "outputs": [],
   "source": [
    "for i, Te in enumerate(Te_array):\n",
    "    tp.set_parameter1D(Te_0=Te*cgs['keV'], Te_shape='uniform', ne_shape='uniform', R_0=R0, Xmin=R0-50, Xmax=R0+50)\n",
    "    p1d = tp.create_profile1D(False)\n",
    "    p1d.setup_interps()\n",
    "    propagator = prop.ParaxialPerpendicularPropagator1D(plasma=p1d, \n",
    "                                                        dielectric_class=dt.RelElectronColdIon,\n",
    "                                                        polarization='X', \n",
    "                                                        direction=-1,\n",
    "                                                        max_harmonic=2, \n",
    "                                                        max_power=2)\n",
    "    E = propagator.propagate(omega, x_start, x_end, 100, E_start, Y1D, Z1D, debug_mode=True)\n",
    "    dph_array[i] = np.max(np.abs(propagator.dphi_eps))"
   ]
  },
  {
   "cell_type": "code",
   "execution_count": null,
   "metadata": {
    "collapsed": false,
    "scrolled": false
   },
   "outputs": [],
   "source": [
    "plt.plot(Te_array, dph_array)\n",
    "plt.xlabel('Te_0 (keV)')\n",
    "plt.title('max Phase difference')"
   ]
  },
  {
   "cell_type": "markdown",
   "metadata": {},
   "source": [
    "> **For second harmonic included case, an interesting thing happens. The difference gets to a minimum at around Te=22 keV, and increases for a short period as temperature drops, eventually converges to 0 as expected. The appearence of this minimum is due to the competing relation between second order terms and first order terms.**"
   ]
  },
  {
   "cell_type": "code",
   "execution_count": null,
   "metadata": {
    "collapsed": false
   },
   "outputs": [],
   "source": [
    "for i, Te in enumerate(Te_array):\n",
    "    tp.set_parameter1D(Te_0=Te*cgs['keV'], Te_shape='uniform', ne_shape='uniform', R_0=R0, Xmin=R0-50, Xmax=R0+50)\n",
    "    p1d = tp.create_profile1D(False)\n",
    "    p1d.setup_interps()\n",
    "    propagator = prop.ParaxialPerpendicularPropagator1D(plasma=p1d, \n",
    "                                                        dielectric_class=dt.RelElectronColdIon,\n",
    "                                                        polarization='X', \n",
    "                                                        direction=-1,\n",
    "                                                        max_harmonic=3, \n",
    "                                                        max_power=3)\n",
    "    E = propagator.propagate(omega, x_start, x_end, 100, E_start, Y1D, Z1D, debug_mode=True)\n",
    "    dph_array[i] = np.max(np.abs(propagator.dphi_eps))"
   ]
  },
  {
   "cell_type": "code",
   "execution_count": null,
   "metadata": {
    "collapsed": false,
    "scrolled": false
   },
   "outputs": [],
   "source": [
    "plt.plot(Te_array, dph_array)\n",
    "plt.xlabel('Te_0 (keV)')\n",
    "plt.title('max Phase difference')"
   ]
  },
  {
   "cell_type": "markdown",
   "metadata": {},
   "source": [
    "> ** Again, when we includes 3rd harmonics, the phase difference at higher temperature gets significantly smaller. The third order terms are important in these temperature region. We briefly show the 4th and 5th order terms included cases below, they look pretty similar to 3rd order case.**"
   ]
  },
  {
   "cell_type": "code",
   "execution_count": null,
   "metadata": {
    "collapsed": false
   },
   "outputs": [],
   "source": [
    "for i, Te in enumerate(Te_array):\n",
    "    tp.set_parameter1D(Te_0=Te*cgs['keV'], Te_shape='uniform', ne_shape='uniform', R_0=R0, Xmin=R0-50, Xmax=R0+50)\n",
    "    p1d = tp.create_profile1D(False)\n",
    "    p1d.setup_interps()\n",
    "    propagator = prop.ParaxialPerpendicularPropagator1D(plasma=p1d, \n",
    "                                                        dielectric_class=dt.RelElectronColdIon,\n",
    "                                                        polarization='X', \n",
    "                                                        direction=-1,\n",
    "                                                        max_harmonic=4, \n",
    "                                                        max_power=4)\n",
    "    E = propagator.propagate(omega, x_start, x_end, 100, E_start, Y1D, Z1D, debug_mode=True)\n",
    "    dph_array[i] = np.max(np.abs(propagator.dphi_eps))"
   ]
  },
  {
   "cell_type": "code",
   "execution_count": null,
   "metadata": {
    "collapsed": false,
    "scrolled": false
   },
   "outputs": [],
   "source": [
    "plt.plot(Te_array, dph_array)\n",
    "plt.xlabel('Te_0 (keV)')\n",
    "plt.title('max Phase difference')"
   ]
  },
  {
   "cell_type": "markdown",
   "metadata": {},
   "source": [
    "> **4th order contribution tends to fill up the minimum. Just as 3rd order terms did to 2nd order minimum.**"
   ]
  },
  {
   "cell_type": "code",
   "execution_count": null,
   "metadata": {
    "collapsed": false
   },
   "outputs": [],
   "source": [
    "for i, Te in enumerate(Te_array):\n",
    "    tp.set_parameter1D(Te_0=Te*cgs['keV'], Te_shape='uniform', ne_shape='uniform', R_0=R0, Xmin=R0-50, Xmax=R0+50)\n",
    "    p1d = tp.create_profile1D(False)\n",
    "    p1d.setup_interps()\n",
    "    propagator = prop.ParaxialPerpendicularPropagator1D(plasma=p1d, \n",
    "                                                        dielectric_class=dt.RelElectronColdIon,\n",
    "                                                        polarization='X', \n",
    "                                                        direction=-1,\n",
    "                                                        max_harmonic=5, \n",
    "                                                        max_power=5)\n",
    "    E = propagator.propagate(omega, x_start, x_end, 100, E_start, Y1D, Z1D, debug_mode=True)\n",
    "    dph_array[i] = np.max(np.abs(propagator.dphi_eps))"
   ]
  },
  {
   "cell_type": "code",
   "execution_count": null,
   "metadata": {
    "collapsed": false,
    "scrolled": false
   },
   "outputs": [],
   "source": [
    "plt.plot(Te_array, dph_array)\n",
    "plt.xlabel('Te_0 (keV)')\n",
    "plt.title('max Phase difference')"
   ]
  },
  {
   "cell_type": "markdown",
   "metadata": {
    "collapsed": true
   },
   "source": [
    "# 4. Conclusion"
   ]
  },
  {
   "cell_type": "markdown",
   "metadata": {},
   "source": [
    "- **In non-resonant region, the main difference between weakly relativistic dielectric tensor and the cold plasma dielectric tensor on perpendicularly propagating waves is an additional real phase.**\n",
    "- **For X-mode, this phase can be comparable to $\\pi$ even for fairly low temperature, e.g. Te=1keV.** \n",
    "- **Depending on the temperature, the appropriate order of harmonics needed to be included will change. For waves frequency slightly above second harmonics**"
   ]
  }
 ],
 "metadata": {
  "kernelspec": {
   "display_name": "Python 2",
   "language": "python",
   "name": "python2"
  },
  "language_info": {
   "codemirror_mode": {
    "name": "ipython",
    "version": 2
   },
   "file_extension": ".py",
   "mimetype": "text/x-python",
   "name": "python",
   "nbconvert_exporter": "python",
   "pygments_lexer": "ipython2",
   "version": "2.7.11"
  }
 },
 "nbformat": 4,
 "nbformat_minor": 0
}
