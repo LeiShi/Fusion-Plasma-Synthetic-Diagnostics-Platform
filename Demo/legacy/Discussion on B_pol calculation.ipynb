{
 "cells": [
  {
   "cell_type": "markdown",
   "metadata": {},
   "source": [
    "# Table of Contents\n",
    "* [1. Two Formula for calculating $\\vec{B}_p$](#1.-Two-Formula-for-calculating-$\\vec{B}_p$)\n",
    "\t* [1.1 Contravariant formulism](#1.1-Contravariant-formulism)\n",
    "\t* [1.2 Covariant formulism](#1.2-Covariant-formulism)\n",
    "* [2. $\\vec{B}_p$ calculated using above two formula](#2.-$\\vec{B}_p$-calculated-using-above-two-formula)\n",
    "\t* [2.1 Contravariant formula looks good](#2.1-Contravariant-formula-looks-good)\n",
    "\t* [2.2 Covariant formula doesn't look the same!](#2.2-Covariant-formula-doesn't-look-the-same!)\n",
    "* [3. Discussion on possible reason of the disagreement](#3.-Discussion-on-possible-reason-of-the-disagreement)\n",
    "* [4. Conclusion](#4.-Conclusion)\n"
   ]
  },
  {
   "cell_type": "markdown",
   "metadata": {},
   "source": [
    "During the development of GTC-FPSDP interface, we have seen an interesting disagreement between two approaches of calculating the poloidal magnetic field. The following shows the theoretical derivation of both approaches, numerical results, and some discussion."
   ]
  },
  {
   "cell_type": "markdown",
   "metadata": {},
   "source": [
    "# 1. Two Formula for calculating $\\vec{B}_p$"
   ]
  },
  {
   "cell_type": "markdown",
   "metadata": {},
   "source": [
    "## 1.1 Contravariant formulism"
   ]
  },
  {
   "cell_type": "markdown",
   "metadata": {},
   "source": [
    "The contravariant form of magnetic field in an axisymmetry toroidal system is usually given as:"
   ]
  },
  {
   "cell_type": "markdown",
   "metadata": {},
   "source": [
    "\\begin{equation*}\n",
    "\\vec{B} = \\nabla \\psi \\times \\nabla(q\\theta-\\zeta)\n",
    "\\tag{1}\n",
    "\\label{eq:contravariant1}\n",
    "\\end{equation*}"
   ]
  },
  {
   "cell_type": "markdown",
   "metadata": {},
   "source": [
    "where $\\psi = \\Psi_{pol}/2\\pi$ is a label of poloidal flux, $\\psi$, $\\theta$ and $\\zeta$ form a right-handed coordinate system. $q \\equiv \\dot{\\Psi}_{tor}/\\dot{\\Psi}_{pol}$ is the safety factor. The over dot denotes derivative respect to $\\psi$."
   ]
  },
  {
   "cell_type": "markdown",
   "metadata": {},
   "source": [
    "Eq.\\ref{eq:contravariant1} can then be written in a more explicit form if we require $\\zeta$ to be the symmetry coordinate, so that no equilibrium quantities depend on $\\zeta$. As a result, $\\nabla \\psi \\cdot \\nabla \\zeta=0$, $\\nabla \\theta \\cdot \\nabla \\zeta=0$, and $\\nabla \\psi \\times \\nabla \\theta$ is in the direction of $\\nabla \\zeta$. "
   ]
  },
  {
   "cell_type": "markdown",
   "metadata": {},
   "source": [
    "\\begin{equation*}\n",
    "\\vec{B} = g(\\psi,\\theta)\\nabla \\zeta - \\nabla \\psi \\times \\nabla \\zeta\n",
    "\\tag{2}\n",
    "\\label{eq:contravariant2}\n",
    "\\end{equation*}"
   ]
  },
  {
   "cell_type": "markdown",
   "metadata": {},
   "source": [
    "$g(\\psi,\\theta)$ determines the toroidal magnetic field, while the poloidal field is given by $-\\nabla \\psi \\times \\nabla \\zeta$ term. "
   ]
  },
  {
   "cell_type": "markdown",
   "metadata": {},
   "source": [
    "Eq.\\ref{eq:contravariant2} is called a contravariant formulism because $\\nabla \\zeta \\sim \\nabla \\psi \\times \\nabla \\theta$ and $\\nabla \\psi \\times \\nabla \\zeta$ are two of the contravariant basis vectors in the $(\\psi,\\theta,\\zeta)$ coordinate system. Vector $\\vec{B}$ is thus expressed in the contravariant basis, $\\vec{B} = B^\\psi \\hat{e}_\\psi + B^\\theta \\hat{e}_\\theta + B^\\zeta \\hat{e}_\\zeta$."
   ]
  },
  {
   "cell_type": "markdown",
   "metadata": {},
   "source": [
    "In GTC, we have information on $\\psi(R,Z)$, so $\\nabla \\psi = \\frac{\\partial \\psi}{\\partial R} \\hat{R} + \\frac{\\partial \\psi} {\\partial Z} \\hat{Z}$. and $\\nabla \\zeta = -\\frac{1}{R}\\hat{\\Phi}$. $(R,\\Phi,Z)$ forms the usual right-handed cylindrical coordinate system for tokamaks."
   ]
  },
  {
   "cell_type": "markdown",
   "metadata": {},
   "source": [
    "So, a little algebra gives us the expression for $B_R$ and $B_Z$:"
   ]
  },
  {
   "cell_type": "markdown",
   "metadata": {},
   "source": [
    "\\begin{equation*}\n",
    "B_R = -\\frac{1}{R}\\frac{\\partial \\psi}{\\partial Z}\n",
    "\\tag{3}\n",
    "\\label{eq:B_R_contravariant}\n",
    "\\end{equation*}"
   ]
  },
  {
   "cell_type": "markdown",
   "metadata": {},
   "source": [
    "\\begin{equation*}\n",
    "B_Z = \\frac{1}{R}\\frac{\\partial \\psi}{\\partial R}\n",
    "\\tag{4}\n",
    "\\label{eq:B_Z_contravariant}\n",
    "\\end{equation*}"
   ]
  },
  {
   "cell_type": "markdown",
   "metadata": {},
   "source": [
    "## 1.2 Covariant formulism"
   ]
  },
  {
   "cell_type": "markdown",
   "metadata": {},
   "source": [
    "On the other hand, a covariant expression for vecter $\\vec{B}$ is also possible, and formally, it reads"
   ]
  },
  {
   "cell_type": "markdown",
   "metadata": {},
   "source": [
    "\\begin{equation*}\n",
    "\\vec{B} = \\delta \\nabla \\psi + I \\nabla \\theta + g \\nabla \\zeta\n",
    "\\tag{5}\n",
    "\\label{eq:covariant}\n",
    "\\end{equation*}"
   ]
  },
  {
   "cell_type": "markdown",
   "metadata": {},
   "source": [
    "Since magnetic field lines lie on flux surfaces, it is usually assumed that the $\\nabla \\psi$ component $\\delta$ is negligible. So the poloidal field is mainly represented by $I\\nabla \\theta$."
   ]
  },
  {
   "cell_type": "markdown",
   "metadata": {},
   "source": [
    "Similar to contravariant case, in GTC, we know $\\theta(R,Z)$, and $I(R,Z)$, we can obtain the poloidal field based on these data. So, $B_R$ and $B_Z$ are given as"
   ]
  },
  {
   "cell_type": "markdown",
   "metadata": {},
   "source": [
    "\\begin{equation*}\n",
    "B_R = I\\frac{\\partial \\theta}{\\partial R}\n",
    "\\tag{6}\n",
    "\\label{eq:B_R_covariant}\n",
    "\\end{equation*}"
   ]
  },
  {
   "cell_type": "markdown",
   "metadata": {},
   "source": [
    "\\begin{equation*}\n",
    "B_Z = I\\frac{\\partial \\theta}{\\partial Z}\n",
    "\\tag{7}\n",
    "\\label{eq:B_Z_covariant}\n",
    "\\end{equation*}"
   ]
  },
  {
   "cell_type": "markdown",
   "metadata": {},
   "source": [
    "# 2. $\\vec{B}_p$ calculated using above two formula"
   ]
  },
  {
   "cell_type": "markdown",
   "metadata": {},
   "source": [
    "## 2.1 Contravariant formula looks good"
   ]
  },
  {
   "cell_type": "markdown",
   "metadata": {},
   "source": [
    "Now, let's calculate poloidal field using the formula we introduced. First, let's try the contravariant formula. In order to do that, we need to calculate the partial derivatives of $\\psi$ respect to $R$ and $Z$. The linear interpolator has already done that for us.  "
   ]
  },
  {
   "cell_type": "code",
   "execution_count": null,
   "metadata": {
    "collapsed": true
   },
   "outputs": [],
   "source": [
    "import FPSDP.Plasma.GTC_Profile.GTC_Loader as gtc\n",
    "import numpy as np\n",
    "import matplotlib.pyplot as plt\n",
    "%matplotlib inline"
   ]
  },
  {
   "cell_type": "code",
   "execution_count": null,
   "metadata": {
    "collapsed": false
   },
   "outputs": [],
   "source": [
    "gtc_path = r'Data/GTC_Outputs/nov6-3/'\n",
    "timesteps = [1]\n",
    "grid2d = gtc.Cartesian2D(DownLeft = (-1,1),UpRight = (1,2.2),ResR = 0.01,ResZ = 0.01)\n",
    "gtcdata = gtc.GTC_Loader(gtc_path,grid2d,timesteps)"
   ]
  },
  {
   "cell_type": "markdown",
   "metadata": {},
   "source": [
    "We will use a regular mesh for R and Z, so we can make more intuitive plots."
   ]
  },
  {
   "cell_type": "code",
   "execution_count": null,
   "metadata": {
    "collapsed": true
   },
   "outputs": [],
   "source": [
    "R1D = gtcdata.grid.R1D\n",
    "Z1D = gtcdata.grid.Z1D\n",
    "R2D = gtcdata.grid.R2D\n",
    "Z2D = gtcdata.grid.Z2D"
   ]
  },
  {
   "cell_type": "code",
   "execution_count": null,
   "metadata": {
    "collapsed": true
   },
   "outputs": [],
   "source": [
    "dpdZ,dpdR = gtcdata.a_eq_interp.gradient(Z2D,R2D)"
   ]
  },
  {
   "cell_type": "code",
   "execution_count": null,
   "metadata": {
    "collapsed": false
   },
   "outputs": [],
   "source": [
    "B_R_contra = -1/R2D * dpdZ\n",
    "B_Z_contra = 1/R2D * dpdR"
   ]
  },
  {
   "cell_type": "markdown",
   "metadata": {},
   "source": [
    "Let's take a look at the vector field created by these two components"
   ]
  },
  {
   "cell_type": "code",
   "execution_count": null,
   "metadata": {
    "collapsed": false
   },
   "outputs": [],
   "source": [
    "fig = plt.figure()\n",
    "plt.streamplot(R1D,Z1D,B_R_contra,B_Z_contra)\n",
    "fig.axes[0].set_aspect(1)"
   ]
  },
  {
   "cell_type": "markdown",
   "metadata": {},
   "source": [
    "Compare to the flux surfaces $\\psi=const$"
   ]
  },
  {
   "cell_type": "code",
   "execution_count": null,
   "metadata": {
    "collapsed": false
   },
   "outputs": [],
   "source": [
    "fig = plt.figure()\n",
    "plt.contour(gtcdata.a_on_grid,20,colors='b')\n",
    "fig.axes[0].set_aspect(1)"
   ]
  },
  {
   "cell_type": "markdown",
   "metadata": {},
   "source": [
    "They looks reasonably similar to each other. This means our vector field indeed lies on flux surfaces."
   ]
  },
  {
   "cell_type": "markdown",
   "metadata": {},
   "source": [
    "## 2.2 Covariant formula doesn't look the same!"
   ]
  },
  {
   "cell_type": "markdown",
   "metadata": {},
   "source": [
    "Now, for covariant formula, we need some extra information that is not available from standard GTC_Loader. Namely, the $I$ function, and $\\theta$ interpolator. We need to load them manually from the GTC output files."
   ]
  },
  {
   "cell_type": "code",
   "execution_count": null,
   "metadata": {
    "collapsed": false
   },
   "outputs": [],
   "source": [
    "import json\n",
    "gridfile = gtc_path + 'grid_fpsdp.json'\n",
    "with open(gridfile,'r') as gf:\n",
    "    gridjson = json.load(gf)\n",
    "I = np.array(gridjson['ri_gtc'])\n",
    "I_interp = gtc.linear_interp(gtcdata.triangulation_gtc, I, gtcdata.trifinder_gtc)\n",
    "I_on_grid = I_interp(Z2D,R2D)"
   ]
  },
  {
   "cell_type": "code",
   "execution_count": null,
   "metadata": {
    "collapsed": true
   },
   "outputs": [],
   "source": [
    "theta_eq = np.array(gridjson['theta_eq'])\n",
    "theta_interp = gtc.linear_interp(gtcdata.triangulation_eq, theta_eq, gtcdata.trifinder_eq)\n",
    "dtdZ,dtdR = theta_interp.gradient(Z2D,R2D)"
   ]
  },
  {
   "cell_type": "markdown",
   "metadata": {},
   "source": [
    "Now, we have all the quantities ready, we can calculate $B_R$ and $B_Z$."
   ]
  },
  {
   "cell_type": "code",
   "execution_count": null,
   "metadata": {
    "collapsed": true
   },
   "outputs": [],
   "source": [
    "B_R_co = I_on_grid*dtdR\n",
    "B_Z_co = I_on_grid*dtdZ"
   ]
  },
  {
   "cell_type": "markdown",
   "metadata": {},
   "source": [
    "Let's see how the vector field looks"
   ]
  },
  {
   "cell_type": "code",
   "execution_count": null,
   "metadata": {
    "collapsed": false
   },
   "outputs": [],
   "source": [
    "fig = plt.figure()\n",
    "plt.streamplot(R1D,Z1D,B_R_co,B_Z_co)\n",
    "fig.axes[0].set_aspect(1)"
   ]
  },
  {
   "cell_type": "markdown",
   "metadata": {},
   "source": [
    "It doesn't look like the two plots we've got before."
   ]
  },
  {
   "cell_type": "markdown",
   "metadata": {},
   "source": [
    "# 3. Discussion on possible reason of the disagreement"
   ]
  },
  {
   "cell_type": "markdown",
   "metadata": {},
   "source": [
    "Why the two approaches give different results? In order to understand this, let's take a closer look at the derivation and assumptions we made. "
   ]
  },
  {
   "cell_type": "markdown",
   "metadata": {},
   "source": [
    "In arriving at the covariant expression for $B_R$ and $B_Z$, we have, at one step, ignored the $\\delta \\nabla \\psi$ term in Eq.\\ref{eq:covariant} by vague argument that it is *usually* small. But how small is it in our case? More generally, what is the reason behind this argument, and when is it valid?"
   ]
  },
  {
   "cell_type": "markdown",
   "metadata": {},
   "source": [
    "If we think about the flux coordinate system we have chosen, the fact that $\\psi$ is a flux surface label means that a magnetic field line goes in $\\nabla \\theta$ and $\\nabla \\zeta$ directions, but not in $\\nabla \\psi$ direction. Write it as equation, it means: "
   ]
  },
  {
   "cell_type": "markdown",
   "metadata": {},
   "source": [
    "$$\\vec{B} \\cdot \\nabla \\psi = 0$$"
   ]
  },
  {
   "cell_type": "markdown",
   "metadata": {},
   "source": [
    "The contravariant expression naturally satisfy this equation, since it is equivalent to $B^\\psi= 0$. "
   ]
  },
  {
   "cell_type": "markdown",
   "metadata": {},
   "source": [
    "However, for covariant expression, it's not obvious. Actually, we have:"
   ]
  },
  {
   "cell_type": "markdown",
   "metadata": {},
   "source": [
    "\\begin{equation*}\n",
    "\\delta \\nabla \\psi \\cdot \\nabla \\psi + I \\nabla \\theta \\cdot \\nabla \\psi = 0\n",
    "\\end{equation*}"
   ]
  },
  {
   "cell_type": "markdown",
   "metadata": {},
   "source": [
    "So, in general, when $I\\nabla \\theta \\cdot \\nabla \\psi \\ne 0$, $\\delta = -\\frac{I\\nabla \\theta \\cdot \\nabla \\psi}{\\nabla \\psi \\cdot \\nabla \\psi} \\ne 0$. "
   ]
  },
  {
   "cell_type": "markdown",
   "metadata": {},
   "source": [
    "In our case, if we draw the constant $\\psi$ and constant $\\theta$ curves, we can see that they are far from perpendicular to each other at outer midplane. And that's exactly where the covariant formula disagrees the most with the contravariant formula and the magnetic flux surface shapes."
   ]
  },
  {
   "cell_type": "code",
   "execution_count": null,
   "metadata": {
    "collapsed": false
   },
   "outputs": [],
   "source": [
    "theta_on_grid = theta_interp(Z2D,R2D)\n",
    "fig = plt.figure()\n",
    "plt.contour(gtcdata.a_on_grid,30,colors = 'b')\n",
    "plt.contour(theta_on_grid,36,colors = 'r')\n",
    "fig.axes[0].set_aspect(1)"
   ]
  },
  {
   "cell_type": "markdown",
   "metadata": {},
   "source": [
    "# 4. Conclusion"
   ]
  },
  {
   "cell_type": "markdown",
   "metadata": {},
   "source": [
    "It is clear now that the covariant expression for $B_R$ and $B_Z$ (Eq.\\ref{eq:B_R_covariant} and \\ref{eq:B_Z_covariant}) are incomplete when our coordinates $\\theta$ and $\\psi$ are not perpendicular to each other. In this case, $\\delta$ needs to be retained if covariant formula is used. On the other hand, the contravariant formula will always satisfy the requirement that field line lies within certain flux surface. "
   ]
  }
 ],
 "metadata": {
  "kernelspec": {
   "display_name": "Python 2",
   "language": "python",
   "name": "python2"
  },
  "language_info": {
   "codemirror_mode": {
    "name": "ipython",
    "version": 2
   },
   "file_extension": ".py",
   "mimetype": "text/x-python",
   "name": "python",
   "nbconvert_exporter": "python",
   "pygments_lexer": "ipython2",
   "version": "2.7.11"
  }
 },
 "nbformat": 4,
 "nbformat_minor": 0
}
