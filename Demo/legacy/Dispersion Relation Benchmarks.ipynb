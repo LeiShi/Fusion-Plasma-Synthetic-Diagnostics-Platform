{
 "cells": [
  {
   "cell_type": "markdown",
   "metadata": {},
   "source": [
    "# Table of Contents\n",
    "* [1. Introduction](#1.-Introduction)\n",
    "* [2. Benchmark Cases](#2.-Benchmark-Cases)\n",
    "\t* [2.1 Dispersion Tensor Plots](#2.1-Dispersion-Tensor-Plots)\n",
    "\t\t* [2.1.1 Cold Dispersion Relation](#2.1.1-Cold-Dispersion-Relation)\n",
    "\t\t* [2.1.2 Relativistic Dispersion Relation](#2.1.2-Relativistic-Dispersion-Relation)\n"
   ]
  },
  {
   "cell_type": "markdown",
   "metadata": {},
   "source": [
    "# 1. Introduction"
   ]
  },
  {
   "cell_type": "markdown",
   "metadata": {},
   "source": [
    "A good benchmark for our Plamsa Dispersion Function module is to calculate the dispersion properties for certain waves. This document provide a demostration of some of these benchmarks. We are going to use functions provided in module `FPSDP.Models.Waves.DispersionRelation`."
   ]
  },
  {
   "cell_type": "markdown",
   "metadata": {},
   "source": [
    "Our first benchmark will be against some plots given in <a name=\"ref-1\"/>[(Bindslev, 1992)](#cite-Bindslev1992). Several plots similar to Fig.1 in <a name=\"ref-2\"/>[(Bindslev, 1992)](#cite-Bindslev1992) will be produced and discussed."
   ]
  },
  {
   "cell_type": "markdown",
   "metadata": {},
   "source": [
    "> Fig.1 in <a name=\"ref-3\"/>[(Bindslev, 1992)](#cite-Bindslev1992):"
   ]
  },
  {
   "cell_type": "code",
   "execution_count": null,
   "metadata": {
    "collapsed": false
   },
   "outputs": [],
   "source": [
    "from IPython.display import Image\n",
    "Image(filename=\"Plots/Bindslev1992_Fig1.png\")"
   ]
  },
  {
   "cell_type": "markdown",
   "metadata": {},
   "source": [
    "The basic idea of these plots is to plot the plasma dispersion tensor $\\bf{\\Lambda}$ as a function of refactive index $\\vec{n}$. Detailed discussion of these quantities can be found in <a name=\"ref-4\"/>[(Stix, 1992)](#cite-Stix1992)."
   ]
  },
  {
   "cell_type": "markdown",
   "metadata": {},
   "source": [
    "# 2. Benchmark Cases"
   ]
  },
  {
   "cell_type": "markdown",
   "metadata": {},
   "source": [
    "## 2.1 Dispersion Tensor Plots"
   ]
  },
  {
   "cell_type": "markdown",
   "metadata": {},
   "source": [
    "First, let's prepare the environment. We import some relevant modules, and some physical constants."
   ]
  },
  {
   "cell_type": "code",
   "execution_count": null,
   "metadata": {
    "collapsed": false
   },
   "outputs": [],
   "source": [
    "%matplotlib inline\n",
    "\n",
    "import matplotlib.pyplot as plt\n",
    "import pylab\n",
    "import numpy as np\n",
    "\n",
    "import FPSDP.Models.Waves.DispersionRelation as dr\n",
    "import FPSDP.Plasma.DielectricTensor as dt\n",
    "import FPSDP.Plasma.Analytical_Profiles.TestParameter as tp\n",
    "from FPSDP.GeneralSettings.UnitSystem import cgs\n",
    "\n",
    "pylab.rcParams['figure.figsize'] = (10.0, 8.0)\n",
    "pylab.rcParams['font.size'] = 20\n",
    "\n",
    "c = cgs['c']\n",
    "m_e = cgs['m_e']\n",
    "e = cgs['e']\n",
    "keV = cgs['keV']\n",
    "pi = np.pi"
   ]
  },
  {
   "cell_type": "markdown",
   "metadata": {},
   "source": [
    "Now, we use the plasma parameters exactly the same as in <a name=\"ref-5\"/>[(Bindslev, 1992)](#cite-Bindslev1992). Note that in the paper, all quantities are in SI unit, but we are using Gaussian unit here."
   ]
  },
  {
   "cell_type": "code",
   "execution_count": null,
   "metadata": {
    "collapsed": true
   },
   "outputs": [],
   "source": [
    "tp.set_parameter1D(ne_shape='uniform', ne_0=6.0e13, Te_shape='uniform', \n",
    "                   Te_0=15*keV, B_0=3.0e4)\n",
    "                   \n",
    "p1d = tp.create_profile1D()\n",
    "p1d.setup_interps()"
   ]
  },
  {
   "cell_type": "markdown",
   "metadata": {},
   "source": [
    "We will try several kinds of dielectric tensors. One with cold electron, and some with weakly relativistic electron."
   ]
  },
  {
   "cell_type": "code",
   "execution_count": null,
   "metadata": {
    "collapsed": true
   },
   "outputs": [],
   "source": [
    "c_dielect = dt.ColdElectronColdIon(p1d)\n",
    "r_dielect_1 = dt.RelElectronColdIon(p1d, max_harmonic=1, max_power=5)\n",
    "r_dielect_2 = dt.RelElectronColdIon(p1d, max_harmonic=2, max_power=5)\n",
    "r_dielect_3 = dt.RelElectronColdIon(p1d, max_harmonic=3, max_power=5)\n",
    "r_dielect_1_1 = dt.RelElectronColdIon(p1d, max_harmonic=1, max_power=1)"
   ]
  },
  {
   "cell_type": "markdown",
   "metadata": {},
   "source": [
    "We have created 3 relativistic dielectric tensors with same `max_power = 5`, but different `max_harmonic` values. We will investigate how this will affect the plot. For comparison, we also generated a dielectric tensor with `max_power=1`."
   ]
  },
  {
   "cell_type": "code",
   "execution_count": null,
   "metadata": {
    "collapsed": true
   },
   "outputs": [],
   "source": [
    "omega = 124e9 * 2*pi\n",
    "k_para = 0\n",
    "n_perp_r = np.linspace(-0.1, 1, 1000)\n",
    "n_perp_i = np.linspace(-0.3, 0.3, 500)\n",
    "k_perp_r = omega/c*n_perp_r\n",
    "k_perp_i = omega/c*n_perp_i\n",
    "\n",
    "k_perp = k_perp_r[np.newaxis, :] + 1j*k_perp_i[:, np.newaxis]\n",
    "\n",
    "coordinates = [tp.Parameter1D['R_0']]\n",
    "\n",
    "c_Lambd = dr.Lambda(omega, k_para, k_perp, c_dielect, coordinates)\n",
    "r_Lambd1 = dr.Lambda(omega, k_para, k_perp, r_dielect_1, coordinates)\n",
    "r_Lambd2 = dr.Lambda(omega, k_para, k_perp, r_dielect_2, coordinates)\n",
    "r_Lambd3 = dr.Lambda(omega, k_para, k_perp, r_dielect_3, coordinates)\n",
    "r_Lambd11 = dr.Lambda(omega, k_para, k_perp, r_dielect_1_1, coordinates)"
   ]
  },
  {
   "cell_type": "markdown",
   "metadata": {},
   "source": [
    "### 2.1.1 Cold Dispersion Relation"
   ]
  },
  {
   "cell_type": "markdown",
   "metadata": {},
   "source": [
    "Now let's plot the cold one. Note that we want to plot the logrithm of $\\Lambda$."
   ]
  },
  {
   "cell_type": "code",
   "execution_count": null,
   "metadata": {
    "collapsed": false
   },
   "outputs": [],
   "source": [
    "fig = plt.figure()\n",
    "plt.contour(np.log(np.abs(c_Lambd)), 20, extent=[-0.1, 1, -0.3, 0.3])\n",
    "plt.colorbar()\n",
    "plt.title('Cold Plasma')\n",
    "plt.xlabel('$n_r$')\n",
    "plt.ylabel('$n_i$')\n",
    "fig.axes[0].set_aspect(1.2)\n"
   ]
  },
  {
   "cell_type": "markdown",
   "metadata": {},
   "source": [
    "We can quickly check the locations of the poles. Since in cold plasma, we have analytical expressions for X and O mode dispersion relations."
   ]
  },
  {
   "cell_type": "markdown",
   "metadata": {},
   "source": [
    "$$ n^2_{X} = \\frac{S^2-D^2}{S}$$ and $$n^2_{O}=P$$"
   ]
  },
  {
   "cell_type": "markdown",
   "metadata": {},
   "source": [
    "where $S\\equiv Re(\\epsilon_{xx})$, $D \\equiv -Im(\\epsilon_{xy})$, and $P\\equiv Re(\\epsilon_{zz})$."
   ]
  },
  {
   "cell_type": "code",
   "execution_count": null,
   "metadata": {
    "collapsed": false
   },
   "outputs": [],
   "source": [
    "eps_cold = c_dielect.epsilon(coordinates, omega)\n",
    "S = np.real(eps_cold[0,0])\n",
    "D = -np.imag(eps_cold[0,1])\n",
    "P = np.real(eps_cold[2,2])\n",
    "nx = np.sqrt((S*S-D*D)/S)\n",
    "no = np.sqrt(P)\n",
    "print('nx = {}, no = {}'.format(nx, no))"
   ]
  },
  {
   "cell_type": "markdown",
   "metadata": {},
   "source": [
    "We can see the two poles in the plot are indeed located at the predicted locations. "
   ]
  },
  {
   "cell_type": "markdown",
   "metadata": {},
   "source": [
    "> However, the $n_X$ and $n_O$ locations we obtained are not quite the same as indicated in Fig.1 of <a name=\"ref-6\"/>[(Bindslev, 1992)](#cite-Bindslev1992). The reason of this discrepancy needs further investigation. "
   ]
  },
  {
   "cell_type": "markdown",
   "metadata": {},
   "source": [
    "We can double check the number using Bindslev's parameters given in caption of Fig.1, i.e. $f_p \\approx 70\\text{GHz}$. So, for cold plasma, $P = 1-\\frac{f_p^2}{f^2} \\approx 0.6813$. Then, $n_O = \\sqrt(P) \\approx 0.8254$. This estimation agrees with our plot."
   ]
  },
  {
   "cell_type": "markdown",
   "metadata": {},
   "source": [
    "### 2.1.2 Relativistic Dispersion Relation"
   ]
  },
  {
   "cell_type": "markdown",
   "metadata": {},
   "source": [
    "Now we move on to weakly relativistic cases. First, let's plot them and take a look."
   ]
  },
  {
   "cell_type": "code",
   "execution_count": null,
   "metadata": {
    "collapsed": false
   },
   "outputs": [],
   "source": [
    "fig = plt.figure()\n",
    "plt.contour(np.log(np.abs(r_Lambd11)), 30, extent=[-0.1, 1, -0.3, 0.3])\n",
    "plt.colorbar()\n",
    "plt.title('max_harmonic=1, max_power=1')\n",
    "plt.xlabel('$n_r$')\n",
    "plt.ylabel('$n_i$')\n",
    "fig.axes[0].set_aspect(1.2)"
   ]
  },
  {
   "cell_type": "code",
   "execution_count": null,
   "metadata": {
    "collapsed": false
   },
   "outputs": [],
   "source": [
    "fig = plt.figure()\n",
    "plt.contour(np.log(np.abs(r_Lambd1)), 30, extent=[-0.1, 1, -0.3, 0.3])\n",
    "plt.colorbar()\n",
    "plt.title('max_harmonic=1, max_power=5')\n",
    "plt.xlabel('$n_r$')\n",
    "plt.ylabel('$n_i$')\n",
    "fig.axes[0].set_aspect(1.2)"
   ]
  },
  {
   "cell_type": "code",
   "execution_count": null,
   "metadata": {
    "collapsed": false
   },
   "outputs": [],
   "source": [
    "fig = plt.figure()\n",
    "plt.contour(np.log(np.abs(r_Lambd2)), 30, extent=[-0.1, 1, -0.3, 0.3])\n",
    "plt.colorbar()\n",
    "plt.title('max_harmonic=2, max_power=5')\n",
    "plt.xlabel('$n_r$')\n",
    "plt.ylabel('$n_i$')\n",
    "fig.axes[0].set_aspect(1.2)"
   ]
  },
  {
   "cell_type": "code",
   "execution_count": null,
   "metadata": {
    "collapsed": false
   },
   "outputs": [],
   "source": [
    "fig = plt.figure()\n",
    "plt.contour(np.log(np.abs(r_Lambd3)), 30, extent=[-0.1, 1, -0.3, 0.3])\n",
    "plt.colorbar()\n",
    "plt.title('max_harmonic=3, max_power=5')\n",
    "plt.xlabel('$n_r$')\n",
    "plt.ylabel('$n_i$')\n",
    "fig.axes[0].set_aspect(1.2)"
   ]
  },
  {
   "cell_type": "markdown",
   "metadata": {},
   "source": [
    "- The first thing we observe is the significant shift of the pole corresponding to X-mode dispersion relation. "
   ]
  },
  {
   "cell_type": "markdown",
   "metadata": {},
   "source": [
    "> This feature quanlitatively agree with Fig.1 of <a name=\"ref-7\"/>[(Bindslev, 1992)](#cite-Bindslev1992). However, the exact locations are still not the same. "
   ]
  },
  {
   "cell_type": "markdown",
   "metadata": {},
   "source": [
    "- We also see that increasing `max_power` from 1 to 5 doesn't introduce much of a difference. This is expected since $\\lambda$ is small in our case.\n",
    "- We do see some changes when increasing `max_harmonic` from 1 to 2. Since $f_{ce} = 84\\text{GHz}$ and $f=124\\text{GHz}$, the second harmonic is indeed the most significant correction we should see.\n",
    "- Going to 3rd harmonic doesn't have much effect. Again, this is expected since our frequency is further away from the 3rd harmonic frequency."
   ]
  },
  {
   "cell_type": "markdown",
   "metadata": {
    "collapsed": true
   },
   "source": [
    "<!--bibtex\n",
    "\n",
    "@article{Bindslev1992,\n",
    "author = {Bindslev, H.},\n",
    "file = {:C$\\backslash$:/Users/lei/Google Drive/Project Related/Potential Diagnostics/relfectometry/Academic Papers/Bindslev{\\_}relativistic{\\_}effects{\\_}reflectometry.pdf:pdf},\n",
    "journal = {Plasma Physics and Controlled Fusion},\n",
    "mendeley-groups = {Reflectometry},\n",
    "number = {11},\n",
    "pages = {1601--1618},\n",
    "title = {{Relativistic effects in plasma reflectometry}},\n",
    "volume = {34},\n",
    "year = {1992}\n",
    "}\n",
    "\n",
    "@book{Stix1992,\n",
    "address = {New York},\n",
    "author = {Stix, Thomas Howard},\n",
    "file = {:C$\\backslash$:/Users/lei/Google Drive/books/WavesinPlasmas{\\_}Stix.djvu:djvu},\n",
    "isbn = {9780883188590},\n",
    "publisher = {American Inst. of Physics},\n",
    "title = {{Waves in Plasmas}},\n",
    "year = {1992}\n",
    "}\n",
    "\n",
    "-->"
   ]
  },
  {
   "cell_type": "markdown",
   "metadata": {},
   "source": [
    "# References\n",
    "\n",
    "<a name=\"cite-Bindslev1992\"/><sup>[^](#ref-1) [^](#ref-2) [^](#ref-3) [^](#ref-5) [^](#ref-6) [^](#ref-7) </sup>Bindslev, H.. 1992. _Relativistic effects in plasma reflectometry_.\n",
    "\n",
    "<a name=\"cite-Stix1992\"/><sup>[^](#ref-4) </sup>Stix, Thomas Howard. 1992. _Waves in Plasmas_.\n",
    "\n"
   ]
  }
 ],
 "metadata": {
  "kernelspec": {
   "display_name": "Python 2",
   "language": "python",
   "name": "python2"
  },
  "language_info": {
   "codemirror_mode": {
    "name": "ipython",
    "version": 2
   },
   "file_extension": ".py",
   "mimetype": "text/x-python",
   "name": "python",
   "nbconvert_exporter": "python",
   "pygments_lexer": "ipython2",
   "version": "2.7.11"
  }
 },
 "nbformat": 4,
 "nbformat_minor": 0
}
