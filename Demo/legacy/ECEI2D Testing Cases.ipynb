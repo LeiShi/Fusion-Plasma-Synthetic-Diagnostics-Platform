{
 "cells": [
  {
   "cell_type": "markdown",
   "metadata": {},
   "source": [
    "# Table of Contents\n",
    "* [1. Plamsa Profiles](#1.-Plamsa-Profiles)\n",
    "* [2. Test Case 1. Converging Beam](#2.-Test-Case-1.-Converging-Beam)\n",
    "* [3. Test Case 2. Near Cutoff Behavior](#3.-Test-Case-2.-Near-Cutoff-Behavior)\n",
    "\t* [3.1 Finite $k_z$](#3.1-Finite-$k_z$)\n",
    "\t* [3.2 Finite $k_x'/k_x^2$](#3.2-Finite-$k_x'/k_x^2$)\n"
   ]
  },
  {
   "cell_type": "code",
   "execution_count": null,
   "metadata": {
    "collapsed": true
   },
   "outputs": [],
   "source": [
    "# Some initial setups\n",
    "from __future__ import print_function\n",
    "import sys\n",
    "\n",
    "import numpy as np\n",
    "from scipy.integrate import trapz, cumtrapz\n",
    "import numpy.fft as fft\n",
    "import matplotlib.pyplot as plt\n",
    "from matplotlib import rcParams\n",
    "\n",
    "from FPSDP.GeneralSettings.UnitSystem import cgs\n",
    "import FPSDP.Plasma.Analytical_Profiles.TestParameter as tp\n",
    "import FPSDP.Diagnostics.ECEI.ECEI2D.Reciprocity as rcp\n",
    "from FPSDP.Diagnostics.ECEI.ECEI2D.Detector2D import GaussianAntenna\n",
    "import FPSDP.Plasma.PlasmaCharacter as pc\n",
    "\n",
    "\n",
    "%matplotlib inline\n",
    "\n",
    "rcParams['figure.figsize'] = [12, 9]\n",
    "rcParams['font.size'] = 18\n",
    "\n",
    "c = cgs['c']\n",
    "keV = cgs['keV']\n",
    "e = cgs['e']\n",
    "me = cgs['m_e']\n",
    "pi = np.pi\n",
    "twopi = 2*np.pi\n",
    "\n",
    "# We will use a uniform Te profile to do the benchmarks\n",
    "Te0 = 10*keV\n",
    "ne0 = 2e13\n",
    "tp.set_parameter2D(Te_0 = Te0, ne_0=ne0, Te_shape='uniform', ne_shape='linear')\n",
    "p2d_uni = tp.create_profile2D()\n",
    "p2d_uni.setup_interps()"
   ]
  },
  {
   "cell_type": "markdown",
   "metadata": {},
   "source": [
    "# 1. Plamsa Profiles"
   ]
  },
  {
   "cell_type": "markdown",
   "metadata": {},
   "source": [
    "We have a cylindrical plasma with the following parameters:"
   ]
  },
  {
   "cell_type": "code",
   "execution_count": null,
   "metadata": {
    "collapsed": false
   },
   "outputs": [],
   "source": [
    "tp.show_parameter2D()"
   ]
  },
  {
   "cell_type": "code",
   "execution_count": null,
   "metadata": {
    "collapsed": false
   },
   "outputs": [],
   "source": [
    "print(p2d_uni.physical_quantities())"
   ]
  },
  {
   "cell_type": "markdown",
   "metadata": {},
   "source": [
    "Mid-plane profiles look like:"
   ]
  },
  {
   "cell_type": "code",
   "execution_count": null,
   "metadata": {
    "collapsed": true
   },
   "outputs": [],
   "source": [
    "R1D = p2d_uni.grid.R1D\n",
    "mid_Z = p2d_uni.grid.NZ/2"
   ]
  },
  {
   "cell_type": "code",
   "execution_count": null,
   "metadata": {
    "collapsed": false
   },
   "outputs": [],
   "source": [
    "plt.figure()\n",
    "plt.plot(R1D, p2d_uni.ne0[mid_Z, :])\n",
    "plt.title('mid-plane electron density')\n",
    "plt.ylabel('ne(cm^-3)')\n",
    "plt.xlabel('R(cm)')"
   ]
  },
  {
   "cell_type": "code",
   "execution_count": null,
   "metadata": {
    "collapsed": false
   },
   "outputs": [],
   "source": [
    "plt.figure()\n",
    "plt.plot(R1D, p2d_uni.B0[mid_Z, :])\n",
    "plt.title('mid-plane magnetic field')\n",
    "plt.ylabel('B(Gauss)')\n",
    "plt.xlabel('R(cm)')"
   ]
  },
  {
   "cell_type": "markdown",
   "metadata": {},
   "source": [
    "And some relevent frequencies:"
   ]
  },
  {
   "cell_type": "code",
   "execution_count": null,
   "metadata": {
    "collapsed": false
   },
   "outputs": [],
   "source": [
    "pcpr = pc.PlasmaCharProfile(p2d_uni)"
   ]
  },
  {
   "cell_type": "code",
   "execution_count": null,
   "metadata": {
    "collapsed": false
   },
   "outputs": [],
   "source": [
    "omega = 1e11*twopi\n",
    "plt.figure()\n",
    "plt.plot(R1D, pcpr.omega_ce[mid_Z, :]/twopi, label='$\\omega_{ce}$')\n",
    "plt.plot(R1D, 2*pcpr.omega_ce[mid_Z, :]/twopi, label='$2\\omega_{ce}$')\n",
    "plt.plot(R1D, 3*pcpr.omega_ce[mid_Z, :]/twopi, label='$3\\omega_{ce}$')\n",
    "plt.plot(R1D, pcpr.omega_pe[mid_Z, :]/twopi, label='$\\omega_{pe}$')\n",
    "plt.plot(R1D, pcpr.omega_R[mid_Z, :]/twopi, label='$R \\; cutoff$')\n",
    "plt.plot(R1D, pcpr.omega_UH[mid_Z, :]/twopi, label='$\\omega_{UH}$')\n",
    "plt.hlines(y=omega/twopi, xmin=150, xmax=300)\n",
    "plt.legend(loc='best')\n",
    "plt.ylabel('frequency (Hz)')\n",
    "plt.xlabel('R (cm)')"
   ]
  },
  {
   "cell_type": "markdown",
   "metadata": {},
   "source": [
    "# 2. Test Case 1. Converging Beam"
   ]
  },
  {
   "cell_type": "markdown",
   "metadata": {},
   "source": [
    "Strongly converging beams are of particular interests because they have narrow waist, so may provide good resolution in Y and Z directions. We will use a Gaussian beam with waist width equals 2 times vacuum wavelength:\n",
    "$$w_{0y} = w_{z0} = 2\\lambda$$"
   ]
  },
  {
   "cell_type": "code",
   "execution_count": null,
   "metadata": {
    "collapsed": false
   },
   "outputs": [],
   "source": [
    "omega = twopi*1e11\n",
    "k = omega/c\n",
    "wave_length = twopi/k\n",
    "print('lambda = {0:.3}cm'.format(wave_length))"
   ]
  },
  {
   "cell_type": "code",
   "execution_count": null,
   "metadata": {
    "collapsed": true
   },
   "outputs": [],
   "source": [
    "detector = GaussianAntenna(omega_list=[omega], k_list=[k], power_list=[1], waist_x=220, waist_y=0, w_0y=2*wave_length)"
   ]
  },
  {
   "cell_type": "code",
   "execution_count": null,
   "metadata": {
    "collapsed": false
   },
   "outputs": [],
   "source": [
    "detector.central_beam.reighlay_range"
   ]
  },
  {
   "cell_type": "code",
   "execution_count": null,
   "metadata": {
    "collapsed": false
   },
   "outputs": [],
   "source": [
    "detector.central_beam.divergence"
   ]
  },
  {
   "cell_type": "code",
   "execution_count": null,
   "metadata": {
    "collapsed": false
   },
   "outputs": [],
   "source": [
    "ece = rcp.ECE2D(p2d_uni, detector, polarization='X', max_harmonic=4, max_power=4, \n",
    "                weakly_relativistic=True, isotropic=True)"
   ]
  },
  {
   "cell_type": "code",
   "execution_count": null,
   "metadata": {
    "collapsed": false
   },
   "outputs": [],
   "source": [
    "X1D = np.linspace(251, 210, 100)\n",
    "Y1D = np.linspace(-20, 20, 129)\n",
    "Z1D = np.linspace(-20, 20, 129)"
   ]
  },
  {
   "cell_type": "code",
   "execution_count": null,
   "metadata": {
    "collapsed": true
   },
   "outputs": [],
   "source": [
    "ece.set_coords([Z1D, Y1D, X1D])"
   ]
  },
  {
   "cell_type": "code",
   "execution_count": null,
   "metadata": {
    "collapsed": false
   },
   "outputs": [],
   "source": [
    "ece.auto_adjust_mesh()"
   ]
  },
  {
   "cell_type": "code",
   "execution_count": null,
   "metadata": {
    "collapsed": false
   },
   "outputs": [],
   "source": [
    "ece.view_point"
   ]
  },
  {
   "cell_type": "code",
   "execution_count": null,
   "metadata": {
    "collapsed": false
   },
   "outputs": [],
   "source": [
    "ece.diag_x"
   ]
  },
  {
   "cell_type": "code",
   "execution_count": null,
   "metadata": {
    "collapsed": false
   },
   "outputs": [],
   "source": [
    "Te = ece.diagnose()"
   ]
  },
  {
   "cell_type": "code",
   "execution_count": null,
   "metadata": {
    "collapsed": false
   },
   "outputs": [],
   "source": [
    "Te/keV"
   ]
  },
  {
   "cell_type": "code",
   "execution_count": null,
   "metadata": {
    "collapsed": false
   },
   "outputs": [],
   "source": [
    "plt.contour(ece.X1D, ece.Y1D, ece.view_spot, np.linspace(0.5,1.5,5)*0.368*np.max(ece.view_spot))\n",
    "plt.title('View spot')\n",
    "plt.xlabel('X(cm)')\n",
    "plt.ylabel('Y(cm)')"
   ]
  },
  {
   "cell_type": "code",
   "execution_count": null,
   "metadata": {
    "collapsed": false,
    "scrolled": false
   },
   "outputs": [],
   "source": [
    "E = ece.propagator.E[0,:,::2]\n",
    "plt.contour(ece.X1D, ece.Y1D, np.abs(E), np.linspace(0.5,1.5,5)*0.368*np.max(np.abs(E)))\n",
    "plt.vlines(x=220, ymin=-3*wave_length, ymax=3*wave_length)\n",
    "plt.title('Electric field amplitude')\n",
    "plt.ylabel('Y(cm)')\n",
    "plt.xlabel('X(cm)')"
   ]
  },
  {
   "cell_type": "code",
   "execution_count": null,
   "metadata": {
    "collapsed": false
   },
   "outputs": [],
   "source": [
    "pf = ece.propagator.power_flow\n",
    "plt.plot(ece.propagator.calc_x_coords, np.abs(pf))\n",
    "plt.title('power flow of the wave')"
   ]
  },
  {
   "cell_type": "markdown",
   "metadata": {},
   "source": [
    "# 3. Test Case 2. Near Cutoff Behavior"
   ]
  },
  {
   "cell_type": "markdown",
   "metadata": {
    "collapsed": true
   },
   "source": [
    "When electron density increases, the R-cutoff frequency and electron plasma frequency will rise. They corresponds to X-mode and O-mode cutoff respectively. When waves approaches cutoff, $k_x \\to 0$, some of the assumptions made in our paraxial propagator will be invalid. Namely, they are:\n",
    "- Paraxial assumption: $|k_y/k_x| \\ll 1 $ and $|k_z/k_x|\\ll 1$. The boundary where this assumption starts to fail depends on the incidental angle of the main ray, as well as the spread of the whole beam. \n",
    "- WKB assumption: $|k_x'/k_x^2| \\ll 1$. For a linear density profile, let $L$ be the gradient length scale at the cutoff location, i.e. $L = n_c/\\nabla n$. We can show that this criteria reduces to the requirement $x \\gg \\sqrt{\\lambda_0 L/2\\pi}$, where $x$ is the distance from cutoff, and $\\lambda_0$ is the wave length in vacuum."
   ]
  },
  {
   "cell_type": "code",
   "execution_count": null,
   "metadata": {
    "collapsed": false
   },
   "outputs": [],
   "source": [
    "# We use a higher electron density to investigate the near cutoff behavior of our propagator and ECE2D modules\n",
    "ne0_high = 8e13\n",
    "tp.set_parameter1D(Te_0 = Te0, ne_0=ne0_high, Te_shape='uniform', \n",
    "                   ne_shape='linear', R_0=1000, Xmin=950, Xmax=1100)\n",
    "p1d_high = tp.create_profile1D()\n",
    "\n",
    "from FPSDP.Geometry.Grid import Cartesian2D\n",
    "grid_h = Cartesian2D(DownLeft=(-50, 950), UpRight=(50, 1100), NR=301, NZ=201)\n",
    "mid_Zh = grid_h.NZ/2\n",
    "p2d_high = tp.simulate_1D(p1d=p1d_high, grid2D=grid_h)\n",
    "p2d_high.setup_interps()"
   ]
  },
  {
   "cell_type": "code",
   "execution_count": null,
   "metadata": {
    "collapsed": false
   },
   "outputs": [],
   "source": [
    "pcpr_h = pc.PlasmaCharProfile(p2d_high)"
   ]
  },
  {
   "cell_type": "code",
   "execution_count": null,
   "metadata": {
    "collapsed": false
   },
   "outputs": [],
   "source": [
    "omega = 0.8e11*twopi\n",
    "k = omega/c\n",
    "wave_length = twopi/k\n",
    "R1D = p2d_high.grid.R1D\n",
    "plt.figure()\n",
    "plt.plot(R1D, pcpr_h.omega_ce[mid_Zh, :]/twopi, label='$\\omega_{ce}$')\n",
    "plt.plot(R1D, 2*pcpr_h.omega_ce[mid_Zh, :]/twopi, label='$2\\omega_{ce}$')\n",
    "plt.plot(R1D, 3*pcpr_h.omega_ce[mid_Zh, :]/twopi, label='$3\\omega_{ce}$')\n",
    "plt.plot(R1D, pcpr_h.omega_pe[mid_Zh, :]/twopi, label='$\\omega_{pe}$')\n",
    "plt.plot(R1D, pcpr_h.omega_R[mid_Zh, :]/twopi, label='$R \\; cutoff$')\n",
    "plt.plot(R1D, pcpr_h.omega_UH[mid_Zh, :]/twopi, label='$\\omega_{UH}$')\n",
    "plt.hlines(y=omega/twopi, xmin=np.min(R1D), xmax=np.max(R1D))\n",
    "plt.legend(loc='best')\n",
    "plt.ylabel('frequency (Hz)')\n",
    "plt.xlabel('R (cm)')"
   ]
  },
  {
   "cell_type": "markdown",
   "metadata": {
    "collapsed": true
   },
   "source": [
    "## 3.1 Finite $k_z$"
   ]
  },
  {
   "cell_type": "markdown",
   "metadata": {},
   "source": [
    "We will use a weakly diverging beam with a significant horizontal incident angle. So central $k_z$ is finite, but k_z spread is small.  "
   ]
  },
  {
   "cell_type": "code",
   "execution_count": null,
   "metadata": {
    "collapsed": true
   },
   "outputs": [],
   "source": [
    "theta_h = pi/10"
   ]
  },
  {
   "cell_type": "code",
   "execution_count": null,
   "metadata": {
    "collapsed": true
   },
   "outputs": [],
   "source": [
    "detector = GaussianAntenna(omega_list=[omega], k_list=[k], power_list=[1], waist_x=1050, \n",
    "                           waist_y=0, w_0y=10*wave_length, tilt_h=theta_h)"
   ]
  },
  {
   "cell_type": "code",
   "execution_count": null,
   "metadata": {
    "collapsed": false
   },
   "outputs": [],
   "source": [
    "k_z_central = k*np.sin(theta_h)\n",
    "print('central k_z:', k_z_central)"
   ]
  },
  {
   "cell_type": "markdown",
   "metadata": {},
   "source": [
    "Due to our choice of omega and B field profile, we are far away from ECE resonance. We can focus on the wave propagation pattern."
   ]
  },
  {
   "cell_type": "code",
   "execution_count": null,
   "metadata": {
    "collapsed": false
   },
   "outputs": [],
   "source": [
    "ece_h = rcp.ECE2D(p2d_high, detector, polarization='X', max_harmonic=2, max_power=2, \n",
    "                weakly_relativistic=True, isotropic=True)"
   ]
  },
  {
   "cell_type": "code",
   "execution_count": null,
   "metadata": {
    "collapsed": false
   },
   "outputs": [],
   "source": [
    "X1D = np.linspace(1051, 1034, 200)\n",
    "Y1D = np.linspace(-20, 20, 129)\n",
    "Z1D = np.linspace(-10, 20, 257)"
   ]
  },
  {
   "cell_type": "code",
   "execution_count": null,
   "metadata": {
    "collapsed": false
   },
   "outputs": [],
   "source": [
    "ece_h.set_coords([Z1D, Y1D, X1D])"
   ]
  },
  {
   "cell_type": "code",
   "execution_count": null,
   "metadata": {
    "collapsed": false
   },
   "outputs": [],
   "source": [
    "ece_h.diagnose()"
   ]
  },
  {
   "cell_type": "code",
   "execution_count": null,
   "metadata": {
    "collapsed": false
   },
   "outputs": [],
   "source": [
    "ece_h.Te/keV"
   ]
  },
  {
   "cell_type": "code",
   "execution_count": null,
   "metadata": {
    "collapsed": true
   },
   "outputs": [],
   "source": [
    "prop = ece_h.propagator\n",
    "E = np.fft.ifft(prop.E, axis=0)"
   ]
  },
  {
   "cell_type": "code",
   "execution_count": null,
   "metadata": {
    "collapsed": false
   },
   "outputs": [],
   "source": [
    "fig = plt.figure()\n",
    "plt.contour(prop.calc_x_coords, prop.z_coords, np.abs(E[:,64,:]), 30)\n",
    "fig.axes[0].set_aspect(1)\n",
    "plt.vlines(x=[1041], ymin=-10, ymax=20)\n",
    "plt.locator_params(axis='x', nbins=5)\n",
    "plt.title('abs(E0)')\n",
    "plt.ylabel('Z(cm)')\n",
    "plt.xlabel('X(cm)')"
   ]
  },
  {
   "cell_type": "code",
   "execution_count": null,
   "metadata": {
    "collapsed": true
   },
   "outputs": [],
   "source": [
    "ece_h.propagator._generate_main_phase()\n",
    "main_phase = ece_h.propagator.main_phase"
   ]
  },
  {
   "cell_type": "code",
   "execution_count": null,
   "metadata": {
    "collapsed": false
   },
   "outputs": [],
   "source": [
    "plt.contour(prop.x_coords, prop.z_coords, np.angle(E[:,64,:]*np.exp(1j*main_phase)), 30)\n",
    "plt.title('Wave front shape')"
   ]
  },
  {
   "cell_type": "markdown",
   "metadata": {},
   "source": [
    "> Questions\n",
    "- **Why is there a tilde at the edge?**\n",
    "- **Why was the phase variation get larger near the cutoff?**"
   ]
  },
  {
   "cell_type": "markdown",
   "metadata": {},
   "source": [
    "If we look at the main wave vector."
   ]
  },
  {
   "cell_type": "code",
   "execution_count": null,
   "metadata": {
    "collapsed": false
   },
   "outputs": [],
   "source": [
    "print('central_kz:{0:.3}, delta_kz:{1:.3}'.format(prop.central_kz[0,0], prop.delta_kz[0,0]))"
   ]
  },
  {
   "cell_type": "code",
   "execution_count": null,
   "metadata": {
    "collapsed": false
   },
   "outputs": [],
   "source": [
    "plt.plot(prop.calc_x_coords, np.abs(prop.k_0)/k_z_central)\n",
    "plt.hlines(y=[1,2], xmin=1034, xmax=1051)\n",
    "plt.title('$k_0$ plot')\n",
    "plt.ylabel('$k_0/k_z$')\n",
    "plt.xlabel('X(cm)')"
   ]
  },
  {
   "cell_type": "code",
   "execution_count": null,
   "metadata": {
    "collapsed": false,
    "scrolled": false
   },
   "outputs": [],
   "source": [
    "pf = prop.power_flow\n",
    "plt.plot(prop.calc_x_coords, np.abs(pf))\n",
    "plt.title('power flow of the wave')"
   ]
  },
  {
   "cell_type": "markdown",
   "metadata": {},
   "source": [
    "> Questions\n",
    "- **Why does the power flow start with 1.05 instead of 1?**\n",
    "- **Why does it decrease?**"
   ]
  },
  {
   "cell_type": "markdown",
   "metadata": {},
   "source": [
    "## 3.2 Finite $k_x'/k_x^2$"
   ]
  },
  {
   "cell_type": "markdown",
   "metadata": {},
   "source": [
    "Using the settings above, we propagate a perpendicularly incident wave instead, and take a look at the $k_x'/k_x^2$ term effect."
   ]
  },
  {
   "cell_type": "code",
   "execution_count": null,
   "metadata": {
    "collapsed": true
   },
   "outputs": [],
   "source": [
    "detector = GaussianAntenna(omega_list=[omega], k_list=[k], power_list=[1], waist_x=1050, \n",
    "                           waist_y=0, w_0y=20*wave_length, tilt_h=0)"
   ]
  },
  {
   "cell_type": "code",
   "execution_count": null,
   "metadata": {
    "collapsed": false
   },
   "outputs": [],
   "source": [
    "ece_p = rcp.ECE2D(p2d_high, detector, polarization='X', max_harmonic=2, max_power=2, \n",
    "                weakly_relativistic=True, isotropic=True)"
   ]
  },
  {
   "cell_type": "code",
   "execution_count": null,
   "metadata": {
    "collapsed": false
   },
   "outputs": [],
   "source": [
    "X1D = np.linspace(1051, 1034, 300)\n",
    "Y1D = np.linspace(-20, 20, 129)\n",
    "Z1D = np.linspace(-20, 20, 129)"
   ]
  },
  {
   "cell_type": "code",
   "execution_count": null,
   "metadata": {
    "collapsed": false
   },
   "outputs": [],
   "source": [
    "ece_p.set_coords([Z1D, Y1D, X1D])"
   ]
  },
  {
   "cell_type": "code",
   "execution_count": null,
   "metadata": {
    "collapsed": false
   },
   "outputs": [],
   "source": [
    "ece_p.diagnose()"
   ]
  },
  {
   "cell_type": "code",
   "execution_count": null,
   "metadata": {
    "collapsed": false
   },
   "outputs": [],
   "source": [
    "ece_p.Te/keV"
   ]
  },
  {
   "cell_type": "code",
   "execution_count": null,
   "metadata": {
    "collapsed": true
   },
   "outputs": [],
   "source": [
    "prop = ece_p.propagator\n",
    "E = np.fft.ifft(prop.E, axis=0)"
   ]
  },
  {
   "cell_type": "code",
   "execution_count": null,
   "metadata": {
    "collapsed": false
   },
   "outputs": [],
   "source": [
    "fig = plt.figure()\n",
    "plt.contour(prop.calc_x_coords, prop.z_coords, np.abs(E[:,64,:]), 30)\n",
    "plt.vlines(x=[1035], ymin=-20, ymax=20)\n",
    "fig.axes[0].set_aspect(1)\n",
    "plt.locator_params(axis='x', nbins=5)\n",
    "plt.title('abs(E0)')\n",
    "plt.ylabel('Z(cm)')\n",
    "plt.xlabel('X(cm)')"
   ]
  },
  {
   "cell_type": "code",
   "execution_count": null,
   "metadata": {
    "collapsed": true
   },
   "outputs": [],
   "source": [
    "prop._generate_main_phase()\n",
    "main_phase = prop.main_phase"
   ]
  },
  {
   "cell_type": "code",
   "execution_count": null,
   "metadata": {
    "collapsed": false
   },
   "outputs": [],
   "source": [
    "plt.plot(prop.calc_x_coords, main_phase)"
   ]
  },
  {
   "cell_type": "code",
   "execution_count": null,
   "metadata": {
    "collapsed": false
   },
   "outputs": [],
   "source": [
    "plt.contour(prop.calc_x_coords, prop.z_coords, np.angle(E[:,64,:]*np.exp(1j*main_phase)), 30)\n",
    "plt.title('Wave front shape')"
   ]
  },
  {
   "cell_type": "code",
   "execution_count": null,
   "metadata": {
    "collapsed": false
   },
   "outputs": [],
   "source": [
    "k0 = np.abs(prop.k_0)\n",
    "dx = np.abs(prop.calc_x_coords[1] - prop.calc_x_coords[0])\n",
    "kp = (k0[2:]-k0[:-2])/(2*dx)\n",
    "WKB_term = np.abs(kp/(k0[1:-1]*k0[1:-1]))\n",
    "plt.plot(prop.calc_x_coords[1:-1], WKB_term)\n",
    "plt.hlines(y=[1, 0.1], xmin=1034, xmax=1051)\n",
    "plt.title('WKB criteria')\n",
    "plt.ylabel('$k_x\\'/k_x^2$')"
   ]
  },
  {
   "cell_type": "code",
   "execution_count": null,
   "metadata": {
    "collapsed": false
   },
   "outputs": [],
   "source": [
    "lambd = twopi*c/omega\n",
    "np.sqrt(16*lambd/twopi)"
   ]
  },
  {
   "cell_type": "markdown",
   "metadata": {},
   "source": [
    "The area where WKB approximation fails roughly agrees with our estimation. "
   ]
  },
  {
   "cell_type": "code",
   "execution_count": null,
   "metadata": {
    "collapsed": false
   },
   "outputs": [],
   "source": [
    "pf = prop.power_flow\n",
    "plt.plot(prop.calc_x_coords, np.abs(pf))\n",
    "plt.title('power flow of the wave')"
   ]
  }
 ],
 "metadata": {
  "kernelspec": {
   "display_name": "Python 2",
   "language": "python",
   "name": "python2"
  },
  "language_info": {
   "codemirror_mode": {
    "name": "ipython",
    "version": 2
   },
   "file_extension": ".py",
   "mimetype": "text/x-python",
   "name": "python",
   "nbconvert_exporter": "python",
   "pygments_lexer": "ipython2",
   "version": "2.7.11"
  }
 },
 "nbformat": 4,
 "nbformat_minor": 0
}
