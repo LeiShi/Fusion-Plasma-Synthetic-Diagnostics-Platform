{
 "cells": [
  {
   "cell_type": "markdown",
   "metadata": {},
   "source": [
    "# Table of Contents\n",
    "* [1. Quick start with ECEI2D package](#1.-Quick-start-with-ECEI2D-package)\n",
    "\t* [1.1 Initial setup and importing ECEI2D modules](#1.1-Initial-setup-and-importing-ECEI2D-modules)\n",
    "\t* [1.2 Gaussian Antenna detector](#1.2-Gaussian-Antenna-detector)\n",
    "\t* [1.3 Single channel ECE2D diagnosis](#1.3-Single-channel-ECE2D-diagnosis)\n",
    "\t\t* [1.3.1 Diagnose with a user set mesh](#1.3.1-Diagnose-with-a-user-set-mesh)\n",
    "\t\t* [1.3.2 Automatically adjust stepsize](#1.3.2-Automatically-adjust-stepsize)\n",
    "\t\t* [1.3.3 Information about diagnosing locations](#1.3.3-Information-about-diagnosing-locations)\n",
    "\t* [1.4 Multi-channel ECE Imaging](#1.4-Multi-channel-ECE-Imaging)\n",
    "* [2. Benchmarks and Error Assessment](#2.-Benchmarks-and-Error-Assessment)\n",
    "\t* [2.1 Higher harmonic effects](#2.1-Higher-harmonic-effects)\n",
    "\t* [2.2 Error analysis](#2.2-Error-analysis)\n"
   ]
  },
  {
   "cell_type": "markdown",
   "metadata": {},
   "source": [
    "# 1. Quick start with ECEI2D package"
   ]
  },
  {
   "cell_type": "markdown",
   "metadata": {},
   "source": [
    "## 1.1 Initial setup and importing ECEI2D modules"
   ]
  },
  {
   "cell_type": "code",
   "execution_count": null,
   "metadata": {
    "collapsed": false
   },
   "outputs": [],
   "source": [
    "# Some initial setups\n",
    "from __future__ import print_function\n",
    "import sys\n",
    "\n",
    "import numpy as np\n",
    "from scipy.integrate import trapz, cumtrapz\n",
    "import numpy.fft as fft\n",
    "import matplotlib.pyplot as plt\n",
    "from matplotlib import rcParams\n",
    "\n",
    "from FPSDP.GeneralSettings.UnitSystem import cgs\n",
    "import FPSDP.Plasma.Analytical_Profiles.TestParameter as tp\n",
    "\n",
    "%matplotlib inline\n",
    "\n",
    "rcParams['figure.figsize'] = [12, 9]\n",
    "rcParams['font.size'] = 18\n",
    "\n",
    "c = cgs['c']\n",
    "keV = cgs['keV']\n",
    "e = cgs['e']\n",
    "me = cgs['m_e']\n",
    "\n",
    "# We will use a uniform Te profile to do the benchmarks\n",
    "Te0 = 10*keV\n",
    "ne0 = 2e13\n",
    "tp.set_parameter2D(Te_0 = Te0, ne_0=ne0, Te_shape='uniform', ne_shape='Hmode')\n",
    "p2d_uni = tp.create_profile2D()\n",
    "p2d_uni.setup_interps()"
   ]
  },
  {
   "cell_type": "markdown",
   "metadata": {},
   "source": [
    "`FPSDP.Diagnostics.ECEI.ECEI2D` package has mainly two useful modules: `Reciprocity` and `Detector2D`.\n",
    "`Reciprocity` has class `ECE2D` which carries out a single ECE diagnostic process, while `Detector2D` provides classes for 2D detectors, among which `GaussianAntenna` might be the most commonly used. "
   ]
  },
  {
   "cell_type": "code",
   "execution_count": null,
   "metadata": {
    "collapsed": true
   },
   "outputs": [],
   "source": [
    "import FPSDP.Diagnostics.ECEI.ECEI2D.Reciprocity as rcp\n",
    "from FPSDP.Diagnostics.ECEI.ECEI2D.Detector2D import GaussianAntenna"
   ]
  },
  {
   "cell_type": "markdown",
   "metadata": {},
   "source": [
    "## 1.2 Gaussian Antenna detector"
   ]
  },
  {
   "cell_type": "markdown",
   "metadata": {},
   "source": [
    "`GaussianAntenna` simulates an antenna pattern that can be described as a Gaussian Beam <a name=\"ref-1\"/>[(Svelto, 2010)](#cite-svelto2010principles). \n",
    "In addition to a single frequency, it accept a list of frequencies, a list of wave vectors, and a list of corresponding receiving(emitting) powers. This provides a fully customizable frequency bandwidth and shape. \n",
    "Any other keyword arguments passed in the constructor will be given to `FPSDP.Maths.LightBeam.GaussianBeam` constructor. In particular, three arguments are required: `waist_x`, `waist_y`, `w_0y`.  "
   ]
  },
  {
   "cell_type": "code",
   "execution_count": null,
   "metadata": {
    "collapsed": false
   },
   "outputs": [],
   "source": [
    "omega = 8e11\n",
    "k = omega/c\n",
    "# single frequency detector\n",
    "detector = GaussianAntenna(omega_list=[omega], k_list=[k], power_list=[1], waist_x=175, waist_y=0, w_0y=2)"
   ]
  },
  {
   "cell_type": "markdown",
   "metadata": {},
   "source": [
    "## 1.3 Single channel ECE2D diagnosis"
   ]
  },
  {
   "cell_type": "markdown",
   "metadata": {},
   "source": [
    "`Reciprocity` module provides `ECE2D` class that represents a single channel diagnosis. \n",
    "\n",
    "It is initialized with a ECEI plasma profile, a `Detector2D` detector, a specified polarization, and 4 parameters determining the model used for current correlation tensor formula and dielectric tensor formula. Namely, they are `max_harmonic`, `max_power`, `weakly_relativistic` and `isotropic`. The first two are integers. They determine the highest harmonic frequency and highest order in FLR effect included in both current correlation tensor and dielectric tensor. The `weakly_relativistic` paramter is boolean, if `True`, weakly relativistic formula will be used, otherwise non-relativistic formula instead. `isotropic` is also boolean, `True` indicates the electron distribution is assumed isotropic, and the current correlation tensor can be easily obtained from anti-Hermitian part of corresponding dielectric tensor. "
   ]
  },
  {
   "cell_type": "markdown",
   "metadata": {},
   "source": [
    "> Right now, only isotropic plasma is implemented. "
   ]
  },
  {
   "cell_type": "code",
   "execution_count": null,
   "metadata": {
    "collapsed": false
   },
   "outputs": [],
   "source": [
    "ece = rcp.ECE2D(plasma=p2d_uni, detector=detector, polarization='X', max_harmonic=2, max_power=2, \n",
    "                weakly_relativistic=True, isotropic=True)"
   ]
  },
  {
   "cell_type": "markdown",
   "metadata": {},
   "source": [
    "### 1.3.1 Diagnose with a user set mesh"
   ]
  },
  {
   "cell_type": "markdown",
   "metadata": {},
   "source": [
    "After initialization, a set of coordinates needs to be specified for ECE2D, as a initial mesh for preliminary calculations. `set_coords(coords)` method accepts a list of 1D coordinates, and will generate 3D mesh using for ECE diagnosis."
   ]
  },
  {
   "cell_type": "code",
   "execution_count": null,
   "metadata": {
    "collapsed": true
   },
   "outputs": [],
   "source": [
    "X1D = np.linspace(250, 150, 200)\n",
    "Y1D = np.linspace(-20, 20, 65)\n",
    "Z1D = np.linspace(-20, 20, 65)\n",
    "\n",
    "# set_coords needs to be called before running any other methods in ECE2D\n",
    "ece.set_coords([Z1D, Y1D, X1D])"
   ]
  },
  {
   "cell_type": "markdown",
   "metadata": {},
   "source": [
    "We can directly diagnose the plasma with this simple mesh, just call `diagnose` method. \n",
    "\n",
    "Three parameters are accepted in `diagnose`: `time`, `debug` and `auto_patch`. \n",
    "- `time`: integer, specifies the time step of plasma fluctuation that should be used for diagnosis, if not given, equilibrium plasma will be used.\n",
    "- `debug`: bool, if True, a lot of extra information will be stored after diagnosis, for further investigation.\n",
    "- `auto_patch`: bool, if True, program will try to optimize the grid in X direction, make finer mesh where emission is coming, and coarser mesh where wave propagates with no absorption or emission. A better way of doing this is calling `auto_adjust_mesh` method, with a tunable fine structure constant."
   ]
  },
  {
   "cell_type": "code",
   "execution_count": null,
   "metadata": {
    "collapsed": false
   },
   "outputs": [],
   "source": [
    "# we diagnose the equilibrium plasma with no auto coordinates adjustment. Keep more information by setting debug=True\n",
    "Te = ece.diagnose(debug=True)"
   ]
  },
  {
   "cell_type": "code",
   "execution_count": null,
   "metadata": {
    "collapsed": false
   },
   "outputs": [],
   "source": [
    "Te/keV"
   ]
  },
  {
   "cell_type": "markdown",
   "metadata": {},
   "source": [
    "> Note that the diagnosed Te is smaller than real Te, which is 10keV. The reason is our preset coordinates in X is too coarse within the emission area, thus not sampling enough data. Integration error is large due to this under sample situation. The way to improve this is to call `auto_adjust_mesh` method."
   ]
  },
  {
   "cell_type": "markdown",
   "metadata": {},
   "source": [
    "We can take a look at where received emission is coming from by examine the `integrand_list`."
   ]
  },
  {
   "cell_type": "code",
   "execution_count": null,
   "metadata": {
    "collapsed": true
   },
   "outputs": [],
   "source": [
    "emission_spot = ece.integrand_list[0]"
   ]
  },
  {
   "cell_type": "code",
   "execution_count": null,
   "metadata": {
    "collapsed": false
   },
   "outputs": [],
   "source": [
    "plt.imshow(np.real(emission_spot[0,:,:]), extent=[X1D[0], X1D[-1], Y1D[0], Y1D[-1]], origin='lower')"
   ]
  },
  {
   "cell_type": "markdown",
   "metadata": {},
   "source": [
    "### 1.3.2 Automatically adjust stepsize"
   ]
  },
  {
   "cell_type": "markdown",
   "metadata": {},
   "source": [
    "`ECE2D` has `auto_adjust_mesh` method that will automatically choose proper grid points on X direction. The way it does this is run a preliminary propagation on the original mesh, and calculate the actual emission locations that antenna sees. Make fine mesh within these regions, and setup coarser mesh outside them. \n",
    "\n",
    "Default parameters are:\n",
    "- emission region boundaries: The emission regions are determined by finding locations where receiving strength is larger than $e^{-9}$ maximum strength. In other words, roughly 3 standard deviations away if Gaussian shape is assumed.\n",
    "- fine mesh step size: By default, inside emission regions, step size in X is set to be $0.5\\lambda_0$, with $\\lambda_0$ the vacuum wave length. This can be tuned using `fine_coeff` argument. For example, `fine_coeff`=2 means steps size is half of the default.\n",
    "- coarse mesh step size: Outside the emission regions, step size is set to be $5\\lambda_0$. It is also changed with `fine_coeff` argument. So the ratio between fine and coarse step size is always 0.1 ."
   ]
  },
  {
   "cell_type": "code",
   "execution_count": null,
   "metadata": {
    "collapsed": false
   },
   "outputs": [],
   "source": [
    "ece.auto_adjust_mesh(fine_coeff=1)"
   ]
  },
  {
   "cell_type": "code",
   "execution_count": null,
   "metadata": {
    "collapsed": false
   },
   "outputs": [],
   "source": [
    "ece.X1D.shape"
   ]
  },
  {
   "cell_type": "code",
   "execution_count": null,
   "metadata": {
    "collapsed": false
   },
   "outputs": [],
   "source": [
    "plt.plot(ece.X1D)\n",
    "plt.xlabel('array indices')\n",
    "plt.ylabel('X(cm)')\n",
    "plt.title('Auto mesh in X')"
   ]
  },
  {
   "cell_type": "markdown",
   "metadata": {},
   "source": [
    "The total mesh points is less, but more focused in emission area. How about the performance?"
   ]
  },
  {
   "cell_type": "code",
   "execution_count": null,
   "metadata": {
    "collapsed": false
   },
   "outputs": [],
   "source": [
    "ece.diagnose(debug=True)"
   ]
  },
  {
   "cell_type": "code",
   "execution_count": null,
   "metadata": {
    "collapsed": false
   },
   "outputs": [],
   "source": [
    "ece.Te/keV"
   ]
  },
  {
   "cell_type": "markdown",
   "metadata": {},
   "source": [
    "Now, the result is roughly 50 times more accurate with only 1.5 times mesh points! "
   ]
  },
  {
   "cell_type": "markdown",
   "metadata": {},
   "source": [
    "> It is recommended to always use `auto_adjust_mesh` before `diagnose`, or simply set `auto_patch=True` when calling `diagnose`."
   ]
  },
  {
   "cell_type": "markdown",
   "metadata": {},
   "source": [
    "### 1.3.3 Information about diagnosing locations"
   ]
  },
  {
   "cell_type": "markdown",
   "metadata": {},
   "source": [
    "A useful information is where our signal comes from. `ECE2D` provides two ways to access this.\n",
    "- view_point: gives the coordinates (Z, Y, X) of the highest receiving strength, which is presumabily the best estimation of the actually center of the emission signal.\n",
    "- diag_x: gives a detailed information of locations in X where significant contributions of emission power are from. list of centers and *half widths* are returned."
   ]
  },
  {
   "cell_type": "code",
   "execution_count": null,
   "metadata": {
    "collapsed": false
   },
   "outputs": [],
   "source": [
    "ece.view_point"
   ]
  },
  {
   "cell_type": "code",
   "execution_count": null,
   "metadata": {
    "collapsed": false
   },
   "outputs": [],
   "source": [
    "xs, dxs = ece.diag_x\n",
    "print(xs, dxs)"
   ]
  },
  {
   "cell_type": "markdown",
   "metadata": {},
   "source": [
    "As we can see, the center of the emission region may not be the same as the strongest emission location. This is due to the uneven shape of the spot. The *half width* is a very rough estimation of the $1/e$ width of the spot, but can give us a sense of the resolution in X."
   ]
  },
  {
   "cell_type": "markdown",
   "metadata": {},
   "source": [
    "## 1.4 Multi-channel ECE Imaging"
   ]
  },
  {
   "cell_type": "markdown",
   "metadata": {},
   "source": [
    "**TO BE COMPLETED**"
   ]
  },
  {
   "cell_type": "markdown",
   "metadata": {},
   "source": [
    "# 2. Benchmarks and Error Assessment"
   ]
  },
  {
   "cell_type": "markdown",
   "metadata": {},
   "source": [
    "In this section, we'll be showing effects of higher harmonics, as well as the sensibility of the diagnostic accuracy on mesh resolution."
   ]
  },
  {
   "cell_type": "markdown",
   "metadata": {},
   "source": [
    "## 2.1 Higher harmonic effects"
   ]
  },
  {
   "cell_type": "markdown",
   "metadata": {},
   "source": [
    "Higher harmonic may come in when temperature is high and relativistic downshift effect is significant. In our test case, 3rd harmonic resonance has a finite absorption layer at the outer edge of plasma."
   ]
  },
  {
   "cell_type": "code",
   "execution_count": null,
   "metadata": {
    "collapsed": false
   },
   "outputs": [],
   "source": [
    "ece_3rd = rcp.ECE2D(plasma=p2d_uni, detector=detector, polarization='X', max_harmonic=3, max_power=3, \n",
    "                weakly_relativistic=True, isotropic=True)"
   ]
  },
  {
   "cell_type": "code",
   "execution_count": null,
   "metadata": {
    "collapsed": true
   },
   "outputs": [],
   "source": [
    "ece_3rd.set_coords([Z1D, Y1D, X1D])"
   ]
  },
  {
   "cell_type": "code",
   "execution_count": null,
   "metadata": {
    "collapsed": false
   },
   "outputs": [],
   "source": [
    "ece_3rd.diagnose(debug=True, auto_patch=True)"
   ]
  },
  {
   "cell_type": "markdown",
   "metadata": {},
   "source": [
    "We can now look at the emission pattern in X-Y plane"
   ]
  },
  {
   "cell_type": "code",
   "execution_count": null,
   "metadata": {
    "collapsed": true
   },
   "outputs": [],
   "source": [
    "emission_spot_3rd = ece_3rd.integrand_list[0]"
   ]
  },
  {
   "cell_type": "code",
   "execution_count": null,
   "metadata": {
    "collapsed": false
   },
   "outputs": [],
   "source": [
    "plt.contour(ece_3rd.X2D, ece_3rd.Y2D, np.real(emission_spot_3rd[0,:,:]), 20)\n",
    "#plt.scatter(ece_3rd.X2D, ece_3rd.Y2D, c=np.real(emission_spot_3rd[0,:,:]), s=5, linewidth=0)"
   ]
  },
  {
   "cell_type": "markdown",
   "metadata": {},
   "source": [
    "It shows that main contribution is actually from the edge 3rd harmonic resonance layer. Locations can be verified with `view_point` and `diag_x` attributes."
   ]
  },
  {
   "cell_type": "code",
   "execution_count": null,
   "metadata": {
    "collapsed": false
   },
   "outputs": [],
   "source": [
    "ece_3rd.view_point"
   ]
  },
  {
   "cell_type": "code",
   "execution_count": null,
   "metadata": {
    "collapsed": false
   },
   "outputs": [],
   "source": [
    "ece_3rd.diag_x"
   ]
  },
  {
   "cell_type": "markdown",
   "metadata": {},
   "source": [
    "This will significantly affect final result if we have a non-uniform electron temperature."
   ]
  },
  {
   "cell_type": "code",
   "execution_count": null,
   "metadata": {
    "collapsed": true
   },
   "outputs": [],
   "source": [
    "tp.set_parameter2D(Te_0=10*keV, Te_shape='Hmode', ne_shape='Hmode')\n",
    "p2d_hmode = tp.create_profile2D()\n",
    "p2d_hmode.setup_interps()"
   ]
  },
  {
   "cell_type": "code",
   "execution_count": null,
   "metadata": {
    "collapsed": false
   },
   "outputs": [],
   "source": [
    "ece3_hmode = rcp.ECE2D(plasma=p2d_hmode, detector=detector, polarization='X', max_harmonic=3, max_power=3, \n",
    "                weakly_relativistic=True, isotropic=True )"
   ]
  },
  {
   "cell_type": "code",
   "execution_count": null,
   "metadata": {
    "collapsed": false
   },
   "outputs": [],
   "source": [
    "ece3_hmode.set_coords([Z1D, Y1D, X1D])\n",
    "ece3_hmode.diagnose(auto_patch=True)"
   ]
  },
  {
   "cell_type": "code",
   "execution_count": null,
   "metadata": {
    "collapsed": false
   },
   "outputs": [],
   "source": [
    "ece3_hmode.Te/keV"
   ]
  },
  {
   "cell_type": "markdown",
   "metadata": {},
   "source": [
    "The measured Te is much smaller than the value at the aimed 2nd harmonic layer location. The actual view location is at the top of the pedestal(~ 249cm)."
   ]
  },
  {
   "cell_type": "code",
   "execution_count": null,
   "metadata": {
    "collapsed": false
   },
   "outputs": [],
   "source": [
    "print('view_point:{0}\\ndiag_x:{1}'.format(ece3_hmode.view_point, ece3_hmode.diag_x))"
   ]
  },
  {
   "cell_type": "markdown",
   "metadata": {},
   "source": [
    "The local temperatures at the view point and the center of the spot are:"
   ]
  },
  {
   "cell_type": "code",
   "execution_count": null,
   "metadata": {
    "collapsed": false
   },
   "outputs": [],
   "source": [
    "p2d_hmode.get_Te([[0,0],[ece3_hmode.view_point[2], ece3_hmode.diag_x[0][0]]])/keV"
   ]
  },
  {
   "cell_type": "markdown",
   "metadata": {},
   "source": [
    "This confirms our measured temperature is from this region."
   ]
  },
  {
   "cell_type": "markdown",
   "metadata": {},
   "source": [
    "## 2.2 Error analysis"
   ]
  },
  {
   "cell_type": "markdown",
   "metadata": {},
   "source": [
    "First, let's take a look at the error dependency on step sizes. We'll use the 2nd harmonic version, and uniform plasma in this section."
   ]
  },
  {
   "cell_type": "code",
   "execution_count": null,
   "metadata": {
    "collapsed": false
   },
   "outputs": [],
   "source": [
    "base = 4\n",
    "power_list = np.arange(5)*0.5\n",
    "err_list = np.empty_like(power_list, dtype='float')\n",
    "for i,p in enumerate(power_list):\n",
    "    step_yz = int(2**(base+p))\n",
    "    Y1D = np.linspace(-20, 20, step_yz+1)\n",
    "    Z1D = np.linspace(-20, 20, step_yz+1)\n",
    "    ece.auto_adjust_mesh(fine_coeff=2**p/4)\n",
    "    ece.set_coords([Z1D, Y1D, ece.X1D])\n",
    "    # each time set_coords is called, auto_coords_adjusted flag will be reset. \n",
    "    # Here we'll manually set it to save some time.\n",
    "    ece._auto_coords_adjusted = True\n",
    "    ece.diagnose()\n",
    "    err_list[i] = 1 - ece.Te/Te0 "
   ]
  },
  {
   "cell_type": "code",
   "execution_count": null,
   "metadata": {
    "collapsed": false
   },
   "outputs": [],
   "source": [
    "err_list"
   ]
  },
  {
   "cell_type": "code",
   "execution_count": null,
   "metadata": {
    "collapsed": false
   },
   "outputs": [],
   "source": [
    "from scipy.stats import linregress\n",
    "slope, intercept, r, p, stderr = linregress(power_list*np.log(2), np.log(np.abs(err_list)))\n",
    "x = power_list*np.log(2)\n",
    "y = np.exp(slope*x + intercept)"
   ]
  },
  {
   "cell_type": "code",
   "execution_count": null,
   "metadata": {
    "collapsed": false
   },
   "outputs": [],
   "source": [
    "slope"
   ]
  },
  {
   "cell_type": "code",
   "execution_count": null,
   "metadata": {
    "collapsed": false
   },
   "outputs": [],
   "source": [
    "plt.semilogy(x, np.abs(err_list))\n",
    "plt.semilogy(x, y, 'r')\n",
    "plt.text(x[2], 3e-3, 'slope : {0:.3}'.format(slope))\n",
    "plt.xlabel('C+log(N)')\n",
    "plt.ylabel('log(abserr)')"
   ]
  },
  {
   "cell_type": "markdown",
   "metadata": {},
   "source": [
    "The error drops as square of step size, just as expected."
   ]
  },
  {
   "cell_type": "markdown",
   "metadata": {
    "collapsed": true
   },
   "source": [
    "<!--bibtex\n",
    "\n",
    "@book{svelto2010principles,\n",
    "  title={Principles of Lasers},\n",
    "  author={Svelto, O.},\n",
    "  isbn={9781441913029},\n",
    "  lccn={2009940423},\n",
    "  url={https://books.google.com/books?id=ioywRI5W2HEC},\n",
    "  year={2010},\n",
    "  publisher={Springer US},\n",
    "  pages={153--155}\n",
    "}\n",
    "\n",
    "@misc{wiki:gaussian_beam,\n",
    "   author = \"Wikipedia\",\n",
    "   title = \"Gaussian beam --- Wikipedia{,} The Free Encyclopedia\",\n",
    "   year = \"2016\",\n",
    "   url = \"https://en.wikipedia.org/w/index.php?title=Gaussian_beam&oldid=703704493\",\n",
    "   note = \"[Online; accessed 17-March-2016]\"\n",
    " }\n",
    "\n",
    "-->"
   ]
  },
  {
   "cell_type": "markdown",
   "metadata": {},
   "source": [
    "# References\n",
    "\n",
    "<a name=\"cite-svelto2010principles\"/><sup>[^](#ref-1) </sup>Svelto, O.. 2010. _Principles of Lasers_. [URL](https://books.google.com/books?id=ioywRI5W2HEC)\n",
    "\n"
   ]
  }
 ],
 "metadata": {
  "kernelspec": {
   "display_name": "Python 2",
   "language": "python",
   "name": "python2"
  },
  "language_info": {
   "codemirror_mode": {
    "name": "ipython",
    "version": 2
   },
   "file_extension": ".py",
   "mimetype": "text/x-python",
   "name": "python",
   "nbconvert_exporter": "python",
   "pygments_lexer": "ipython2",
   "version": "2.7.11"
  }
 },
 "nbformat": 4,
 "nbformat_minor": 0
}
