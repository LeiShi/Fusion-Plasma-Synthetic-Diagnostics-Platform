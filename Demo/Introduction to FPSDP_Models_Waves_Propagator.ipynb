{
 "cells": [
  {
   "cell_type": "markdown",
   "metadata": {},
   "source": [
    "# Table of Contents\n",
    "* [1. Introduction](#1.-Introduction)\n",
    "* [2. Run](#2.-Run)\n",
    "\t* [2.1 Create test plasma](#2.1-Create-test-plasma)\n",
    "\t* [2.2 Initialize propagator](#2.2-Initialize-propagator)\n",
    "\t* [2.3 Generate incidental wave](#2.3-Generate-incidental-wave)\n",
    "\t* [2.4 Propagate](#2.4-Propagate)\n",
    "* [3. Examine the result](#3.-Examine-the-result)\n",
    "\t* [3.1 O-mode case: weak absorption](#3.1-O-mode-case:-weak-absorption)\n",
    "\t* [3.2 X-mode case: Strong absorption](#3.2-X-mode-case:-Strong-absorption)\n",
    "\t* [3.3 3rd Harmonic Resonance, relativistic down shifted frequency](#3.3-3rd-Harmonic-Resonance,-relativistic-down-shifted-frequency)\n",
    "* [4. 2D Propagator Demo](#4.-2D-Propagator-Demo)\n",
    "\t* [4.1 Benchmark with 1D propagator](#4.1-Benchmark-with-1D-propagator)\n",
    "\t\t* [4.1.1 Cold Plasma](#4.1.1-Cold-Plasma)\n",
    "\t\t* [4.1.2 Weakly Relativistic Plasma](#4.1.2-Weakly-Relativistic-Plasma)\n"
   ]
  },
  {
   "cell_type": "markdown",
   "metadata": {},
   "source": [
    "<a id='top'></a>"
   ]
  },
  {
   "cell_type": "markdown",
   "metadata": {},
   "source": [
    "# 1. Introduction"
   ]
  },
  {
   "cell_type": "markdown",
   "metadata": {},
   "source": [
    "- `FPSDP.Models.Waves.Propagator` is developed to solve electromagnetic waves propagation problem in spatially varying plasmas. Currently, it has paraxial propagators for perpendicularly incidental waves in 1D or 2D plasma profiles. The dimensionality of plasma profile means that the relevant plasma parameters (dielectric tensor elements) are varying in this many spatial dimensions. For 1D model, plasma is only changing along *x* direction, which has been chosen to be the main propagation direction. 2D plasmas change along *y* direction as well. *z* direction is always assumed to be along magnetic field, thus no magnetic shear is considered. "
   ]
  },
  {
   "cell_type": "markdown",
   "metadata": {},
   "source": [
    "- Electric field of the wave is solved using paraxial approximation, i.e. $k_x \\gg k_y,k_z$. So the total electric field is $$E(x,y,z) = E_0(x,y,z)\\exp\\left(\\pm i\\int^x k_x(x')dx'\\right)$$, where $E_0$ is called the amplitude, and $k_x$ the main wave vector. The wave equation is then solved order by order.  "
   ]
  },
  {
   "cell_type": "markdown",
   "metadata": {},
   "source": [
    "- `FPSDP.Plasma.DielectricTensor` provides several kinds of plasma dielectric tensors. \n",
    "  - `FPSDP.Plasma.DielectricTensor.ColdElectronColdIon` is the simplest model which uses cold fluid model for both electrons and ions. \n",
    "  - `FPSDP.Plasma.DielectricTensor.WarmElectronColdIon` is slightly more complex. It includes the parallel electron's pressure, which leads to a temperature correction in zz-component of the dielectric tensor. Optional cold ions\n",
    "  - `FPSDP.Plasma.DielectricTensor.HotElectronColdIon`: Electron susceptibility is using expression derived from Vlasov-Maxwell equations. The non-relativistic limit is used, so a finite $k_z$ is required. Equilibirum velocity distribution is assumed to be Maxwellian, but not necessarily isotropic. Optional cold ions.\n",
    "  - `FPSDP.Plasma.DielectricTensor.RelElectronColdIon`: Weakly relativistic electrons are used. However, we require isotropic Maxwellian distribution in this case. Both $k_z$ and $k_x$ are required. Optional cold ions."
   ]
  },
  {
   "cell_type": "markdown",
   "metadata": {},
   "source": [
    "- Incidental wave patterns can be generated using classes in `FPSDP.Maths.LightBeam`. Currently, only Gaussian beams are provided.\n",
    "  - `FPSDP.Maths.LightBeam.GaussianBeam` is initialized with the following parameters:\n",
    "    ```\n",
    "    :param float wave_length: the wave length :math:`\\lambda`\n",
    "    :param float waist_x: The x' coordinate of waist location in Lab frame\n",
    "    :param float waist_y: The y' coordinate of waist location in Lab frame \n",
    "    :param float waist_z: The z' coordinate of waist location in Lab frame\n",
    "                          (Optional, Default to be 0)  \n",
    "    :param float tilt_v: the tilt-angle in vertical plane in radian. 0 is \n",
    "                         defined as along negative x' axis, and tilt_y>0 if \n",
    "                         the beam is tilted upwards, i.e. towards positive \n",
    "                         y' direction.\n",
    "                         (Optional, Default to be 0)\n",
    "    :param float tilt_h: the tilt-angle in x'-z' plane in radian. 0 is defined \n",
    "                         as along negative x' axis, and tilt_z>0 if the beam\n",
    "                         is tilted upwards, i.e. towards positive z' direction\n",
    "                         (Optional, Default to be 0)\n",
    "    :param float rotation: (Optional Default to be 0) \n",
    "                           the rotated angle of the elliptic Gaussian. It is \n",
    "                           defined as the angle between local y axis and lab y'\n",
    "                           axis if local z axis has been rotated to align with\n",
    "                           lab -x' axis. This angle is the tilted angle of the\n",
    "                           ellipse in the transvers plane. \n",
    "    :param float w_0y: waist width in the vertical-like direction (eventually \n",
    "                       aligns with y' axis)\n",
    "    :param float w_0z: waist width in the horizontal-like direction (eventually\n",
    "                       aligns with z' axis) (Optional, default to be same as \n",
    "                       w_0y)  \n",
    "    :param complex E0: The complex amplitude at beam frame origin\n",
    "                       (Optional, default is 1)\n",
    "    :param float P_total: The total power of the beam. Optional, if given, *E0*\n",
    "                          argument will be ignored. The amplitude of the beam\n",
    "                          will be determined by P_total. \n",
    "    ```\n",
    "  - The `GaussianBeam` object is callable, calling it with a set of coordinates will return beam's electric field at these coordinates."
   ]
  },
  {
   "cell_type": "markdown",
   "metadata": {},
   "source": [
    "[top](#top)"
   ]
  },
  {
   "cell_type": "markdown",
   "metadata": {},
   "source": [
    "<a id='section2'></a>"
   ]
  },
  {
   "cell_type": "markdown",
   "metadata": {},
   "source": [
    "# 2. Run"
   ]
  },
  {
   "cell_type": "markdown",
   "metadata": {},
   "source": [
    "<a id='section2.1'></a>"
   ]
  },
  {
   "cell_type": "markdown",
   "metadata": {},
   "source": [
    "## 2.1 Create test plasma"
   ]
  },
  {
   "cell_type": "markdown",
   "metadata": {},
   "source": [
    "Now we'll set up a scenario and demostrate the use of these packages. First, we import all the useful modules and prepare the test plasma."
   ]
  },
  {
   "cell_type": "code",
   "execution_count": null,
   "metadata": {
    "collapsed": false
   },
   "outputs": [],
   "source": [
    "import numpy as np\n",
    "import matplotlib.pyplot as plt\n",
    "import pylab\n",
    "%matplotlib inline\n",
    "\n",
    "import FPSDP.Plasma.Analytical_Profiles.TestParameter as tp\n",
    "import FPSDP.Maths.LightBeam as lb\n",
    "import FPSDP.Models.Waves.Propagator as prop\n",
    "import FPSDP.Plasma.DielectricTensor as dt\n",
    "from FPSDP.GeneralSettings.UnitSystem import cgs\n",
    "\n",
    "pylab.rcParams['figure.figsize'] = (10.0, 8.0)\n",
    "pylab.rcParams['font.size'] = 20\n",
    "\n",
    "tp.set_parameter1D(Te_0=10*cgs['keV'])\n",
    "p1d = tp.create_profile1D(True, 0)\n",
    "p1d.setup_interps()"
   ]
  },
  {
   "cell_type": "markdown",
   "metadata": {},
   "source": [
    "A purely random fluctuation can be generated at each location if the first parameter of `create_profile1D` function is True, with the relative amplitude set in the second paramter, which is 0 here."
   ]
  },
  {
   "cell_type": "markdown",
   "metadata": {},
   "source": [
    "Let us take a look at the profile we created. It is a very simple linear profile just for test use. "
   ]
  },
  {
   "cell_type": "code",
   "execution_count": null,
   "metadata": {
    "collapsed": false
   },
   "outputs": [],
   "source": [
    "print p1d"
   ]
  },
  {
   "cell_type": "markdown",
   "metadata": {},
   "source": [
    "Note that we only have electron profiles, so no ions will be added. Since we are gonna use waves with electron cyclotron frequency range, we don't expect ions contribute much to the dielectric tensor. "
   ]
  },
  {
   "cell_type": "code",
   "execution_count": null,
   "metadata": {
    "collapsed": false
   },
   "outputs": [],
   "source": [
    "plt.plot(p1d.grid.X1D, p1d.ne0)"
   ]
  },
  {
   "cell_type": "code",
   "execution_count": null,
   "metadata": {
    "collapsed": false
   },
   "outputs": [],
   "source": [
    "plt.plot(p1d.grid.X1D, p1d.Te0)"
   ]
  },
  {
   "cell_type": "code",
   "execution_count": null,
   "metadata": {
    "collapsed": false
   },
   "outputs": [],
   "source": [
    "plt.plot(p1d.grid.X1D, p1d.B0)"
   ]
  },
  {
   "cell_type": "markdown",
   "metadata": {},
   "source": [
    "Note that all quantities are in Gaussian unit, and temperature has a unit of energy, which is erg. "
   ]
  },
  {
   "cell_type": "markdown",
   "metadata": {},
   "source": [
    "[top](#top)"
   ]
  },
  {
   "cell_type": "markdown",
   "metadata": {},
   "source": [
    "<a id='section2.2'></a>"
   ]
  },
  {
   "cell_type": "markdown",
   "metadata": {},
   "source": [
    "## 2.2 Initialize propagator"
   ]
  },
  {
   "cell_type": "code",
   "execution_count": null,
   "metadata": {
    "collapsed": false
   },
   "outputs": [],
   "source": [
    "propagator1d = prop.ParaxialPerpendicularPropagator1D(plasma = p1d, \n",
    "                                                      dielectric_class = dt.RelElectronColdIon, \n",
    "                                                      polarization = 'O', \n",
    "                                                      direction = -1,\n",
    "                                                      max_harmonic = 2,\n",
    "                                                      max_power = 2)"
   ]
  },
  {
   "cell_type": "markdown",
   "metadata": {},
   "source": [
    "A detailed description can be found in the docstring of the class. \n",
    "Several remarks:\n",
    "- dielectric_class: In addition to the models mentioned before, one can create any kind of dielectric models based on the existing susceptibility models.\n",
    "- polarization: either 'O' or 'X'. We solve the propagation based on the 0th order solution of a purely perpendicular cold plasma wave, it has two branches, which are refered to as 'O-mode' and 'X-mode'.\n",
    "- direction: either 1 or -1. 1 means propagate along positive x direction, -1 means along negative x direction.\n",
    "- max\\_harmonic and max\\_power: these are parameters only used in hot plasma models. max\\_harmonic controls the highest harmonic number included in dielectric tensor. max\\_power determines up to which power of $\\lambda \\equiv k_\\perp^2\\rho_e^2$ terms are kept. "
   ]
  },
  {
   "cell_type": "markdown",
   "metadata": {},
   "source": [
    "[top](#top)"
   ]
  },
  {
   "cell_type": "markdown",
   "metadata": {},
   "source": [
    "<a id='section2.3'></a>"
   ]
  },
  {
   "cell_type": "markdown",
   "metadata": {},
   "source": [
    "## 2.3 Generate incidental wave"
   ]
  },
  {
   "cell_type": "code",
   "execution_count": null,
   "metadata": {
    "collapsed": false
   },
   "outputs": [],
   "source": [
    "y_min, y_max = -20, 20\n",
    "z_min, z_max = -20, 20\n",
    "ny = 64\n",
    "nz = 64\n",
    "start_plane = tp.Grid.Cartesian2D(DownLeft=(z_min,y_min), UpRight=(z_max,y_max), \n",
    "                                  NR=ny, NZ=nz)\n",
    "x_start = 250\n",
    "x_end = 150\n",
    "nx = 100\n",
    "\n",
    "Z2D,Y2D = start_plane.get_ndmesh()            \n",
    "X2D = np.ones_like(Y2D)*x_start\n",
    "\n",
    "omega = 8e11\n",
    "wave_length = 2*np.pi*3e10/omega\n",
    "gb = lb.GaussianBeam(wave_length, waist_x=280, waist_y=0, w_0y=3, tilt_h=np.pi/36, P_total=1)\n",
    "\n",
    "E_start = gb([Z2D, Y2D, X2D])\n",
    "\n",
    "Z1D, Y1D = start_plane.get_mesh()"
   ]
  },
  {
   "cell_type": "markdown",
   "metadata": {},
   "source": [
    "- The incidental electric field must be on a regular uniformly spaced 2D mesh. A easy way to create the mesh is through `FPSDP.Geometry.Grid.Cartesian2D` class, and then use its `get_ndmesh()` method. Note that the default order of coordinates is (Z,R). \n",
    "- The `X2D` coordinates is needed because `GaussianBeam` assumes unstructured points in 3D space, a 2D plane of y-z will have all the same x-coordinate. \n",
    "- `x_start, x_end, nx` are used in propagating function. They determines the range of propagation and the steps in x.\n",
    "- `Z1D, Y1D` are needed when pass the incidental field into the propagator, since a structured mesh is required, only 1D arrays are needed. "
   ]
  },
  {
   "cell_type": "markdown",
   "metadata": {},
   "source": [
    "[top](#top)"
   ]
  },
  {
   "cell_type": "markdown",
   "metadata": {},
   "source": [
    "<a id='section2.4'></a>"
   ]
  },
  {
   "cell_type": "markdown",
   "metadata": {},
   "source": [
    "## 2.4 Propagate"
   ]
  },
  {
   "cell_type": "code",
   "execution_count": null,
   "metadata": {
    "collapsed": false
   },
   "outputs": [],
   "source": [
    "E = propagator1d.propagate(omega, x_start, x_end, nx, E_start, \n",
    "                         Y1D, Z1D, time=0, mute=False)"
   ]
  },
  {
   "cell_type": "markdown",
   "metadata": {},
   "source": [
    "- Propagate function requires the following arguments:\n",
    "  - `omega`: the frequency of the wave\n",
    "  - `x_start, x_end, nx`: the start, end coordinates in x, and it will be devided into `nx` increments, so total `nx+1` grid points. Alternatively, a keyword argument `x_coords` is acceptable, it should be a 1D array of x coordinates monotonically increasing or decreasing, doesn't need to be uniform.\n",
    "  - `E_start, Y1D, Z1D`: the incidental wave field, 2D complex array, and the Y, Z, coordinates associated with it. The array should be in the shape (NZ, NY).\n",
    "  - `time`: Optional, int, specify the time step in plasma fluctuation data to use. If not given, only equilibrium plasma is used.\n",
    "- The return value is the electric field on 3D mesh. The Y-Z mesh extended along x direction as determined by `x_start, x_end, nx` or `x_coords`. The shape will be (NZ, NY, NX).\n",
    "- In addition to the wave field, more information about the propagation process can be found in `propagator1d` object. "
   ]
  },
  {
   "cell_type": "markdown",
   "metadata": {},
   "source": [
    "[top](#top)"
   ]
  },
  {
   "cell_type": "markdown",
   "metadata": {},
   "source": [
    "<a id='section3'></a>"
   ]
  },
  {
   "cell_type": "markdown",
   "metadata": {},
   "source": [
    "# 3. Examine the result"
   ]
  },
  {
   "cell_type": "markdown",
   "metadata": {},
   "source": [
    "<a id='section3.1'></a>"
   ]
  },
  {
   "cell_type": "markdown",
   "metadata": {},
   "source": [
    "## 3.1 O-mode case: weak absorption"
   ]
  },
  {
   "cell_type": "markdown",
   "metadata": {},
   "source": [
    "First, let's take a look at the electric field."
   ]
  },
  {
   "cell_type": "code",
   "execution_count": null,
   "metadata": {
    "collapsed": false
   },
   "outputs": [],
   "source": [
    "plt.imshow(np.abs(E[:,ny/2,:]), extent=[x_start, x_end, z_min, z_max], origin='lower')\n",
    "plt.xlabel('X')\n",
    "plt.ylabel('Z')"
   ]
  },
  {
   "cell_type": "code",
   "execution_count": null,
   "metadata": {
    "collapsed": false
   },
   "outputs": [],
   "source": [
    "plt.imshow(np.abs(E[nz/2,:,:]), extent=[x_start, x_end, z_min, z_max], origin='lower')\n",
    "plt.xlabel('X')\n",
    "plt.ylabel('Y')"
   ]
  },
  {
   "cell_type": "markdown",
   "metadata": {},
   "source": [
    "Since we generated a Gaussian beam focussing at x=280, y=0, z=0 (0 was the default value for `waist_z`), propagating at 5 degree tilted horizontally, with a waist width of 3cm. The propagation result looks reasonable. We can quickly check the divergence of the beam using the properties provided in GaussianBeam:"
   ]
  },
  {
   "cell_type": "code",
   "execution_count": null,
   "metadata": {
    "collapsed": false
   },
   "outputs": [],
   "source": [
    "gb.reighlay_range"
   ]
  },
  {
   "cell_type": "code",
   "execution_count": null,
   "metadata": {
    "collapsed": false
   },
   "outputs": [],
   "source": [
    "gb.divergence"
   ]
  },
  {
   "cell_type": "markdown",
   "metadata": {},
   "source": [
    "An interesting phenomenon we see above, is that the wave amplitude decays at the very end of the propagation range. This is due to the 2nd harmonic electron cyclotron resonance. We can check this is indeed happening by ploting the summed amplitude of the wave along central Y:(In order to plot along negative x direction, we set $x=-x$)"
   ]
  },
  {
   "cell_type": "code",
   "execution_count": null,
   "metadata": {
    "collapsed": false
   },
   "outputs": [],
   "source": [
    "X1D = -propagator1d.x_coords\n",
    "plt.plot(X1D, np.abs(propagator1d.power_flow))\n",
    "plt.title('Total Power Flow 1D Omode')\n",
    "plt.ylabel('P_total (erg/s)')\n",
    "plt.xlabel('-X (cm)')"
   ]
  },
  {
   "cell_type": "markdown",
   "metadata": {},
   "source": [
    "We can also check the anti-Hermitian part of the dielectric tensor, the relevant element is $\\epsilon_{zz}$."
   ]
  },
  {
   "cell_type": "code",
   "execution_count": null,
   "metadata": {
    "collapsed": false
   },
   "outputs": [],
   "source": [
    "plt.plot(X1D, np.imag(propagator1d.deps[2,2,28,0,:]))\n",
    "plt.ylabel('$Im\\epsilon_{zz}$')"
   ]
  },
  {
   "cell_type": "markdown",
   "metadata": {},
   "source": [
    "Let's also check this happens at the second harmonic resonance location."
   ]
  },
  {
   "cell_type": "code",
   "execution_count": null,
   "metadata": {
    "collapsed": false
   },
   "outputs": [],
   "source": [
    "x_coords = propagator1d.x_coords\n",
    "B = p1d.get_B([x_coords])\n",
    "c = cgs['c']\n",
    "me = cgs['m_e']\n",
    "e = cgs['e']\n",
    "\n",
    "omega_c = e*B/(me*c)\n",
    "\n",
    "plt.plot(X1D, 2*omega_c)\n",
    "plt.plot(X1D, np.ones_like(X1D)*omega)\n",
    "plt.plot(X1D, 3*omega_c)"
   ]
  },
  {
   "cell_type": "markdown",
   "metadata": {},
   "source": [
    "The cross point between blue and green line is the cold 2nd harmonic resonance, we can see that it is exactly where the absorption starts. We also plot the 3rd harmonic for later reference. It can be seen that at the edge, the 3rd harmonic is pretty close to our frequency, relativistic down shift effects may actually cause 3rd harmonic resonance to happen there. We will check that later. First, let's try the X mode.  "
   ]
  },
  {
   "cell_type": "markdown",
   "metadata": {},
   "source": [
    "[top](#top)"
   ]
  },
  {
   "cell_type": "markdown",
   "metadata": {},
   "source": [
    "<a id='section3.2'></a>"
   ]
  },
  {
   "cell_type": "markdown",
   "metadata": {},
   "source": [
    "## 3.2 X-mode case: Strong absorption"
   ]
  },
  {
   "cell_type": "markdown",
   "metadata": {},
   "source": [
    "If we look at other components of the dielectric tensor, we will see that X mode may have a much stronger absorption."
   ]
  },
  {
   "cell_type": "code",
   "execution_count": null,
   "metadata": {
    "collapsed": false
   },
   "outputs": [],
   "source": [
    "plt.plot(X1D, np.imag(propagator1d.deps[0,0,28,0,:]))"
   ]
  },
  {
   "cell_type": "markdown",
   "metadata": {},
   "source": [
    "The amplitude is 100 times larger than that in O mode."
   ]
  },
  {
   "cell_type": "markdown",
   "metadata": {},
   "source": [
    "Then, let's have a try. The only thing we need to do, is create a new propagator for X mode."
   ]
  },
  {
   "cell_type": "code",
   "execution_count": null,
   "metadata": {
    "collapsed": false
   },
   "outputs": [],
   "source": [
    "propagator1dX = prop.ParaxialPerpendicularPropagator1D(plasma = p1d, \n",
    "                                                      dielectric_class = dt.RelElectronColdIon, \n",
    "                                                      polarization = 'X', \n",
    "                                                      direction = -1,\n",
    "                                                      max_harmonic = 2,\n",
    "                                                      max_power = 2)"
   ]
  },
  {
   "cell_type": "code",
   "execution_count": null,
   "metadata": {
    "collapsed": false
   },
   "outputs": [],
   "source": [
    "E_X = propagator1dX.propagate(omega, x_start, x_end, nx, E_start, Y1D, Z1D, time=0, mute=False)"
   ]
  },
  {
   "cell_type": "code",
   "execution_count": null,
   "metadata": {
    "collapsed": false
   },
   "outputs": [],
   "source": [
    "plt.imshow(np.abs(E_X[:,ny/2,:]), extent=[x_start, x_end, z_min, z_max], origin='lower')\n",
    "plt.xlabel('X')\n",
    "plt.ylabel('Z')"
   ]
  },
  {
   "cell_type": "code",
   "execution_count": null,
   "metadata": {
    "collapsed": false
   },
   "outputs": [],
   "source": [
    "plt.plot(X1D, np.abs(propagator1dX.power_flow))\n",
    "plt.title('Total Power Flow 1D Xmode')\n",
    "plt.ylabel('P_total (erg/s)')\n",
    "plt.xlabel('-X (cm)')"
   ]
  },
  {
   "cell_type": "markdown",
   "metadata": {},
   "source": [
    "As we can see, the wave gets absorbed completely in several centimeters. "
   ]
  },
  {
   "cell_type": "markdown",
   "metadata": {},
   "source": [
    "[top](#top)"
   ]
  },
  {
   "cell_type": "markdown",
   "metadata": {},
   "source": [
    "<a id='section3.3'></a>"
   ]
  },
  {
   "cell_type": "markdown",
   "metadata": {},
   "source": [
    "## 3.3 3rd Harmonic Resonance, relativistic down shifted frequency"
   ]
  },
  {
   "cell_type": "markdown",
   "metadata": {},
   "source": [
    "As we see in the frequency plot, 3rd harmonic frequency is very close to our wave frequency at the very beginning part of the propagation. The model we used above didn't include the 3rd harmonic effects because we set `max_harmonic` paramter to 2. Now, let's try to investigate the 3rd harmonic effects."
   ]
  },
  {
   "cell_type": "markdown",
   "metadata": {},
   "source": [
    "First, create a propagator with higher harmonics enabled. "
   ]
  },
  {
   "cell_type": "markdown",
   "metadata": {},
   "source": [
    "> Note that right now, the dielectric tensor elements are evaluated from its original formula in real time. This involves evaluating the weakly relativistic plasma dispersion function $\\mathcal{F}_q(\\phi,\\psi)$ a lot of times. The total evaluation complexity goes roughly as $n^3$, with n being the maximum harmonic. So, going above n=3 will be **very** time consuming. An optimization will be applied to this issue. A pre-calculated look-up table will be used for interpolation.  "
   ]
  },
  {
   "cell_type": "code",
   "execution_count": null,
   "metadata": {
    "collapsed": false
   },
   "outputs": [],
   "source": [
    "propagator1dX_3 = prop.ParaxialPerpendicularPropagator1D(plasma = p1d, \n",
    "                                                      dielectric_class = dt.RelElectronColdIon, \n",
    "                                                      polarization = 'X', \n",
    "                                                      direction = -1,\n",
    "                                                      max_harmonic = 3,\n",
    "                                                      max_power = 3)"
   ]
  },
  {
   "cell_type": "markdown",
   "metadata": {},
   "source": [
    "> Another note about the `max_power` parameter. Right now, since the lowest order $\\lambda$ in zz component for n-th harmonic is n. So `max_power` is required to be larger than `max_harmonic`. If it's given a smaller value, it will be automatically changed to `max_harmonic`. However, this might not be the desired behavior. Because, for X modes, zz-component doesn't play a very important role, and in xx, xy, and yy components, the leading order is actually n-1. So, it might be useful to allow user to set `max_power` = `max_harmonic`-1 for X mode propagations."
   ]
  },
  {
   "cell_type": "code",
   "execution_count": null,
   "metadata": {
    "collapsed": false
   },
   "outputs": [],
   "source": [
    "EX_3 = propagator1dX_3.propagate(omega, x_start, x_end, nx, E_start, Y1D, Z1D, time=0, mute=False)"
   ]
  },
  {
   "cell_type": "code",
   "execution_count": null,
   "metadata": {
    "collapsed": false
   },
   "outputs": [],
   "source": [
    "kz_max_idx = int(80.0*nz*28/((z_max-z_min)*256))\n",
    "plt.plot(X1D, np.imag(propagator1dX_3.deps[0,0,kz_max_idx,0,:]))"
   ]
  },
  {
   "cell_type": "markdown",
   "metadata": {},
   "source": [
    "We can indeed see a small tail of 3rd order harmonic resonance extended in our propagation range."
   ]
  },
  {
   "cell_type": "code",
   "execution_count": null,
   "metadata": {
    "collapsed": false
   },
   "outputs": [],
   "source": [
    "plt.imshow(np.abs(EX_3[:,127,:]), extent=[x_start, x_end, z_min, z_max], origin='lower')"
   ]
  },
  {
   "cell_type": "code",
   "execution_count": null,
   "metadata": {
    "collapsed": false
   },
   "outputs": [],
   "source": [
    "plt.plot(X1D, np.abs(propagator1dX_3.power_flow))"
   ]
  },
  {
   "cell_type": "markdown",
   "metadata": {},
   "source": [
    "It indeed has a large impact on our wave. Almost half of the energy has been absorbed through the 3rd harmonic resonance. This is also bad for locality of ECEI measurements. "
   ]
  },
  {
   "cell_type": "markdown",
   "metadata": {},
   "source": [
    "[top](#top)"
   ]
  },
  {
   "cell_type": "markdown",
   "metadata": {},
   "source": [
    "<a id='section4'></a>"
   ]
  },
  {
   "cell_type": "markdown",
   "metadata": {},
   "source": [
    "# 4. 2D Propagator Demo"
   ]
  },
  {
   "cell_type": "markdown",
   "metadata": {},
   "source": [
    "<a id='section4.1'></a>"
   ]
  },
  {
   "cell_type": "markdown",
   "metadata": {},
   "source": [
    "## 4.1 Benchmark with 1D propagator"
   ]
  },
  {
   "cell_type": "markdown",
   "metadata": {},
   "source": [
    "Now, we move on to use the 2D paraxial propagator. First, let's run a benchmark case and show that 2D propagator can recover 1D result in a 1D plasma."
   ]
  },
  {
   "cell_type": "code",
   "execution_count": null,
   "metadata": {
    "collapsed": false
   },
   "outputs": [],
   "source": [
    "import FPSDP.Plasma.Analytical_Profiles.TestParameter as tp\n",
    "from FPSDP.Maths.LightBeam import GaussianBeam as gb\n",
    "\n",
    "tp.set_parameter1D(Te_0=10*cgs['keV'])\n",
    "tp.set_parameter2D(Te_0=10*cgs['keV'])\n",
    "\n",
    "y_min = -10\n",
    "y_max = 10\n",
    "ny = 65\n",
    "z_min = -10\n",
    "z_max = 10\n",
    "nz = 64\n",
    "\n",
    "start_plane = tp.Grid.Cartesian2D(DownLeft=(z_min, y_min), UpRight=(z_max, y_max), \n",
    "                                  NR=ny, NZ=nz)\n",
    "x_start = 250\n",
    "x_end = 150\n",
    "nx = 100\n",
    "\n",
    "Z1D, Y1D = start_plane.get_mesh()\n",
    "Z2D,Y2D = start_plane.get_ndmesh()            \n",
    "X2D = np.ones_like(Y2D)*x_start\n",
    "\n",
    "omega = 8e11\n",
    "\n",
    "# In order see the diffraction effacts in y direction more clearly, we \n",
    "# intentionally use a strongly diverging beam, and do not tilt the beam\n",
    "# in z direction this time.\n",
    "gb = lb.GaussianBeam(2*np.pi*3e10/omega, 260, 0, 1, tilt_h=0, P_total=1)\n",
    "\n",
    "E_start = gb([Z2D, Y2D, X2D])"
   ]
  },
  {
   "cell_type": "markdown",
   "metadata": {},
   "source": [
    "Note that we use a strongly diverging beam here to exagerate the diffraction effect in y direction."
   ]
  },
  {
   "cell_type": "code",
   "execution_count": null,
   "metadata": {
    "collapsed": false
   },
   "outputs": [],
   "source": [
    "gb.reighlay_range, gb.divergence"
   ]
  },
  {
   "cell_type": "markdown",
   "metadata": {},
   "source": [
    "In order to do the benchmark, we need a 1D plasma on 2D mesh. This can be done by calling `FPSDP.Plasma.Analytical_Profiles.TestParameter.simulate_1D` function. This function receives 2 parameters, first a 1D plasma profile, second a 2D Grid. Then, the function will generate plasma quantities on the 2D grid using the given 1D data. Plamsa will be uniform along the extra dimension."
   ]
  },
  {
   "cell_type": "code",
   "execution_count": null,
   "metadata": {
    "collapsed": false
   },
   "outputs": [],
   "source": [
    "p1d = tp.create_profile1D(True, 0)\n",
    "p1d.setup_interps()\n",
    "grid2d = tp.Grid.Cartesian2D(DownLeft=(-60, 150), UpRight=(60, 300), NR=301, NZ=193)\n",
    "p2d_sim = tp.simulate_1D(p1d, grid2d)\n",
    "p2d_sim.setup_interps()"
   ]
  },
  {
   "cell_type": "markdown",
   "metadata": {},
   "source": [
    "### 4.1.1 Cold Plasma"
   ]
  },
  {
   "cell_type": "markdown",
   "metadata": {},
   "source": [
    "First, let's take a look at cold plasma results."
   ]
  },
  {
   "cell_type": "markdown",
   "metadata": {},
   "source": [
    "Initializing a 2D propagator is almost the same as initializing a 1D one. Only one additional parameter is needed: `ray_y`. This parameter specifies the `y` value of the estimated center of ray. The code will take cold dielectric along this central ray as the zeroth order dielectric tensor. "
   ]
  },
  {
   "cell_type": "code",
   "execution_count": null,
   "metadata": {
    "collapsed": false
   },
   "outputs": [],
   "source": [
    "propagator1d = prop.ParaxialPerpendicularPropagator1D(p1d, \n",
    "                                                      dt.ColdElectronColdIon, \n",
    "                                                      'X', \n",
    "                                                      direction=-1)\n",
    "propagator2d_uni = prop.ParaxialPerpendicularPropagator2D(p2d_sim, \n",
    "                                                      dt.ColdElectronColdIon,\n",
    "                                                      'X',\n",
    "                                                      direction=-1,\n",
    "                                                      ray_y=0)"
   ]
  },
  {
   "cell_type": "code",
   "execution_count": null,
   "metadata": {
    "collapsed": false,
    "scrolled": false
   },
   "outputs": [],
   "source": [
    "E1 = propagator1d.propagate(omega, x_start, x_end, nx, E_start, \n",
    "                            Y1D, Z1D, mute=False)"
   ]
  },
  {
   "cell_type": "code",
   "execution_count": null,
   "metadata": {
    "collapsed": false
   },
   "outputs": [],
   "source": [
    "E2_uni = propagator2d_uni.propagate(omega, x_start, x_end, nx, E_start, \n",
    "                             Y1D, Z1D, mute=False)"
   ]
  },
  {
   "cell_type": "code",
   "execution_count": null,
   "metadata": {
    "collapsed": false
   },
   "outputs": [],
   "source": [
    "plt.figure()\n",
    "plt.imshow(np.abs(E1[nz/2, :, :]), extent=[x_start, x_end, y_min, y_max], origin='lower', \n",
    "           aspect=np.abs((x_end-x_start)/(y_max-y_min)))\n",
    "plt.xlabel('X (cm)')\n",
    "plt.ylabel('Y (cm)')\n",
    "plt.title('1D Cold')\n",
    "plt.colorbar()"
   ]
  },
  {
   "cell_type": "code",
   "execution_count": null,
   "metadata": {
    "collapsed": false
   },
   "outputs": [],
   "source": [
    "plt.figure()\n",
    "plt.imshow(np.abs(E2_uni[nz/2, :, :]), extent=[x_start, x_end, y_min, y_max], origin='lower', \n",
    "           aspect=np.abs((x_end-x_start)/(y_max-y_min)))\n",
    "plt.xlabel('X (cm)')\n",
    "plt.ylabel('Y (cm)')\n",
    "plt.title('Uniform 2D Cold')\n",
    "plt.colorbar()"
   ]
  },
  {
   "cell_type": "markdown",
   "metadata": {},
   "source": [
    "> Several remarks:\n",
    "- We intentionally chose a beam that is diverging strongly. The Reighlay Length is 13.33cm. \n",
    "- Be careful with diverging beams. If the beam touches the upper or lower boundary, we may see interferance patterns as shown above. These are artificial result because we used Fourier Transform to evolve `k_y` related phase terms, this approach essentially assumed periodic boundary condition on y direction. So, for strongly diverging beams, the \"phantom\" beams from adjacent regions may come into our calculation area and create these interferance patterns. We need to enlarge the calculation range to eliminate them."
   ]
  },
  {
   "cell_type": "markdown",
   "metadata": {},
   "source": [
    "From the benchmark point of view, 2D result is in good agreement with the 1D result. The absolute and relative error can be calculated:"
   ]
  },
  {
   "cell_type": "code",
   "execution_count": null,
   "metadata": {
    "collapsed": false
   },
   "outputs": [],
   "source": [
    "abs_err = E2_uni - E1\n",
    "# we choose where E1 is larger than 0.001 of its maximum value to calculate the relative error, so we don't\n",
    "# need to worry about dividing zero problem.\n",
    "rel_idx = np.abs(E1)>1e-3*np.max(np.abs(E1))\n",
    "rel_err = abs_err[rel_idx]/np.abs(E1[rel_idx])\n",
    "print('max |E|: {}\\nmax absolute error: {}\\nmax relative error: {}'.format(np.max(np.abs(E1)), \n",
    "                                                                           np.max(np.abs(abs_err)), \n",
    "                                                                           np.max(np.abs(rel_err))) )"
   ]
  },
  {
   "cell_type": "markdown",
   "metadata": {},
   "source": [
    "This error is due to different step size in `x` when integrating main phase $\\int^x k_0(x')dx'$. 2D propagator has an `x` grid twice as dense as the 1D propagator, because internally, it separates each step into two steps to evolve phase due to `y` direction inhomogeneity and `k_y` diffraction. "
   ]
  },
  {
   "cell_type": "markdown",
   "metadata": {},
   "source": [
    "A benchmark function `benchmark_1d2d` is contained in `FPSDP.scripts.unit_tests.test_Propagator` to track the absolute and relative error between 1D and 2D propagator results as a function of step size in `x`. "
   ]
  },
  {
   "cell_type": "code",
   "execution_count": null,
   "metadata": {
    "collapsed": false
   },
   "outputs": [],
   "source": [
    "from FPSDP.scripts.unit_tests.test_Propagator import benchmark_1d2d\n",
    "abs_err_c, rel_err_c, nx_array_c, x_stepsize_c = benchmark_1d2d(nx_power_min=3, nx_power_max=10, nx_step=1, mode='X')"
   ]
  },
  {
   "cell_type": "markdown",
   "metadata": {},
   "source": [
    "We can then plot the absolute error and relative error as function of step size in `x`. Here, we plot them in logrithm scales and provide the linear regression results."
   ]
  },
  {
   "cell_type": "code",
   "execution_count": null,
   "metadata": {
    "collapsed": false
   },
   "outputs": [],
   "source": [
    "from scipy.stats import linregress\n",
    "slope_abs_c, intercept_abs_c, r_abs_c, p_abs_c, stderr_abs_c = linregress(np.log(x_stepsize_c), np.log(abs_err_c))\n",
    "y_abs_c = np.exp(intercept_abs_c) * x_stepsize_c**slope_abs_c\n",
    "slope_rel_c, intercept_rel_c, r_rel_c, p_rel_c, stderr_rel_c = linregress(np.log(x_stepsize_c), np.log(rel_err_c))\n",
    "y_rel_c = np.exp(intercept_rel_c) * x_stepsize_c**slope_rel_c"
   ]
  },
  {
   "cell_type": "code",
   "execution_count": null,
   "metadata": {
    "collapsed": false,
    "scrolled": false
   },
   "outputs": [],
   "source": [
    "plt.figure()\n",
    "plt.loglog(x_stepsize_c, abs_err_c)\n",
    "plt.loglog(x_stepsize_c, y_abs_c, 'r-')\n",
    "plt.xlabel('$\\Delta x$ (cm)')\n",
    "plt.ylabel('max($|\\Delta E|$) (a.u.)')\n",
    "plt.title('Absolute Error Between 1D and 2D')\n",
    "plt.text(2, 1e-9, 'slope:  {:.3}'.format(slope_abs_c))"
   ]
  },
  {
   "cell_type": "code",
   "execution_count": null,
   "metadata": {
    "collapsed": false
   },
   "outputs": [],
   "source": [
    "plt.figure()\n",
    "plt.loglog(x_stepsize_c, rel_err_c)\n",
    "plt.loglog(x_stepsize_c, y_rel_c, 'r-')\n",
    "plt.xlabel('$\\Delta x$ (cm)')\n",
    "plt.ylabel('max($|\\Delta E|/|E1|$) (a.u.)')\n",
    "plt.title('Relative Error Between 1D and 2D')\n",
    "plt.text(2, 1e-3, 'slope:  {:.3}'.format(slope_rel_c))"
   ]
  },
  {
   "cell_type": "markdown",
   "metadata": {},
   "source": [
    "The absolute error and relative error both go roughly as $o(\\Delta x^2)$ as we expected. This is a good sign of consistency between our 1D and 2D propagator results."
   ]
  },
  {
   "cell_type": "markdown",
   "metadata": {},
   "source": [
    "### 4.1.2 Weakly Relativistic Plasma"
   ]
  },
  {
   "cell_type": "markdown",
   "metadata": {},
   "source": [
    "Similarly, we'll quickly show benchmark results using relativistic dielectric tensors."
   ]
  },
  {
   "cell_type": "code",
   "execution_count": null,
   "metadata": {
    "collapsed": false
   },
   "outputs": [],
   "source": [
    "propagator1d_r = prop.ParaxialPerpendicularPropagator1D(p1d, \n",
    "                                                       dt.RelElectronColdIon, \n",
    "                                                       'X', \n",
    "                                                       direction=-1,\n",
    "                                                       max_harmonic=2,\n",
    "                                                       max_power=2)\n",
    "propagator2d_r_uni = prop.ParaxialPerpendicularPropagator2D(p2d_sim, \n",
    "                                                           dt.RelElectronColdIon,\n",
    "                                                           'X',\n",
    "                                                           direction=-1,\n",
    "                                                           ray_y=0,\n",
    "                                                           max_harmonic=2,\n",
    "                                                           max_power=2)"
   ]
  },
  {
   "cell_type": "code",
   "execution_count": null,
   "metadata": {
    "collapsed": false,
    "scrolled": true
   },
   "outputs": [],
   "source": [
    "E1_r = propagator1d_r.propagate(omega, x_start, x_end, nx, E_start, \n",
    "                            Y1D, Z1D, mute=False)"
   ]
  },
  {
   "cell_type": "code",
   "execution_count": null,
   "metadata": {
    "collapsed": false,
    "scrolled": false
   },
   "outputs": [],
   "source": [
    "E2_r_uni = propagator2d_r_uni.propagate(omega, x_start, x_end, nx, E_start, \n",
    "                             Y1D, Z1D, mute=False)"
   ]
  },
  {
   "cell_type": "code",
   "execution_count": null,
   "metadata": {
    "collapsed": false,
    "scrolled": false
   },
   "outputs": [],
   "source": [
    "plt.figure()\n",
    "plt.imshow(np.abs(E1_r[nz/2, :, :]), extent=[x_start, x_end, y_min, y_max], origin='lower', \n",
    "           aspect=np.abs((x_end-x_start)/(y_max-y_min)))\n",
    "plt.xlabel('X (cm)')\n",
    "plt.ylabel('Y (cm)')\n",
    "plt.title('1D Weakly Relativistic')\n",
    "plt.colorbar()"
   ]
  },
  {
   "cell_type": "code",
   "execution_count": null,
   "metadata": {
    "collapsed": false,
    "scrolled": false
   },
   "outputs": [],
   "source": [
    "plt.figure()\n",
    "plt.imshow(np.abs(E2_r_uni[nz/2, :, :]), extent=[x_start, x_end, y_min, y_max], origin='lower',\n",
    "          aspect=np.abs((x_end-x_start)/(y_max-y_min)))\n",
    "plt.xlabel('X (cm)')\n",
    "plt.ylabel('Y (cm)')\n",
    "plt.title('Uniform 2D Weakly Relativistic')\n",
    "plt.colorbar()"
   ]
  },
  {
   "cell_type": "code",
   "execution_count": null,
   "metadata": {
    "collapsed": false
   },
   "outputs": [],
   "source": [
    "abs_err = E2_r_uni - E1_r\n",
    "rel_idx = np.abs(E1_r)>1e-3*np.max(np.abs(E1_r))\n",
    "rel_err = abs_err[rel_idx]/np.abs(E1_r[rel_idx])\n",
    "print('max |E|: {}\\nmax absolute error: {}\\nmax relative error: {}'.format(np.max(np.abs(E1_r)), \n",
    "                                                                           np.max(np.abs(abs_err)), \n",
    "                                                                           np.max(np.abs(rel_err))) )"
   ]
  },
  {
   "cell_type": "code",
   "execution_count": null,
   "metadata": {
    "collapsed": false
   },
   "outputs": [],
   "source": [
    "from FPSDP.scripts.unit_tests.test_Propagator import benchmark_1d2d\n",
    "abs_err_r, rel_err_r, nx_array_r, x_stepsize_r = benchmark_1d2d(nx_power_min=3, nx_power_max=9, nx_step=1, mode='X', \n",
    "                                                        dielectric=dt.RelElectronColdIon, max_harmonic=2,\n",
    "                                                       max_power=2)"
   ]
  },
  {
   "cell_type": "code",
   "execution_count": null,
   "metadata": {
    "collapsed": false
   },
   "outputs": [],
   "source": [
    "from scipy.stats import linregress\n",
    "slope_abs_r, intercept_abs_r, r_abs_r, p_abs_r, stderr_abs_r = linregress(np.log(x_stepsize_r), np.log(abs_err_r))\n",
    "y_abs_r = np.exp(intercept_abs_r) * x_stepsize_r**slope_abs_r\n",
    "slope_rel_r, intercept_rel_r, r_rel_r, p_rel_r, stderr_rel_r = linregress(np.log(x_stepsize_r), np.log(rel_err_r))\n",
    "y_rel_r = np.exp(intercept_rel_r) * x_stepsize_r**slope_rel_r"
   ]
  },
  {
   "cell_type": "code",
   "execution_count": null,
   "metadata": {
    "collapsed": false,
    "scrolled": false
   },
   "outputs": [],
   "source": [
    "plt.figure()\n",
    "plt.loglog(x_stepsize_r, abs_err_r)\n",
    "plt.loglog(x_stepsize_r, y_abs_r, 'r-')\n",
    "plt.xlabel('$\\Delta x$ (cm)')\n",
    "plt.ylabel('max($|\\Delta E|$) (a.u.)')\n",
    "plt.title('Absolute Error Between 1D and 2D')\n",
    "plt.text(2, 1e-9, 'slope:  {:.3}'.format(slope_abs_r))"
   ]
  },
  {
   "cell_type": "code",
   "execution_count": null,
   "metadata": {
    "collapsed": true
   },
   "outputs": [],
   "source": []
  }
 ],
 "metadata": {
  "kernelspec": {
   "display_name": "Python 2",
   "language": "python",
   "name": "python2"
  },
  "language_info": {
   "codemirror_mode": {
    "name": "ipython",
    "version": 2
   },
   "file_extension": ".py",
   "mimetype": "text/x-python",
   "name": "python",
   "nbconvert_exporter": "python",
   "pygments_lexer": "ipython2",
   "version": "2.7.11"
  }
 },
 "nbformat": 4,
 "nbformat_minor": 0
}
